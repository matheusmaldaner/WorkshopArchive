{
  "nbformat": 4,
  "nbformat_minor": 0,
  "metadata": {
    "colab": {
      "provenance": []
    },
    "kernelspec": {
      "name": "ir",
      "display_name": "R"
    },
    "language_info": {
      "name": "R"
    }
  },
  "cells": [
    {
      "cell_type": "markdown",
      "source": [
        "# Section Links\n",
        "\n",
        "Quick Links to Today's Activities:\n",
        "\n",
        "- Activity 1: [Working with Data](#scrollTo=2u875JjJlFxN&line=1&uniqifier=1)\n",
        "- Activity 2: [Making a Monte Carlo Simulation](#scrollTo=E0Lg8OCWy82A&line=1&uniqifier=1)"
      ],
      "metadata": {
        "id": "WiyffB54_lT3"
      }
    },
    {
      "cell_type": "markdown",
      "source": [
        "\n",
        "Quick Links to Informational Sections:\n",
        "1. [Getting Started With R & RStudio](#scrollTo=1dszKJExx5Af)\n",
        "2. [Installing and Loading Packages](#scrollTo=RbkiMDede3SZ)\n",
        "3. [Help and Documentation](#scrollTo=Ox7t20vdyTzr)\n",
        "4. [Data Types](#scrollTo=3aw1VJv3yBU4)\n",
        "5. [Data Structures](#scrollTo=TIpKLsr7yF0n)\n",
        "6. [Vector and List Operations](#scrollTo=SFPqn9t3r5U4)\n",
        "7. [Data Frame Operations](#scrollTo=XxBKVbZLyvIh)\n",
        "8. [Importing / Exporting Data](#scrollTo=Gb_Swe5Qyx3W)\n",
        "9. [Mathematical and Statistical Functions](#scrollTo=W7fXOQIry2ur)\n",
        "10. [Iteration and Selection](#scrollTo=ggWAogriy4aD)\n",
        "11. [Defining Functions](#scrollTo=DHEUwDKOENVd)\n",
        "12. [Packages and the Tidyverse](#scrollTo=dpTDzqnQ9CZ0)"
      ],
      "metadata": {
        "id": "wdRqVWRufaUN"
      }
    },
    {
      "cell_type": "markdown",
      "source": [
        "# Getting Started With R and RStudio\n",
        "\n",
        "---\n",
        "\n"
      ],
      "metadata": {
        "id": "1dszKJExx5Af"
      }
    },
    {
      "cell_type": "markdown",
      "source": [
        "Note: This is not strictly required for this workshop as Google Colab can run R code without installing R itself or RStudio. However, if you plan on using R in the future I highly recommend downloading these softwares as described below. Also, documentation panes do not show up very well in Colab, so if you want to use the documentation (I show how to in [this section](#scrollTo=Ox7t20vdyTzr)) please download R and RStudio!\n",
        "\n",
        "**Step 1: Installing R (If You Don't Already Have It)**\n",
        "\n",
        "1. Go to https://posit.co/download/rstudio-desktop/\n",
        "2. Click on the button \"DOWNLOAD AND INSTALL R\"\n",
        "3. The first three links on this page are the download links for R; please click on the correct link for your OS\n",
        "4. The page you see next differs depending on which OS download link you click, but generally one of the first few links on these pages will be the R installer\n",
        "5. Once you have the R installer just follow the setup wizard\n",
        "\n",
        "\n",
        "\n",
        "\n",
        "**Step 1: Installing RStudio (If You Don't Already Have It)**\n",
        "\n",
        "1. Go to https://posit.co/download/rstudio-desktop/\n",
        "2. Scroll just below where it says \"All Installers and Tarballs\" and you will see a bunch of download links to RStudio for different OS\n",
        "3. Click on the correct download link for your OS and follow the setup wizard\n",
        "\n"
      ],
      "metadata": {
        "id": "AHEFteRpUAiR"
      }
    },
    {
      "cell_type": "markdown",
      "source": [
        "# Installing and Loading Packages\n",
        "\n",
        "---"
      ],
      "metadata": {
        "id": "RbkiMDede3SZ"
      }
    },
    {
      "cell_type": "markdown",
      "source": [
        "The heart of R (and why so many data scientists use it) lies in its **immense** amount of packages. Since this workshop is an introduction, I will not be going over many packages but its still very valuable to know how to install and use them!"
      ],
      "metadata": {
        "id": "lU_etg2fe8TL"
      }
    },
    {
      "cell_type": "code",
      "source": [
        "#To install packages in R, use the install.packages() function and remember to put the name of the package in \"quotes\"!\n",
        "install.packages(\"tidyverse\")\n",
        "install.packages(\"ggplot2\")\n",
        "\n",
        "#NOTE: To change the default location of package installs use the function libPaths(); please read the documentation for how to do this"
      ],
      "metadata": {
        "colab": {
          "base_uri": "https://localhost:8080/"
        },
        "id": "L2s-fpHofSdM",
        "outputId": "e70f414a-62fc-4fc8-9340-12cff9d67a8a"
      },
      "execution_count": null,
      "outputs": [
        {
          "output_type": "stream",
          "name": "stderr",
          "text": [
            "Installing package into ‘/usr/local/lib/R/site-library’\n",
            "(as ‘lib’ is unspecified)\n",
            "\n",
            "Installing package into ‘/usr/local/lib/R/site-library’\n",
            "(as ‘lib’ is unspecified)\n",
            "\n"
          ]
        }
      ]
    },
    {
      "cell_type": "markdown",
      "source": [
        "We can also choose where install.packages installing the package to by specifying the parameter `lib` like so:\n",
        "\n",
        "```\n",
        "install.packages(\"ggplot2\", lib = \"path_name_here\")\n",
        "```\n"
      ],
      "metadata": {
        "id": "kBN8_PJMI12x"
      }
    },
    {
      "cell_type": "markdown",
      "source": [
        "If we want to check which packages we have installed, we can use the following function with no arguments:\n",
        "\n",
        "\n",
        "\n",
        "```\n",
        "installed.packages()\n",
        "```\n",
        "\n",
        "I did not run this function in the code above because trust me the output for it is **HUGE**!\n"
      ],
      "metadata": {
        "id": "X_i4SGByJMER"
      }
    },
    {
      "cell_type": "markdown",
      "source": [
        "Loading packages in R is pretty easy too:"
      ],
      "metadata": {
        "id": "3G6jLzHvg8HS"
      }
    },
    {
      "cell_type": "code",
      "source": [
        "#Load in an installed package using the function library(); keep in mind the package must be installed before using library()\n",
        "library(ggplot2)\n",
        "\n",
        "#You can check which packages you have loaded in using the function search()\n",
        "search() #you should be able to 'package:ggplot2' somewhere in this output"
      ],
      "metadata": {
        "colab": {
          "base_uri": "https://localhost:8080/",
          "height": 52
        },
        "id": "MCFeLE8OhBRU",
        "outputId": "2e656a7e-fb03-45fb-a259-5c805adc0291"
      },
      "execution_count": null,
      "outputs": [
        {
          "output_type": "display_data",
          "data": {
            "text/html": [
              "<style>\n",
              ".list-inline {list-style: none; margin:0; padding: 0}\n",
              ".list-inline>li {display: inline-block}\n",
              ".list-inline>li:not(:last-child)::after {content: \"\\00b7\"; padding: 0 .5ex}\n",
              "</style>\n",
              "<ol class=list-inline><li>'.GlobalEnv'</li><li>'package:lubridate'</li><li>'package:forcats'</li><li>'package:stringr'</li><li>'package:dplyr'</li><li>'package:purrr'</li><li>'package:readr'</li><li>'package:tidyr'</li><li>'package:tibble'</li><li>'package:tidyverse'</li><li>'package:ggplot2'</li><li>'jupyter:irkernel'</li><li>'package:stats'</li><li>'package:graphics'</li><li>'package:grDevices'</li><li>'package:utils'</li><li>'package:datasets'</li><li>'package:methods'</li><li>'Autoloads'</li><li>'package:base'</li></ol>\n"
            ],
            "text/markdown": "1. '.GlobalEnv'\n2. 'package:lubridate'\n3. 'package:forcats'\n4. 'package:stringr'\n5. 'package:dplyr'\n6. 'package:purrr'\n7. 'package:readr'\n8. 'package:tidyr'\n9. 'package:tibble'\n10. 'package:tidyverse'\n11. 'package:ggplot2'\n12. 'jupyter:irkernel'\n13. 'package:stats'\n14. 'package:graphics'\n15. 'package:grDevices'\n16. 'package:utils'\n17. 'package:datasets'\n18. 'package:methods'\n19. 'Autoloads'\n20. 'package:base'\n\n\n",
            "text/latex": "\\begin{enumerate*}\n\\item '.GlobalEnv'\n\\item 'package:lubridate'\n\\item 'package:forcats'\n\\item 'package:stringr'\n\\item 'package:dplyr'\n\\item 'package:purrr'\n\\item 'package:readr'\n\\item 'package:tidyr'\n\\item 'package:tibble'\n\\item 'package:tidyverse'\n\\item 'package:ggplot2'\n\\item 'jupyter:irkernel'\n\\item 'package:stats'\n\\item 'package:graphics'\n\\item 'package:grDevices'\n\\item 'package:utils'\n\\item 'package:datasets'\n\\item 'package:methods'\n\\item 'Autoloads'\n\\item 'package:base'\n\\end{enumerate*}\n",
            "text/plain": [
              " [1] \".GlobalEnv\"        \"package:lubridate\" \"package:forcats\"  \n",
              " [4] \"package:stringr\"   \"package:dplyr\"     \"package:purrr\"    \n",
              " [7] \"package:readr\"     \"package:tidyr\"     \"package:tibble\"   \n",
              "[10] \"package:tidyverse\" \"package:ggplot2\"   \"jupyter:irkernel\" \n",
              "[13] \"package:stats\"     \"package:graphics\"  \"package:grDevices\"\n",
              "[16] \"package:utils\"     \"package:datasets\"  \"package:methods\"  \n",
              "[19] \"Autoloads\"         \"package:base\"     "
            ]
          },
          "metadata": {}
        }
      ]
    },
    {
      "cell_type": "markdown",
      "source": [
        "## Note on Object Masking"
      ],
      "metadata": {
        "id": "MHP_P4AiBL3C"
      }
    },
    {
      "cell_type": "markdown",
      "source": [
        "Masking is when two or more packages contain objects that have the same name but R must make a decision about which one to use, so it uses the functionality of the one from the **most recently loaded package**.\n",
        "\n",
        "Go to [this section](#scrollTo=dpTDzqnQ9CZ0) for an example of masking conflicts.\n",
        "\n",
        "If we wish to use a function specifically from one package (and not want to deal with any potential masking conflicts), we can type the following:\n",
        "\n",
        "\n",
        "\n",
        "```\n",
        "package_name::function_name()\n",
        "\n",
        "#For example, if we want the filter() function from package dplyr, we would do:\n",
        "\n",
        "dplyr::filter()\n",
        "```\n",
        "\n",
        "This will tell R to specifically search that package for that function in it. Please note that if you want to use a function specifically from base R you can type the following:\n",
        "\n",
        "\n",
        "```\n",
        "base::function_name()\n",
        "```\n",
        "\n",
        "\n"
      ],
      "metadata": {
        "id": "Lzit1gCpBQST"
      }
    },
    {
      "cell_type": "markdown",
      "source": [
        "# Getting Help and Documentation\n",
        "---"
      ],
      "metadata": {
        "id": "Ox7t20vdyTzr"
      }
    },
    {
      "cell_type": "markdown",
      "source": [
        "## Accessing Docs"
      ],
      "metadata": {
        "id": "htvmusUnb8Cs"
      }
    },
    {
      "cell_type": "markdown",
      "source": [
        "If you ever want to see exactly how a function works (whether it be the logic it uses, its default arguments, its full parameter list, etc.), R has a very easy and intuitive way to do that! Just type `?` before the function or object name like so:"
      ],
      "metadata": {
        "id": "u9XOXj8bMC7Q"
      }
    },
    {
      "cell_type": "code",
      "source": [
        "#Getting documentation for the mean() function\n",
        "?mean\n",
        "\n",
        "#This ? syntax actually works on many objects in R and even packages! This is getting documentation for the package bookdown\n",
        "?bookdown"
      ],
      "metadata": {
        "id": "d0w0XckjNCtZ"
      },
      "execution_count": null,
      "outputs": []
    },
    {
      "cell_type": "markdown",
      "source": [
        "It is important to note that ?object_name will only search for documentation of objects in your *loaded* packages.\n",
        "\n",
        "If you are ever unsure of the exact name of the function you need documentation for or want to search for an object that is not in your loaded packages but in your *installed* packages, use `??` like so:"
      ],
      "metadata": {
        "id": "gJq59gQzOLaG"
      }
    },
    {
      "cell_type": "code",
      "source": [
        "#Let's say I forgot the name of the function as.integer() but I knew it started with as.int\n",
        "#I could do the following to generally search for documentation that has the phrase \"as.int\" somewhere in it\n",
        "??as.int\n",
        "\n",
        "#Or let's say I want some documentation on the package ggplot2 and I have it installed but I don't have it loaded in\n",
        "??ggplot2"
      ],
      "metadata": {
        "id": "5aOL0Ln5Ptzp"
      },
      "execution_count": null,
      "outputs": []
    },
    {
      "cell_type": "markdown",
      "source": [
        "For the purposes of the workshop, I will only be mentioning function parameters that I feel are most important and necessary but please feel free to use the documentation to experiment with other function parameters! Learning to use documentation effectively is a true sign of a good programmer!\n",
        "\n",
        "Also please be aware that documentation panes in Google Colab are a bit wonky. I recommend downloading RStudio and using these functions so they show up better."
      ],
      "metadata": {
        "id": "SXsISQ5fRTuW"
      }
    },
    {
      "cell_type": "markdown",
      "source": [
        "## Viewing Objects"
      ],
      "metadata": {
        "id": "fd3RwWdEcCn5"
      }
    },
    {
      "cell_type": "markdown",
      "source": [
        "One last note, you can use the function `View(object_name)` (yes, with a capital V) to view the inner-workings of a function. Please note that most of the time the result of View is quite unhelpful especially for super basic built-in functions such as `mean()` and `as.integer()`.\n",
        "\n",
        "Most of the time you will be using `View()` on objects you have in your environment such as data frames, vectors, lists, etc.\n"
      ],
      "metadata": {
        "id": "QTNq9IofcGm8"
      }
    },
    {
      "cell_type": "code",
      "source": [
        "#You can see here that using the View() function on the function as.integer() doesn't really produce an informative output :(\n",
        "View(as.integer)"
      ],
      "metadata": {
        "colab": {
          "base_uri": "https://localhost:8080/",
          "height": 227
        },
        "id": "Me5pjcIBSB0F",
        "outputId": "0219b56a-f345-43fb-c026-903694a739b7"
      },
      "execution_count": null,
      "outputs": [
        {
          "output_type": "display_data",
          "data": {
            "text/plain": [
              "function (x, ...)  .Primitive(\"as.integer\")"
            ],
            "text/html": [
              "<pre class=language-r><code>.Primitive(\"as.integer\")</code></pre>"
            ],
            "text/markdown": "```r\n.Primitive(\"as.integer\")\n```",
            "text/latex": "\\begin{minted}{r}\n.Primitive(\"as.integer\")\n\\end{minted}"
          },
          "metadata": {}
        },
        {
          "output_type": "display_data",
          "data": {
            "text/plain": [
              " [1]  1  2  3  4  5  6  7  8  9 10"
            ],
            "text/html": [
              "<style>\n",
              ".list-inline {list-style: none; margin:0; padding: 0}\n",
              ".list-inline>li {display: inline-block}\n",
              ".list-inline>li:not(:last-child)::after {content: \"\\00b7\"; padding: 0 .5ex}\n",
              "</style>\n",
              "<ol class=list-inline><li>1</li><li>2</li><li>3</li><li>4</li><li>5</li><li>6</li><li>7</li><li>8</li><li>9</li><li>10</li></ol>\n"
            ],
            "text/markdown": "1. 1\n2. 2\n3. 3\n4. 4\n5. 5\n6. 6\n7. 7\n8. 8\n9. 9\n10. 10\n\n\n",
            "text/latex": "\\begin{enumerate*}\n\\item 1\n\\item 2\n\\item 3\n\\item 4\n\\item 5\n\\item 6\n\\item 7\n\\item 8\n\\item 9\n\\item 10\n\\end{enumerate*}\n"
          },
          "metadata": {}
        },
        {
          "output_type": "display_data",
          "data": {
            "text/plain": [
              "  column_1           column_2\n",
              "1 first observation  134     \n",
              "2 second observation  66     \n",
              "3 third observation   89     "
            ],
            "text/html": [
              "<table class=\"dataframe\">\n",
              "<caption>A data.frame: 3 × 2</caption>\n",
              "<thead>\n",
              "\t<tr><th scope=col>column_1</th><th scope=col>column_2</th></tr>\n",
              "\t<tr><th scope=col>&lt;chr&gt;</th><th scope=col>&lt;dbl&gt;</th></tr>\n",
              "</thead>\n",
              "<tbody>\n",
              "\t<tr><td>first observation </td><td>134</td></tr>\n",
              "\t<tr><td>second observation</td><td> 66</td></tr>\n",
              "\t<tr><td>third observation </td><td> 89</td></tr>\n",
              "</tbody>\n",
              "</table>\n"
            ],
            "text/markdown": "\nA data.frame: 3 × 2\n\n| column_1 &lt;chr&gt; | column_2 &lt;dbl&gt; |\n|---|---|\n| first observation  | 134 |\n| second observation |  66 |\n| third observation  |  89 |\n\n",
            "text/latex": "A data.frame: 3 × 2\n\\begin{tabular}{ll}\n column\\_1 & column\\_2\\\\\n <chr> & <dbl>\\\\\n\\hline\n\t first observation  & 134\\\\\n\t second observation &  66\\\\\n\t third observation  &  89\\\\\n\\end{tabular}\n"
          },
          "metadata": {}
        }
      ]
    },
    {
      "cell_type": "code",
      "source": [
        "#But we can use the View() function to get a good idea of how our data structures look; this is especially useful for looking at data frames!\n",
        "test_vector <- c(1,2,3,4,5,6,7,8,9,10)\n",
        "test_df <- data.frame(column_1=c(\"first observation\", \"second observation\", \"third observation\"),column_2=c(134,66,89))\n",
        "View(test_vector)\n",
        "View(test_df)"
      ],
      "metadata": {
        "colab": {
          "base_uri": "https://localhost:8080/",
          "height": 210
        },
        "id": "cP8nJH5om03I",
        "outputId": "ad87d9ea-6593-4a63-b5ea-63eb71d67b61"
      },
      "execution_count": null,
      "outputs": [
        {
          "output_type": "display_data",
          "data": {
            "text/plain": [
              " [1]  1  2  3  4  5  6  7  8  9 10"
            ],
            "text/html": [
              "<style>\n",
              ".list-inline {list-style: none; margin:0; padding: 0}\n",
              ".list-inline>li {display: inline-block}\n",
              ".list-inline>li:not(:last-child)::after {content: \"\\00b7\"; padding: 0 .5ex}\n",
              "</style>\n",
              "<ol class=list-inline><li>1</li><li>2</li><li>3</li><li>4</li><li>5</li><li>6</li><li>7</li><li>8</li><li>9</li><li>10</li></ol>\n"
            ],
            "text/markdown": "1. 1\n2. 2\n3. 3\n4. 4\n5. 5\n6. 6\n7. 7\n8. 8\n9. 9\n10. 10\n\n\n",
            "text/latex": "\\begin{enumerate*}\n\\item 1\n\\item 2\n\\item 3\n\\item 4\n\\item 5\n\\item 6\n\\item 7\n\\item 8\n\\item 9\n\\item 10\n\\end{enumerate*}\n"
          },
          "metadata": {}
        },
        {
          "output_type": "display_data",
          "data": {
            "text/plain": [
              "  column_1           column_2\n",
              "1 first observation  134     \n",
              "2 second observation  66     \n",
              "3 third observation   89     "
            ],
            "text/html": [
              "<table class=\"dataframe\">\n",
              "<caption>A data.frame: 3 × 2</caption>\n",
              "<thead>\n",
              "\t<tr><th scope=col>column_1</th><th scope=col>column_2</th></tr>\n",
              "\t<tr><th scope=col>&lt;chr&gt;</th><th scope=col>&lt;dbl&gt;</th></tr>\n",
              "</thead>\n",
              "<tbody>\n",
              "\t<tr><td>first observation </td><td>134</td></tr>\n",
              "\t<tr><td>second observation</td><td> 66</td></tr>\n",
              "\t<tr><td>third observation </td><td> 89</td></tr>\n",
              "</tbody>\n",
              "</table>\n"
            ],
            "text/markdown": "\nA data.frame: 3 × 2\n\n| column_1 &lt;chr&gt; | column_2 &lt;dbl&gt; |\n|---|---|\n| first observation  | 134 |\n| second observation |  66 |\n| third observation  |  89 |\n\n",
            "text/latex": "A data.frame: 3 × 2\n\\begin{tabular}{ll}\n column\\_1 & column\\_2\\\\\n <chr> & <dbl>\\\\\n\\hline\n\t first observation  & 134\\\\\n\t second observation &  66\\\\\n\t third observation  &  89\\\\\n\\end{tabular}\n"
          },
          "metadata": {}
        }
      ]
    },
    {
      "cell_type": "markdown",
      "source": [
        "# Data Types in R\n",
        "---"
      ],
      "metadata": {
        "id": "3aw1VJv3yBU4"
      }
    },
    {
      "cell_type": "markdown",
      "source": [
        "The most basic units of data in R are called \"atomic data types\" (for those of us who are familiar with other languages, you can think of these as primitives). There are six atomic data types in R:\n",
        "\n",
        "1. Logical\n",
        "2. Integer\n",
        "3. Numeric (also known as Double)\n",
        "4. Character\n",
        "5. Complex\n",
        "6. Raw\n",
        "\n",
        "For today's workshop, we are only going to pay attention to the first 4 data types though:\n",
        "\n",
        "* **Logical**: `TRUE`, `FALSE`, or `NA`\n",
        "\n",
        "* **Integer**: To define an integer you type a number with no decimal point follow by an `L` like `3L` or `134L`\n",
        "\n",
        "* **Numeric / Double**: This is what most of your data will be stored as; it includes numbers with decimal places and even those without such as `3.4` or `3`; if you type just a number (no decimal) but not followed by an `L`, it will be stored as a double type NOT integer!\n",
        "\n",
        "* **Character**: These include singular characters such as `\"a\"` or multiple characters together such as `\"ant\"`; to define a character you must type \"something sandwiched between quotes like this\""
      ],
      "metadata": {
        "id": "f7RbAAujYd3O"
      }
    },
    {
      "cell_type": "markdown",
      "source": [
        "## Logical"
      ],
      "metadata": {
        "id": "d6R985p354GZ"
      }
    },
    {
      "cell_type": "code",
      "source": [
        "#Logical Data\n",
        "logical_data1 <- TRUE\n",
        "logical_data2 <- FALSE\n",
        "logical_data3 <- NA #NA is used usually as a \"placeholder\" variable in R for data not currently avaliable; it can also be used when debugging missing data"
      ],
      "metadata": {
        "id": "sH9LHJkWaTXl"
      },
      "execution_count": null,
      "outputs": []
    },
    {
      "cell_type": "markdown",
      "source": [
        "## Integer"
      ],
      "metadata": {
        "id": "OpN8RgFC55t6"
      }
    },
    {
      "cell_type": "code",
      "source": [
        "#Integer Data\n",
        "integer_data1 <- 3L\n",
        "#R will not let you define an integer with the L syntax when the number has a decimal; it will make it into a double\n",
        "integer_data_wrong <- 3.4L\n",
        "typeof(integer_data_wrong) #returns double not integer!"
      ],
      "metadata": {
        "colab": {
          "base_uri": "https://localhost:8080/",
          "height": 34
        },
        "id": "4Cakp_2nm-Bi",
        "outputId": "3febca4a-557f-4992-9f45-34a53fee4749"
      },
      "execution_count": null,
      "outputs": [
        {
          "output_type": "display_data",
          "data": {
            "text/html": [
              "'double'"
            ],
            "text/markdown": "'double'",
            "text/latex": "'double'",
            "text/plain": [
              "[1] \"double\""
            ]
          },
          "metadata": {}
        }
      ]
    },
    {
      "cell_type": "markdown",
      "source": [
        "## Numeric / Double"
      ],
      "metadata": {
        "id": "XbOvKPy657kr"
      }
    },
    {
      "cell_type": "code",
      "source": [
        "#Numeric / Double Data\n",
        "double_data1 <- 3\n",
        "double_data2 <- 3.4"
      ],
      "metadata": {
        "id": "jXdEqe06nADh"
      },
      "execution_count": null,
      "outputs": []
    },
    {
      "cell_type": "markdown",
      "source": [
        "## Character"
      ],
      "metadata": {
        "id": "UaIR5WTo585v"
      }
    },
    {
      "cell_type": "code",
      "source": [
        "#Character Data\n",
        "character_data1 <- \"a\"\n",
        "character_data2 <- \"abc@gmail.com + 123@yahoo.com\""
      ],
      "metadata": {
        "id": "hPjyj1rPnBWk"
      },
      "execution_count": null,
      "outputs": []
    },
    {
      "cell_type": "markdown",
      "source": [
        "## Note on Variable Assignment"
      ],
      "metadata": {
        "id": "mBTPeTZ05-FD"
      }
    },
    {
      "cell_type": "code",
      "source": [
        "#Just a little note: you can define variables using = in R, it's just not the standard / recommended\n",
        "#This is because = is used to pass in argument values into specific parameters of functions (if you are familiar with Python this works like keyword arguments)\n",
        "assigning_w_equals = 300L\n",
        "assigning_w_equals = \"see you can do it, it's just not recommended!\""
      ],
      "metadata": {
        "id": "45fJIxgFnDO2"
      },
      "execution_count": null,
      "outputs": []
    },
    {
      "cell_type": "markdown",
      "source": [
        "## Automatic Type Conversion"
      ],
      "metadata": {
        "id": "ZffO2DIsJaqn"
      }
    },
    {
      "cell_type": "markdown",
      "source": [
        "R is admittedly pretty terrible when it comes to type conversion because it tends to do it a lot without asking (or telling) you. As you can imagine, this is pretty bad in terms of debugging :(\n",
        "\n",
        "\n",
        "In general, R has the following hierarchy, ordered from lowest to highest, for implicit (automatic) type conversions:\n",
        "\n",
        "1. Logical\n",
        "2. Integer\n",
        "3. Numeric / Double\n",
        "4. Complex\n",
        "5. Character\n",
        "\n",
        "What this means is that when R encounters a mix of types and needs to convert it all to a singular type (like in the case of making a vector which we will see next), it will always choose to convert things to the \"highest hierarchy\" type."
      ],
      "metadata": {
        "id": "x_zYRrCVJjZF"
      }
    },
    {
      "cell_type": "code",
      "source": [
        "#Spoiler for the next section on vectors! Come back here after you read the next bit on vectors and this will make more sense!\n",
        "\n",
        "implicit_converted_vector <- c(TRUE,\"implicit conversion is sometimes good, sometimes bad\")\n",
        "print(typeof(implicit_converted_vector)) #it coerced the logical to character here because character is \"higher\" in the hierarchy\n",
        "\n",
        "implicit_converted_vector1 <- c(1L, 3+5i)\n",
        "print(typeof(implicit_converted_vector1)) #you can see it coerced the integer to complex\n",
        "\n",
        "implicit_converted_vector2 <- c(TRUE,3L,1.4,3i,\"highest in hierarchy!\")\n",
        "print(typeof(implicit_converted_vector2)) #you can see it coerced everything to character because it is the highest in the hierarchy of all the elements"
      ],
      "metadata": {
        "colab": {
          "base_uri": "https://localhost:8080/"
        },
        "id": "dT2oktGQKddJ",
        "outputId": "5a2d13d4-9936-4096-c39c-7d919e703b38"
      },
      "execution_count": null,
      "outputs": [
        {
          "output_type": "stream",
          "name": "stdout",
          "text": [
            "[1] \"character\"\n",
            "[1] \"complex\"\n",
            "[1] \"character\"\n"
          ]
        }
      ]
    },
    {
      "cell_type": "markdown",
      "source": [
        "## Explicit Type Conversion"
      ],
      "metadata": {
        "id": "xohZjml0cKQt"
      }
    },
    {
      "cell_type": "markdown",
      "source": [
        "We can also choose to convert from type to type using the following functions. Please read the documentation for specifics on what data types each of these functions accept and how they do the conversion \"behind the scenes\"."
      ],
      "metadata": {
        "id": "GlG8g8WScMHU"
      }
    },
    {
      "cell_type": "code",
      "source": [
        "#To convert to integer we use as.integer()\n",
        "as.integer(3.7) #will truncate decimal place (no rounding, just cut it off)\n",
        "as.integer(TRUE)\n",
        "as.integer(\"30\")"
      ],
      "metadata": {
        "colab": {
          "base_uri": "https://localhost:8080/",
          "height": 69
        },
        "id": "cY5i9uDLcP3d",
        "outputId": "2fa668cd-d654-4464-89d4-bd3ee7f0f68c"
      },
      "execution_count": null,
      "outputs": [
        {
          "output_type": "display_data",
          "data": {
            "text/html": [
              "3"
            ],
            "text/markdown": "3",
            "text/latex": "3",
            "text/plain": [
              "[1] 3"
            ]
          },
          "metadata": {}
        },
        {
          "output_type": "display_data",
          "data": {
            "text/html": [
              "1"
            ],
            "text/markdown": "1",
            "text/latex": "1",
            "text/plain": [
              "[1] 1"
            ]
          },
          "metadata": {}
        },
        {
          "output_type": "display_data",
          "data": {
            "text/html": [
              "30"
            ],
            "text/markdown": "30",
            "text/latex": "30",
            "text/plain": [
              "[1] 30"
            ]
          },
          "metadata": {}
        }
      ]
    },
    {
      "cell_type": "code",
      "source": [
        "#To convert to numeric / double we use as.numeric()\n",
        "as.numeric(3L)\n",
        "as.numeric(FALSE)\n",
        "as.numeric(\"3.1415\")"
      ],
      "metadata": {
        "colab": {
          "base_uri": "https://localhost:8080/",
          "height": 69
        },
        "id": "0RTS6nipc60p",
        "outputId": "f78ba32f-149e-443c-de1b-d256d00726d4"
      },
      "execution_count": null,
      "outputs": [
        {
          "output_type": "display_data",
          "data": {
            "text/html": [
              "3"
            ],
            "text/markdown": "3",
            "text/latex": "3",
            "text/plain": [
              "[1] 3"
            ]
          },
          "metadata": {}
        },
        {
          "output_type": "display_data",
          "data": {
            "text/html": [
              "0"
            ],
            "text/markdown": "0",
            "text/latex": "0",
            "text/plain": [
              "[1] 0"
            ]
          },
          "metadata": {}
        },
        {
          "output_type": "display_data",
          "data": {
            "text/html": [
              "3.1415"
            ],
            "text/markdown": "3.1415",
            "text/latex": "3.1415",
            "text/plain": [
              "[1] 3.1415"
            ]
          },
          "metadata": {}
        }
      ]
    },
    {
      "cell_type": "code",
      "source": [
        "#To convert to character we use as.character()\n",
        "as.character(3L)\n",
        "as.character(3.14)\n",
        "as.character(TRUE)"
      ],
      "metadata": {
        "colab": {
          "base_uri": "https://localhost:8080/",
          "height": 69
        },
        "id": "qAPbNnpIdS8w",
        "outputId": "5eb01641-76f2-4339-e8ad-ab7b715d6d36"
      },
      "execution_count": null,
      "outputs": [
        {
          "output_type": "display_data",
          "data": {
            "text/html": [
              "'3'"
            ],
            "text/markdown": "'3'",
            "text/latex": "'3'",
            "text/plain": [
              "[1] \"3\""
            ]
          },
          "metadata": {}
        },
        {
          "output_type": "display_data",
          "data": {
            "text/html": [
              "'3.14'"
            ],
            "text/markdown": "'3.14'",
            "text/latex": "'3.14'",
            "text/plain": [
              "[1] \"3.14\""
            ]
          },
          "metadata": {}
        },
        {
          "output_type": "display_data",
          "data": {
            "text/html": [
              "'TRUE'"
            ],
            "text/markdown": "'TRUE'",
            "text/latex": "'TRUE'",
            "text/plain": [
              "[1] \"TRUE\""
            ]
          },
          "metadata": {}
        }
      ]
    },
    {
      "cell_type": "code",
      "source": [
        "#To convert to logical / boolean we use as.logical()\n",
        "as.logical(40L)\n",
        "as.logical(0) #zero is interpreted as FALSE and everything other number is interpretted as TRUE\n",
        "as.logical(\"FALSE\")\n",
        "as.logical(2.71)\n",
        "as.logical(\"string\") #if you do this, R won't know whether to interpret this as TRUE or FALSE, so it will return NA instead"
      ],
      "metadata": {
        "colab": {
          "base_uri": "https://localhost:8080/",
          "height": 104
        },
        "id": "9rVAA7dKdapJ",
        "outputId": "c114ea39-b5b8-45de-f40e-73d87dbd042b"
      },
      "execution_count": null,
      "outputs": [
        {
          "output_type": "display_data",
          "data": {
            "text/html": [
              "TRUE"
            ],
            "text/markdown": "TRUE",
            "text/latex": "TRUE",
            "text/plain": [
              "[1] TRUE"
            ]
          },
          "metadata": {}
        },
        {
          "output_type": "display_data",
          "data": {
            "text/html": [
              "FALSE"
            ],
            "text/markdown": "FALSE",
            "text/latex": "FALSE",
            "text/plain": [
              "[1] FALSE"
            ]
          },
          "metadata": {}
        },
        {
          "output_type": "display_data",
          "data": {
            "text/html": [
              "FALSE"
            ],
            "text/markdown": "FALSE",
            "text/latex": "FALSE",
            "text/plain": [
              "[1] FALSE"
            ]
          },
          "metadata": {}
        },
        {
          "output_type": "display_data",
          "data": {
            "text/html": [
              "TRUE"
            ],
            "text/markdown": "TRUE",
            "text/latex": "TRUE",
            "text/plain": [
              "[1] TRUE"
            ]
          },
          "metadata": {}
        },
        {
          "output_type": "display_data",
          "data": {
            "text/html": [
              "&lt;NA&gt;"
            ],
            "text/markdown": "&lt;NA&gt;",
            "text/latex": "<NA>",
            "text/plain": [
              "[1] NA"
            ]
          },
          "metadata": {}
        }
      ]
    },
    {
      "cell_type": "markdown",
      "source": [
        "## Data Recycling"
      ],
      "metadata": {
        "id": "kLN8qbgcJ36q"
      }
    },
    {
      "cell_type": "markdown",
      "source": [
        "When R encounters a situation where it is looking for a data structure of a certain length but instead receives one of a shorter length, it will perform what is known as \"data recycling\" to get them to match.\n",
        "\n",
        "This basically means that R will \"recycle\" or loop the values of the shorter data to meet the length of the longer one.\n",
        "\n",
        "This is another thing R is admittedly pretty bad for doing (and believe me it causes a lot of crazy errors). Please *do not* rely on data recycling if you can avoid it because it can cause some hard to find errors in the future."
      ],
      "metadata": {
        "id": "nUyQEMH88Taj"
      }
    },
    {
      "cell_type": "code",
      "source": [
        "#Spoiler for the next section on vectors! Come back here after you read the next bit on vectors and this will make more sense!\n",
        "\n",
        "shorter_vector <- c(1,2,3)\n",
        "longer_vector <- c(4,5,6,7,8,9)\n",
        "non_multiple_vector <- c(10,11,12,13)\n",
        "\n",
        "#You can see if we try to add two vectors of unequal length, R will loop back the elements of the shorter one\n",
        "print(shorter_vector+longer_vector)\n",
        "\n",
        "#But if we try to use recycling on two unequal vectors that are not multiples of each others lengths, it will give us a little warning (but still run)\n",
        "print(shorter_vector+non_multiple_vector)"
      ],
      "metadata": {
        "colab": {
          "base_uri": "https://localhost:8080/"
        },
        "id": "LapuxSM19D9Y",
        "outputId": "82b774db-a16e-4aed-a597-19989c9e1d51"
      },
      "execution_count": null,
      "outputs": [
        {
          "output_type": "stream",
          "name": "stdout",
          "text": [
            "[1]  5  7  9  8 10 12\n"
          ]
        },
        {
          "output_type": "stream",
          "name": "stderr",
          "text": [
            "Warning message in shorter_vector + non_multiple_vector:\n",
            "“longer object length is not a multiple of shorter object length”\n"
          ]
        },
        {
          "output_type": "stream",
          "name": "stdout",
          "text": [
            "[1] 11 13 15 14\n"
          ]
        }
      ]
    },
    {
      "cell_type": "markdown",
      "source": [
        "R will even perform data recycling when trying to redefine data of a certain length with one of shorter length. Go to [this section](#scrollTo=xeYZVgjr4n8I&line=1&uniqifier=1) to see examples of this."
      ],
      "metadata": {
        "id": "9E3Btibn9wFA"
      }
    },
    {
      "cell_type": "markdown",
      "source": [
        "# Data Structures in R\n",
        "---"
      ],
      "metadata": {
        "id": "TIpKLsr7yF0n"
      }
    },
    {
      "cell_type": "markdown",
      "source": [
        "In addition to these basic data types, we have more complex data structures that use them. There are six data structures in R:\n",
        "\n",
        "1. Vectors\n",
        "2. Arrays\n",
        "3. Matrices\n",
        "4. Lists\n",
        "5. Data Frames\n",
        "6. Factors\n",
        "\n",
        "You may be very familiar with most of these data structures from previous programming experience, but let's go over each one. Keep in mind that structures with the word **homogenous** next to them mean they can only store data of a *singular type* while **heterogenous** structures can store data of *multiple types*.\n"
      ],
      "metadata": {
        "id": "OFEPfLYPgbt0"
      }
    },
    {
      "cell_type": "markdown",
      "source": [
        "## Vectors [Homogenous Data Structure]"
      ],
      "metadata": {
        "id": "6JdMQyzlbNAC"
      }
    },
    {
      "cell_type": "markdown",
      "source": [
        "No, these kinds of vectors do not have magnitude and direction! Vectors are the most basic of all the data structures. It is an ordered collection of same-type values. Under the hood, almost everything in R is actually secretly a vector. Here is some code showing how we can define vectors and do operations on them:"
      ],
      "metadata": {
        "id": "vNsFatembVeB"
      }
    },
    {
      "cell_type": "code",
      "source": [
        "#We define vectors using the function c()\n",
        "new_vector <- c(1,2,3)\n",
        "new_vector2 <- c(\"text\",\"more text\",\"even more text\")\n",
        "new_vector3 <- c(TRUE,FALSE,TRUE)\n",
        "new_vector4 <- c(4,5,6,7)\n",
        "\n",
        "print(new_vector2)"
      ],
      "metadata": {
        "colab": {
          "base_uri": "https://localhost:8080/"
        },
        "id": "fQAmTqe3YJ2E",
        "outputId": "b604b7d5-7613-47b6-e289-66705a651046"
      },
      "execution_count": null,
      "outputs": [
        {
          "output_type": "stream",
          "name": "stdout",
          "text": [
            "[1] \"text\"           \"more text\"      \"even more text\"\n"
          ]
        }
      ]
    },
    {
      "cell_type": "code",
      "source": [
        "new_vector <- c(1,2,3)\n",
        "new_vector2 <- c(\"text\",\"more text\",\"even more text\")\n",
        "new_vector3 <- c(TRUE,FALSE,TRUE)\n",
        "\n",
        "#We can also define a vector using other vectors and using the colon to output an integer sequence\n",
        "new_long_vector <- c(new_vector,new_vector2,new_vector3)\n",
        "new_sequence <- c(1:20)\n",
        "new_decreasing_sequence <- c(20:1)\n",
        "print(new_long_vector)\n",
        "print(new_sequence)\n",
        "print(new_decreasing_sequence)"
      ],
      "metadata": {
        "colab": {
          "base_uri": "https://localhost:8080/"
        },
        "id": "cHc60g3Foh2s",
        "outputId": "4b76e095-7ab0-4209-d0a8-9b4b29f27aa4"
      },
      "execution_count": null,
      "outputs": [
        {
          "output_type": "stream",
          "name": "stdout",
          "text": [
            "[1] \"1\"              \"2\"              \"3\"              \"text\"          \n",
            "[5] \"more text\"      \"even more text\" \"TRUE\"           \"FALSE\"         \n",
            "[9] \"TRUE\"          \n",
            " [1]  1  2  3  4  5  6  7  8  9 10 11 12 13 14 15 16 17 18 19 20\n",
            " [1] 20 19 18 17 16 15 14 13 12 11 10  9  8  7  6  5  4  3  2  1\n"
          ]
        }
      ]
    },
    {
      "cell_type": "code",
      "source": [
        "new_vector <- c(1,2,3)\n",
        "\n",
        "#We can access elements from a vector using brackets\n",
        "#IMPORTANT NOTE: R index values start at 1 not 0!\n",
        "new_vector[1]\n",
        "new_vector[3]\n",
        "new_vector[2]"
      ],
      "metadata": {
        "colab": {
          "base_uri": "https://localhost:8080/",
          "height": 69
        },
        "id": "bzQj4eV5ouAP",
        "outputId": "65033449-1e81-4ada-9092-049426488f1f"
      },
      "execution_count": null,
      "outputs": [
        {
          "output_type": "display_data",
          "data": {
            "text/html": [
              "1"
            ],
            "text/markdown": "1",
            "text/latex": "1",
            "text/plain": [
              "[1] 1"
            ]
          },
          "metadata": {}
        },
        {
          "output_type": "display_data",
          "data": {
            "text/html": [
              "3"
            ],
            "text/markdown": "3",
            "text/latex": "3",
            "text/plain": [
              "[1] 3"
            ]
          },
          "metadata": {}
        },
        {
          "output_type": "display_data",
          "data": {
            "text/html": [
              "2"
            ],
            "text/markdown": "2",
            "text/latex": "2",
            "text/plain": [
              "[1] 2"
            ]
          },
          "metadata": {}
        }
      ]
    },
    {
      "cell_type": "code",
      "source": [
        "#We can also define a vector with named values\n",
        "new_named_vector <- c(first=1,second=2,third=3)\n",
        "\n",
        "#And we can access its elements using those names\n",
        "new_named_vector[\"first\"] #returns a named vector with one value\n",
        "new_named_vector[[\"third\"]] #returns a singular, unnamed value\n",
        "new_named_vector[c(\"first\",\"third\")] #returns multiple values as a named vector\n",
        "\n",
        "#We can also rename the values like so\n",
        "names(new_named_vector) <- c(\"second\",\"first\",\"third\")\n",
        "print(new_named_vector)\n",
        "\n",
        "#We can also remove the names like so\n",
        "names(new_named_vector) <- NULL\n",
        "print(new_named_vector)"
      ],
      "metadata": {
        "colab": {
          "base_uri": "https://localhost:8080/",
          "height": 121
        },
        "id": "S_0b421Q09NT",
        "outputId": "5eb09b73-5177-4f61-a1ca-fc96562fdd4b"
      },
      "execution_count": null,
      "outputs": [
        {
          "output_type": "display_data",
          "data": {
            "text/html": [
              "<strong>first:</strong> 1"
            ],
            "text/markdown": "**first:** 1",
            "text/latex": "\\textbf{first:} 1",
            "text/plain": [
              "first \n",
              "    1 "
            ]
          },
          "metadata": {}
        },
        {
          "output_type": "display_data",
          "data": {
            "text/html": [
              "3"
            ],
            "text/markdown": "3",
            "text/latex": "3",
            "text/plain": [
              "[1] 3"
            ]
          },
          "metadata": {}
        },
        {
          "output_type": "display_data",
          "data": {
            "text/html": [
              "<style>\n",
              ".dl-inline {width: auto; margin:0; padding: 0}\n",
              ".dl-inline>dt, .dl-inline>dd {float: none; width: auto; display: inline-block}\n",
              ".dl-inline>dt::after {content: \":\\0020\"; padding-right: .5ex}\n",
              ".dl-inline>dt:not(:first-of-type) {padding-left: .5ex}\n",
              "</style><dl class=dl-inline><dt>first</dt><dd>1</dd><dt>third</dt><dd>3</dd></dl>\n"
            ],
            "text/markdown": "first\n:   1third\n:   3\n\n",
            "text/latex": "\\begin{description*}\n\\item[first] 1\n\\item[third] 3\n\\end{description*}\n",
            "text/plain": [
              "first third \n",
              "    1     3 "
            ]
          },
          "metadata": {}
        },
        {
          "output_type": "stream",
          "name": "stdout",
          "text": [
            "second  first  third \n",
            "     1      2      3 \n",
            "[1] 1 2 3\n"
          ]
        }
      ]
    },
    {
      "cell_type": "code",
      "source": [
        "new_vector <- c(1,2,3)\n",
        "new_vector3 <- c(TRUE,FALSE,TRUE)\n",
        "\n",
        "#Similar to vector operations in mathematics, we can perform common operations on vectors\n",
        "print(3*new_vector3) #R will implicitly convert the boolean values in new_vector3 to integers (0 and 1)\n",
        "print(new_vector+new_vector3)\n",
        "print(new_vector-new_vector3)\n",
        "print(new_vector*new_vector3)"
      ],
      "metadata": {
        "colab": {
          "base_uri": "https://localhost:8080/"
        },
        "id": "EFOrxGkwo00V",
        "outputId": "b38096ff-ca74-43ae-8939-b9a2d1fa00ac"
      },
      "execution_count": null,
      "outputs": [
        {
          "output_type": "stream",
          "name": "stdout",
          "text": [
            "[1] 3 0 3\n",
            "[1] 2 2 4\n",
            "[1] 0 2 2\n",
            "[1] 1 0 3\n"
          ]
        }
      ]
    },
    {
      "cell_type": "code",
      "source": [
        "new_vector <- c(1,2,3)\n",
        "new_vector4 <- c(4,5,6,7)\n",
        "\n",
        "#The lengths of the vectors do not have to be the same\n",
        "#R will perform \"recycling\" and loop the values of the shorter vector as many times to match the length of the longer vector\n",
        "#This will output a warning but that's just R making sure you know the lengths are not multiples of each other but it will run just fine!\n",
        "print(new_vector+new_vector4)"
      ],
      "metadata": {
        "colab": {
          "base_uri": "https://localhost:8080/"
        },
        "id": "k23GYmUIo-Kd",
        "outputId": "a0c771ac-9e26-40fa-a4af-8269508a6255"
      },
      "execution_count": null,
      "outputs": [
        {
          "output_type": "stream",
          "name": "stderr",
          "text": [
            "Warning message in new_vector + new_vector4:\n",
            "“longer object length is not a multiple of shorter object length”\n"
          ]
        },
        {
          "output_type": "stream",
          "name": "stdout",
          "text": [
            "[1] 5 7 9 8\n"
          ]
        }
      ]
    },
    {
      "cell_type": "markdown",
      "source": [
        "## Arrays [Homogenous Data Structure]"
      ],
      "metadata": {
        "id": "0gaWASBSbXgI"
      }
    },
    {
      "cell_type": "markdown",
      "source": [
        "Arrays in R are multidimensional structures that can have one or more dimensions. We define an array using the function `array()`. This function will parse the data into the array in the following order:\n",
        "1. The first dimension (rows) will be traversed most rapidly (filled first)\n",
        "2. The second dimension (columns) will be traversed next (filled after each row in column is filled)\n",
        "3. The third dimension will be traversed next (filled after each column in each row is filled)\n",
        "4. Subsequent dimensions (fourth, fifth, sixth) will be filling in a similar order\n",
        "\n",
        "I know this can get a little confusing, but I think arrays are best understood using the code itself:\n"
      ],
      "metadata": {
        "id": "RtOyDYrBnwnR"
      }
    },
    {
      "cell_type": "code",
      "source": [
        "#We define arrays using the function array(data,dim,dim_names)\n",
        "new_array <- array(c(1:24),c(3,4,2)) #this is a 3D structure with no dimension names\n",
        "new_array2 <- array(c(1:10),c(2,5),list(c(\"first row\",\"second row\"),c(\"first col\",\"second col\",\"third col\",\"fourth col\",\"fifth col\"))) #this is a 2D structure with dimension names (which must be passed in as a list which we will discuss next)\n",
        "\n",
        "View(new_array) #View() unfortunately does not do a good job at handling any structure above 2 dimensions :(\n",
        "View(new_array2)"
      ],
      "metadata": {
        "colab": {
          "base_uri": "https://localhost:8080/",
          "height": 147
        },
        "id": "YCddPBamofYA",
        "outputId": "118c7df5-d688-4fa4-d182-141d022a2d9f"
      },
      "execution_count": null,
      "outputs": [
        {
          "output_type": "display_data",
          "data": {
            "text/plain": [
              ", , 1\n",
              "\n",
              "     [,1] [,2] [,3] [,4]\n",
              "[1,]    1    4    7   10\n",
              "[2,]    2    5    8   11\n",
              "[3,]    3    6    9   12\n",
              "\n",
              ", , 2\n",
              "\n",
              "     [,1] [,2] [,3] [,4]\n",
              "[1,]   13   16   19   22\n",
              "[2,]   14   17   20   23\n",
              "[3,]   15   18   21   24\n"
            ],
            "text/html": [
              "<style>\n",
              ".list-inline {list-style: none; margin:0; padding: 0}\n",
              ".list-inline>li {display: inline-block}\n",
              ".list-inline>li:not(:last-child)::after {content: \"\\00b7\"; padding: 0 .5ex}\n",
              "</style>\n",
              "<ol class=list-inline><li>1</li><li>2</li><li>3</li><li>4</li><li>5</li><li>6</li><li>7</li><li>8</li><li>9</li><li>10</li><li>11</li><li>12</li><li>13</li><li>14</li><li>15</li><li>16</li><li>17</li><li>18</li><li>19</li><li>20</li><li>21</li><li>22</li><li>23</li><li>24</li></ol>\n"
            ],
            "text/markdown": "1. 1\n2. 2\n3. 3\n4. 4\n5. 5\n6. 6\n7. 7\n8. 8\n9. 9\n10. 10\n11. 11\n12. 12\n13. 13\n14. 14\n15. 15\n16. 16\n17. 17\n18. 18\n19. 19\n20. 20\n21. 21\n22. 22\n23. 23\n24. 24\n\n\n",
            "text/latex": "\\begin{enumerate*}\n\\item 1\n\\item 2\n\\item 3\n\\item 4\n\\item 5\n\\item 6\n\\item 7\n\\item 8\n\\item 9\n\\item 10\n\\item 11\n\\item 12\n\\item 13\n\\item 14\n\\item 15\n\\item 16\n\\item 17\n\\item 18\n\\item 19\n\\item 20\n\\item 21\n\\item 22\n\\item 23\n\\item 24\n\\end{enumerate*}\n"
          },
          "metadata": {}
        },
        {
          "output_type": "display_data",
          "data": {
            "text/plain": [
              "           first col second col third col fourth col fifth col\n",
              "first row  1         3          5         7           9       \n",
              "second row 2         4          6         8          10       "
            ],
            "text/html": [
              "<table class=\"dataframe\">\n",
              "<caption>A matrix: 2 × 5 of type int</caption>\n",
              "<thead>\n",
              "\t<tr><th></th><th scope=col>first col</th><th scope=col>second col</th><th scope=col>third col</th><th scope=col>fourth col</th><th scope=col>fifth col</th></tr>\n",
              "</thead>\n",
              "<tbody>\n",
              "\t<tr><th scope=row>first row</th><td>1</td><td>3</td><td>5</td><td>7</td><td> 9</td></tr>\n",
              "\t<tr><th scope=row>second row</th><td>2</td><td>4</td><td>6</td><td>8</td><td>10</td></tr>\n",
              "</tbody>\n",
              "</table>\n"
            ],
            "text/markdown": "\nA matrix: 2 × 5 of type int\n\n| <!--/--> | first col | second col | third col | fourth col | fifth col |\n|---|---|---|---|---|---|\n| first row | 1 | 3 | 5 | 7 |  9 |\n| second row | 2 | 4 | 6 | 8 | 10 |\n\n",
            "text/latex": "A matrix: 2 × 5 of type int\n\\begin{tabular}{r|lllll}\n  & first col & second col & third col & fourth col & fifth col\\\\\n\\hline\n\tfirst row & 1 & 3 & 5 & 7 &  9\\\\\n\tsecond row & 2 & 4 & 6 & 8 & 10\\\\\n\\end{tabular}\n"
          },
          "metadata": {}
        }
      ]
    },
    {
      "cell_type": "code",
      "source": [
        "new_array <- array(c(1:24),c(3,4,2))\n",
        "\n",
        "#We can access elements from arrays using [first_dimension_location,second_dimension_location,third_dimension_location, . . .]\n",
        "element1 <- new_array[3,4,1] #is 12\n",
        "element2 <- new_array[1,1,2] #is 13 because every avaliable space in the first two dimensions have been filled with the numbers 1 through 12\n",
        "print(element1)\n",
        "print(element2)"
      ],
      "metadata": {
        "colab": {
          "base_uri": "https://localhost:8080/"
        },
        "id": "WpNAXRg5pavz",
        "outputId": "81cee8e3-a6d8-47ca-f144-04213219442a"
      },
      "execution_count": null,
      "outputs": [
        {
          "output_type": "stream",
          "name": "stdout",
          "text": [
            "[1] 12\n",
            "[1] 13\n"
          ]
        }
      ]
    },
    {
      "cell_type": "code",
      "source": [
        "new_array2 <- array(c(1:10),c(2,5),list(c(\"first row\",\"second row\"),c(\"first col\",\"second col\",\"third col\",\"fourth col\",\"fifth col\")))\n",
        "\n",
        "#We access things the same way for nD arrays (here it is 2D)\n",
        "element3 <- new_array2[1,1]\n",
        "element4 <- new_array2[2,1]\n",
        "print(element4)"
      ],
      "metadata": {
        "colab": {
          "base_uri": "https://localhost:8080/"
        },
        "id": "-pzQjs1HpftM",
        "outputId": "bcb87152-e638-48b9-a7f9-a7c9433b5cff"
      },
      "execution_count": null,
      "outputs": [
        {
          "output_type": "stream",
          "name": "stdout",
          "text": [
            "[1] 2\n"
          ]
        }
      ]
    },
    {
      "cell_type": "code",
      "source": [
        "new_array <- array(c(1:24),c(3,4,2))\n",
        "\n",
        "#We can also access \"slices\" of arrays, which will return everything from the dimension not specified that also satifies the other specified dimensions\n",
        "first_slice <- new_array[,2,1] #returns a vector since its a 1D slice\n",
        "second_slice <- new_array[2,,1] #returns a vector since its a 1D slice\n",
        "third_slice <- new_array[2,1,] #returns a vector since its a 1D slice\n",
        "multi_slice <- new_array[,,2] #returns another array (actually, a matrix which is a special type of array) since its a 2D slice\n",
        "print(first_slice)\n",
        "print(second_slice)\n",
        "print(third_slice)\n",
        "print(multi_slice)"
      ],
      "metadata": {
        "colab": {
          "base_uri": "https://localhost:8080/"
        },
        "id": "Y-QhstsupltQ",
        "outputId": "edc9a7ed-2b29-4b96-908f-4a2dbdbb5e74"
      },
      "execution_count": null,
      "outputs": [
        {
          "output_type": "stream",
          "name": "stdout",
          "text": [
            "[1] 4 5 6\n",
            "[1]  2  5  8 11\n",
            "[1]  2 14\n",
            "     [,1] [,2] [,3] [,4]\n",
            "[1,]   13   16   19   22\n",
            "[2,]   14   17   20   23\n",
            "[3,]   15   18   21   24\n"
          ]
        }
      ]
    },
    {
      "cell_type": "markdown",
      "source": [
        "## Matrices [Homogenous Data Structure]"
      ],
      "metadata": {
        "id": "bpJMejaCbdQC"
      }
    },
    {
      "cell_type": "markdown",
      "source": [
        "A matrix is special type of array (that has its own host of functions and uses, particularly in linear algebra) with 2 dimensions (rows and columns). Every matrix is technically an array but not ever array is a matrix (because we can define arrays to have more or less than two dimensions).\n",
        "\n",
        "Here is some code to help you understand matrices a little more:"
      ],
      "metadata": {
        "id": "R_vxkkuMxnV1"
      }
    },
    {
      "cell_type": "code",
      "source": [
        "#We can define matrices using the function matrix(data, nrow, ncol, byrow)\n",
        "new_matrix <- matrix(c(1:10),5,2) #this matrix will fill by columns first because the default value of byrow is FALSE\n",
        "new_matrix2 <- matrix(c(1:10),5,2,TRUE) #this matrix will fill by rows first because I set byrow to be TRUE\n",
        "\n",
        "View(new_matrix)\n",
        "View(new_matrix2)"
      ],
      "metadata": {
        "colab": {
          "base_uri": "https://localhost:8080/",
          "height": 469
        },
        "id": "PpNYLL-7QYLH",
        "outputId": "019e03a0-24b8-4294-f3aa-0f2534b008c7"
      },
      "execution_count": null,
      "outputs": [
        {
          "output_type": "display_data",
          "data": {
            "text/plain": [
              "     [,1] [,2]\n",
              "[1,] 1     6  \n",
              "[2,] 2     7  \n",
              "[3,] 3     8  \n",
              "[4,] 4     9  \n",
              "[5,] 5    10  "
            ],
            "text/html": [
              "<table class=\"dataframe\">\n",
              "<caption>A matrix: 5 × 2 of type int</caption>\n",
              "<tbody>\n",
              "\t<tr><td>1</td><td> 6</td></tr>\n",
              "\t<tr><td>2</td><td> 7</td></tr>\n",
              "\t<tr><td>3</td><td> 8</td></tr>\n",
              "\t<tr><td>4</td><td> 9</td></tr>\n",
              "\t<tr><td>5</td><td>10</td></tr>\n",
              "</tbody>\n",
              "</table>\n"
            ],
            "text/markdown": "\nA matrix: 5 × 2 of type int\n\n| 1 |  6 |\n| 2 |  7 |\n| 3 |  8 |\n| 4 |  9 |\n| 5 | 10 |\n\n",
            "text/latex": "A matrix: 5 × 2 of type int\n\\begin{tabular}{ll}\n\t 1 &  6\\\\\n\t 2 &  7\\\\\n\t 3 &  8\\\\\n\t 4 &  9\\\\\n\t 5 & 10\\\\\n\\end{tabular}\n"
          },
          "metadata": {}
        },
        {
          "output_type": "display_data",
          "data": {
            "text/plain": [
              "     [,1] [,2]\n",
              "[1,] 1     2  \n",
              "[2,] 3     4  \n",
              "[3,] 5     6  \n",
              "[4,] 7     8  \n",
              "[5,] 9    10  "
            ],
            "text/html": [
              "<table class=\"dataframe\">\n",
              "<caption>A matrix: 5 × 2 of type int</caption>\n",
              "<tbody>\n",
              "\t<tr><td>1</td><td> 2</td></tr>\n",
              "\t<tr><td>3</td><td> 4</td></tr>\n",
              "\t<tr><td>5</td><td> 6</td></tr>\n",
              "\t<tr><td>7</td><td> 8</td></tr>\n",
              "\t<tr><td>9</td><td>10</td></tr>\n",
              "</tbody>\n",
              "</table>\n"
            ],
            "text/markdown": "\nA matrix: 5 × 2 of type int\n\n| 1 |  2 |\n| 3 |  4 |\n| 5 |  6 |\n| 7 |  8 |\n| 9 | 10 |\n\n",
            "text/latex": "A matrix: 5 × 2 of type int\n\\begin{tabular}{ll}\n\t 1 &  2\\\\\n\t 3 &  4\\\\\n\t 5 &  6\\\\\n\t 7 &  8\\\\\n\t 9 & 10\\\\\n\\end{tabular}\n"
          },
          "metadata": {}
        }
      ]
    },
    {
      "cell_type": "code",
      "source": [
        "new_matrix <- matrix(c(1:10),5,2)\n",
        "new_matrix2 <- matrix(c(1:10),5,2,TRUE)\n",
        "\n",
        "#We can access elements from matrices similar to how we did for arrays before\n",
        "element1 <- new_matrix[1,2] #this element is 6 because it filled the first five integers in column 1 and now its filling column 2\n",
        "element2 <- new_matrix2[1,2] #this element is 2 because it is filling across the rows first\n",
        "print(element1)\n",
        "print(element2)\n"
      ],
      "metadata": {
        "colab": {
          "base_uri": "https://localhost:8080/"
        },
        "id": "V7Bvxf9NqCH1",
        "outputId": "7e9d8d77-8b1f-4bf4-f8a2-9d3c9ae50ee2"
      },
      "execution_count": null,
      "outputs": [
        {
          "output_type": "stream",
          "name": "stdout",
          "text": [
            "[1] 6\n",
            "[1] 2\n"
          ]
        }
      ]
    },
    {
      "cell_type": "code",
      "source": [
        "new_matrix <- matrix(c(1:10),5,2)\n",
        "\n",
        "#We can also access slices of matrices similar to how we did for arrays before, except the result will always be a 1D vector\n",
        "row_slice <- new_matrix[1,]\n",
        "col_slice <- new_matrix[,1]\n",
        "print(row_slice)\n",
        "print(col_slice)"
      ],
      "metadata": {
        "colab": {
          "base_uri": "https://localhost:8080/"
        },
        "id": "Y1xeqXQBqITR",
        "outputId": "5e1d7a97-1bf3-404d-862a-0c8936f2d812"
      },
      "execution_count": null,
      "outputs": [
        {
          "output_type": "stream",
          "name": "stdout",
          "text": [
            "[1] 1 6\n",
            "[1] 1 2 3 4 5\n"
          ]
        }
      ]
    },
    {
      "cell_type": "markdown",
      "source": [
        "## Lists [Heterogenous Data Structure]"
      ],
      "metadata": {
        "id": "A2d5kk-5bkxZ"
      }
    },
    {
      "cell_type": "markdown",
      "source": [
        "Because lists can contain elements of multiple data types, you will see them a lot going forward. Like lists in other languages, lists in R support nesting and can contain any of the 6 major data structures. Here is some code to get you used to working with lists:"
      ],
      "metadata": {
        "id": "DYNBPn8wXScW"
      }
    },
    {
      "cell_type": "code",
      "source": [
        "#We define lists using the function list()\n",
        "new_list <- list(1,\"one\",c(\"look it even can contain vectors\",\"with multiple elements!\"),TRUE,FALSE,3.141596)\n",
        "View(new_list)\n",
        "\n",
        "#We can define names for elements of lists too\n",
        "new_named_list <- list(numbers=c(1,2,3),letterz=c(\"a\",\"b\",\"c\"),logicalz=TRUE,other_stuff=567)\n",
        "View(new_named_list)"
      ],
      "metadata": {
        "colab": {
          "base_uri": "https://localhost:8080/",
          "height": 302
        },
        "id": "R973cU8mX0m5",
        "outputId": "1a13b1f3-7826-40e9-9a4f-451aa1a86547"
      },
      "execution_count": null,
      "outputs": [
        {
          "output_type": "display_data",
          "data": {
            "text/plain": [
              "[[1]]\n",
              "[1] 1\n",
              "\n",
              "[[2]]\n",
              "[1] \"one\"\n",
              "\n",
              "[[3]]\n",
              "[1] \"look it even can contain vectors\" \"with multiple elements!\"         \n",
              "\n",
              "[[4]]\n",
              "[1] TRUE\n",
              "\n",
              "[[5]]\n",
              "[1] FALSE\n",
              "\n",
              "[[6]]\n",
              "[1] 3.141596\n"
            ],
            "text/html": [
              "<ol>\n",
              "\t<li>1</li>\n",
              "\t<li>'one'</li>\n",
              "\t<li><style>\n",
              ".list-inline {list-style: none; margin:0; padding: 0}\n",
              ".list-inline>li {display: inline-block}\n",
              ".list-inline>li:not(:last-child)::after {content: \"\\00b7\"; padding: 0 .5ex}\n",
              "</style>\n",
              "<ol class=list-inline><li>'look it even can contain vectors'</li><li>'with multiple elements!'</li></ol>\n",
              "</li>\n",
              "\t<li>TRUE</li>\n",
              "\t<li>FALSE</li>\n",
              "\t<li>3.141596</li>\n",
              "</ol>\n"
            ],
            "text/markdown": "1. 1\n2. 'one'\n3. 1. 'look it even can contain vectors'\n2. 'with multiple elements!'\n\n\n\n4. TRUE\n5. FALSE\n6. 3.141596\n\n\n",
            "text/latex": "\\begin{enumerate}\n\\item 1\n\\item 'one'\n\\item \\begin{enumerate*}\n\\item 'look it even can contain vectors'\n\\item 'with multiple elements!'\n\\end{enumerate*}\n\n\\item TRUE\n\\item FALSE\n\\item 3.141596\n\\end{enumerate}\n"
          },
          "metadata": {}
        },
        {
          "output_type": "display_data",
          "data": {
            "text/plain": [
              "$numbers\n",
              "[1] 1 2 3\n",
              "\n",
              "$letterz\n",
              "[1] \"a\" \"b\" \"c\"\n",
              "\n",
              "$logicalz\n",
              "[1] TRUE\n",
              "\n",
              "$other_stuff\n",
              "[1] 567\n"
            ],
            "text/html": [
              "<dl>\n",
              "\t<dt>$numbers</dt>\n",
              "\t\t<dd><style>\n",
              ".list-inline {list-style: none; margin:0; padding: 0}\n",
              ".list-inline>li {display: inline-block}\n",
              ".list-inline>li:not(:last-child)::after {content: \"\\00b7\"; padding: 0 .5ex}\n",
              "</style>\n",
              "<ol class=list-inline><li>1</li><li>2</li><li>3</li></ol>\n",
              "</dd>\n",
              "\t<dt>$letterz</dt>\n",
              "\t\t<dd><style>\n",
              ".list-inline {list-style: none; margin:0; padding: 0}\n",
              ".list-inline>li {display: inline-block}\n",
              ".list-inline>li:not(:last-child)::after {content: \"\\00b7\"; padding: 0 .5ex}\n",
              "</style>\n",
              "<ol class=list-inline><li>'a'</li><li>'b'</li><li>'c'</li></ol>\n",
              "</dd>\n",
              "\t<dt>$logicalz</dt>\n",
              "\t\t<dd>TRUE</dd>\n",
              "\t<dt>$other_stuff</dt>\n",
              "\t\t<dd>567</dd>\n",
              "</dl>\n"
            ],
            "text/markdown": "$numbers\n:   1. 1\n2. 2\n3. 3\n\n\n\n$letterz\n:   1. 'a'\n2. 'b'\n3. 'c'\n\n\n\n$logicalz\n:   TRUE\n$other_stuff\n:   567\n\n\n",
            "text/latex": "\\begin{description}\n\\item[\\$numbers] \\begin{enumerate*}\n\\item 1\n\\item 2\n\\item 3\n\\end{enumerate*}\n\n\\item[\\$letterz] \\begin{enumerate*}\n\\item 'a'\n\\item 'b'\n\\item 'c'\n\\end{enumerate*}\n\n\\item[\\$logicalz] TRUE\n\\item[\\$other\\_stuff] 567\n\\end{description}\n"
          },
          "metadata": {}
        }
      ]
    },
    {
      "cell_type": "code",
      "source": [
        "new_list <- list(1,\"one\",c(\"look it even can contain vectors\",\"with multiple elements!\"),TRUE,FALSE,3.141596)\n",
        "\n",
        "#Accessing element from lists works a little different because it can be done using one or two brackets\n",
        "not_unpacked <- new_list[3] #returns the third element of new_list contained in a list\n",
        "unpacked <- new_list[[3]] #returns the third element of new_list unpacked and in its original data form (a character vector)\n",
        "print(typeof(not_unpacked))\n",
        "print(typeof(unpacked))"
      ],
      "metadata": {
        "colab": {
          "base_uri": "https://localhost:8080/"
        },
        "id": "lYk9w3joqXU2",
        "outputId": "b3267ee2-d6ae-4a69-f61f-accd45875425"
      },
      "execution_count": null,
      "outputs": [
        {
          "output_type": "stream",
          "name": "stdout",
          "text": [
            "[1] \"list\"\n",
            "[1] \"character\"\n"
          ]
        }
      ]
    },
    {
      "cell_type": "code",
      "source": [
        "new_list <- list(1,\"one\",c(\"look it even can contain vectors\",\"with multiple elements!\"),TRUE,FALSE,3.141596)\n",
        "\n",
        "#We can also access multiple elements from a list\n",
        "new_list[c(1,3,5)]"
      ],
      "metadata": {
        "colab": {
          "base_uri": "https://localhost:8080/",
          "height": 97
        },
        "id": "vyE4xtu84RbB",
        "outputId": "e9525772-fa59-438f-f931-1429b59be0c1"
      },
      "execution_count": null,
      "outputs": [
        {
          "output_type": "display_data",
          "data": {
            "text/html": [
              "<ol>\n",
              "\t<li>1</li>\n",
              "\t<li><style>\n",
              ".list-inline {list-style: none; margin:0; padding: 0}\n",
              ".list-inline>li {display: inline-block}\n",
              ".list-inline>li:not(:last-child)::after {content: \"\\00b7\"; padding: 0 .5ex}\n",
              "</style>\n",
              "<ol class=list-inline><li>'look it even can contain vectors'</li><li>'with multiple elements!'</li></ol>\n",
              "</li>\n",
              "\t<li>FALSE</li>\n",
              "</ol>\n"
            ],
            "text/markdown": "1. 1\n2. 1. 'look it even can contain vectors'\n2. 'with multiple elements!'\n\n\n\n3. FALSE\n\n\n",
            "text/latex": "\\begin{enumerate}\n\\item 1\n\\item \\begin{enumerate*}\n\\item 'look it even can contain vectors'\n\\item 'with multiple elements!'\n\\end{enumerate*}\n\n\\item FALSE\n\\end{enumerate}\n",
            "text/plain": [
              "[[1]]\n",
              "[1] 1\n",
              "\n",
              "[[2]]\n",
              "[1] \"look it even can contain vectors\" \"with multiple elements!\"         \n",
              "\n",
              "[[3]]\n",
              "[1] FALSE\n"
            ]
          },
          "metadata": {}
        }
      ]
    },
    {
      "cell_type": "code",
      "source": [
        "new_named_list <- list(numbers=c(1,2,3),letterz=c(\"a\",\"b\",\"c\"),logicalz=TRUE,other_stuff=567)\n",
        "\n",
        "#We can also access elements using their names if we have a named list\n",
        "named_not_unpacked <- new_named_list[\"numbers\"]\n",
        "named_unpacked <- new_named_list$\"numbers\" #instead of the double bracket syntax, we can use $ for short; this only works when we are accessing list elements by name\n",
        "print(typeof(named_not_unpacked))\n",
        "print(typeof(named_unpacked))"
      ],
      "metadata": {
        "colab": {
          "base_uri": "https://localhost:8080/"
        },
        "id": "7VLK_jLxqfno",
        "outputId": "6c0752eb-65d2-49ae-e766-1dc5c6fa02e2"
      },
      "execution_count": null,
      "outputs": [
        {
          "output_type": "stream",
          "name": "stdout",
          "text": [
            "[1] \"list\"\n",
            "[1] \"double\"\n"
          ]
        }
      ]
    },
    {
      "cell_type": "markdown",
      "source": [
        "## Data Frames [Heterogenous Data Structure]"
      ],
      "metadata": {
        "id": "x6rIaNoabqRe"
      }
    },
    {
      "cell_type": "markdown",
      "source": [
        "If you have not really read any of the other data structure introductions, that's ok but pay attention to this one! Most of the data you work with will be held in a data frames. Data frames all follow a similar structure: rows of observations and columns of variables.\n",
        "\n",
        "For example, we can have the variables \"Heart Rate\" and \"Blood Pressure\" in the columns of a data frame and rows containing measurements of these variables for each person in a sample:"
      ],
      "metadata": {
        "id": "-9Z6xN_Hbt3m"
      }
    },
    {
      "cell_type": "code",
      "source": [
        "vitals_df <- data.frame(\"Heart Rate\"=c(76,68,88,100),\"Blood Presure\"=c(\"120/80\",\"123/83\",\"115/75\",\"132/85\"))\n",
        "View(vitals_df)"
      ],
      "metadata": {
        "colab": {
          "base_uri": "https://localhost:8080/",
          "height": 224
        },
        "id": "sc_Pdn8l4ACU",
        "outputId": "4e404539-478a-4a84-f5da-a9b4b29dac6c"
      },
      "execution_count": null,
      "outputs": [
        {
          "output_type": "display_data",
          "data": {
            "text/plain": [
              "  Heart.Rate Blood.Presure\n",
              "1  76        120/80       \n",
              "2  68        123/83       \n",
              "3  88        115/75       \n",
              "4 100        132/85       "
            ],
            "text/html": [
              "<table class=\"dataframe\">\n",
              "<caption>A data.frame: 4 × 2</caption>\n",
              "<thead>\n",
              "\t<tr><th scope=col>Heart.Rate</th><th scope=col>Blood.Presure</th></tr>\n",
              "\t<tr><th scope=col>&lt;dbl&gt;</th><th scope=col>&lt;chr&gt;</th></tr>\n",
              "</thead>\n",
              "<tbody>\n",
              "\t<tr><td> 76</td><td>120/80</td></tr>\n",
              "\t<tr><td> 68</td><td>123/83</td></tr>\n",
              "\t<tr><td> 88</td><td>115/75</td></tr>\n",
              "\t<tr><td>100</td><td>132/85</td></tr>\n",
              "</tbody>\n",
              "</table>\n"
            ],
            "text/markdown": "\nA data.frame: 4 × 2\n\n| Heart.Rate &lt;dbl&gt; | Blood.Presure &lt;chr&gt; |\n|---|---|\n|  76 | 120/80 |\n|  68 | 123/83 |\n|  88 | 115/75 |\n| 100 | 132/85 |\n\n",
            "text/latex": "A data.frame: 4 × 2\n\\begin{tabular}{ll}\n Heart.Rate & Blood.Presure\\\\\n <dbl> & <chr>\\\\\n\\hline\n\t  76 & 120/80\\\\\n\t  68 & 123/83\\\\\n\t  88 & 115/75\\\\\n\t 100 & 132/85\\\\\n\\end{tabular}\n"
          },
          "metadata": {}
        }
      ]
    },
    {
      "cell_type": "markdown",
      "source": [
        "We will talk more about data frames in future sections, but for now let's get used to some basics:"
      ],
      "metadata": {
        "id": "0HbjlekX4B8t"
      }
    },
    {
      "cell_type": "code",
      "source": [
        "#We define data frames using the function data.frame()\n",
        "new_frame <- data.frame(\"column_1\"=c(1,2,3,4),\"column_2\" = c(\"a\",\"b\",\"c\",\"d\"))\n",
        "View(new_frame)\n",
        "\n",
        "#We can also define row names for the data frame; by default they are just numbered from 1 to the number of rows\n",
        "new_frame1 <- data.frame(\"column_1\"=c(1,2,3,4),\"column_2\" = c(\"a\",\"b\",\"c\",\"d\"),row.names=c(\"first_row\",\"second_row\",\"third_row\",\"fourth_row\"))\n",
        "View(new_frame1)\n",
        "\n",
        "\n",
        "#NOTE 1: We cannot define a data frame of columns with differing numbers of rows\n",
        "#NOTE 2: This is usually not a worry, but strictly speaking the quotes when defining / accessing column names in data.frame are not needed IF the name is syntactically valid\n",
        "#NOTE 3: The elements of a singular column MUST be of the same type (because they are fundamentally stored as a single vector)"
      ],
      "metadata": {
        "colab": {
          "base_uri": "https://localhost:8080/",
          "height": 430
        },
        "id": "KqOo05M4j265",
        "outputId": "1068c46a-6764-451f-907e-b94da5500b5c"
      },
      "execution_count": null,
      "outputs": [
        {
          "output_type": "display_data",
          "data": {
            "text/plain": [
              "  column_1 column_2\n",
              "1 1        a       \n",
              "2 2        b       \n",
              "3 3        c       \n",
              "4 4        d       "
            ],
            "text/html": [
              "<table class=\"dataframe\">\n",
              "<caption>A data.frame: 4 × 2</caption>\n",
              "<thead>\n",
              "\t<tr><th scope=col>column_1</th><th scope=col>column_2</th></tr>\n",
              "\t<tr><th scope=col>&lt;dbl&gt;</th><th scope=col>&lt;chr&gt;</th></tr>\n",
              "</thead>\n",
              "<tbody>\n",
              "\t<tr><td>1</td><td>a</td></tr>\n",
              "\t<tr><td>2</td><td>b</td></tr>\n",
              "\t<tr><td>3</td><td>c</td></tr>\n",
              "\t<tr><td>4</td><td>d</td></tr>\n",
              "</tbody>\n",
              "</table>\n"
            ],
            "text/markdown": "\nA data.frame: 4 × 2\n\n| column_1 &lt;dbl&gt; | column_2 &lt;chr&gt; |\n|---|---|\n| 1 | a |\n| 2 | b |\n| 3 | c |\n| 4 | d |\n\n",
            "text/latex": "A data.frame: 4 × 2\n\\begin{tabular}{ll}\n column\\_1 & column\\_2\\\\\n <dbl> & <chr>\\\\\n\\hline\n\t 1 & a\\\\\n\t 2 & b\\\\\n\t 3 & c\\\\\n\t 4 & d\\\\\n\\end{tabular}\n"
          },
          "metadata": {}
        },
        {
          "output_type": "display_data",
          "data": {
            "text/plain": [
              "           column_1 column_2\n",
              "first_row  1        a       \n",
              "second_row 2        b       \n",
              "third_row  3        c       \n",
              "fourth_row 4        d       "
            ],
            "text/html": [
              "<table class=\"dataframe\">\n",
              "<caption>A data.frame: 4 × 2</caption>\n",
              "<thead>\n",
              "\t<tr><th></th><th scope=col>column_1</th><th scope=col>column_2</th></tr>\n",
              "\t<tr><th></th><th scope=col>&lt;dbl&gt;</th><th scope=col>&lt;chr&gt;</th></tr>\n",
              "</thead>\n",
              "<tbody>\n",
              "\t<tr><th scope=row>first_row</th><td>1</td><td>a</td></tr>\n",
              "\t<tr><th scope=row>second_row</th><td>2</td><td>b</td></tr>\n",
              "\t<tr><th scope=row>third_row</th><td>3</td><td>c</td></tr>\n",
              "\t<tr><th scope=row>fourth_row</th><td>4</td><td>d</td></tr>\n",
              "</tbody>\n",
              "</table>\n"
            ],
            "text/markdown": "\nA data.frame: 4 × 2\n\n| <!--/--> | column_1 &lt;dbl&gt; | column_2 &lt;chr&gt; |\n|---|---|---|\n| first_row | 1 | a |\n| second_row | 2 | b |\n| third_row | 3 | c |\n| fourth_row | 4 | d |\n\n",
            "text/latex": "A data.frame: 4 × 2\n\\begin{tabular}{r|ll}\n  & column\\_1 & column\\_2\\\\\n  & <dbl> & <chr>\\\\\n\\hline\n\tfirst\\_row & 1 & a\\\\\n\tsecond\\_row & 2 & b\\\\\n\tthird\\_row & 3 & c\\\\\n\tfourth\\_row & 4 & d\\\\\n\\end{tabular}\n"
          },
          "metadata": {}
        }
      ]
    },
    {
      "cell_type": "code",
      "source": [
        "new_frame <- data.frame(\"column_1\"=c(1,2,3,4),\"column_2\" = c(\"a\",\"b\",\"c\",\"d\"))\n",
        "\n",
        "#We can select elements and slices from data frames similar to previous structures too\n",
        "element <- new_frame[1,2]\n",
        "row_slice <- new_frame[1,] #returns a data frame\n",
        "col_slice <- new_frame[,1] #returns a vector\n",
        "print(element)\n",
        "print(row_slice)\n",
        "print(col_slice)"
      ],
      "metadata": {
        "colab": {
          "base_uri": "https://localhost:8080/"
        },
        "id": "dpWFie86q0kQ",
        "outputId": "52399872-ca3b-4477-9dda-c707e3083bd3"
      },
      "execution_count": null,
      "outputs": [
        {
          "output_type": "stream",
          "name": "stdout",
          "text": [
            "[1] \"a\"\n",
            "  column_1 column_2\n",
            "1        1        a\n",
            "[1] 1 2 3 4\n"
          ]
        }
      ]
    },
    {
      "cell_type": "code",
      "source": [
        "new_frame1 <- data.frame(\"column_1\"=c(1,2,3,4),\"column_2\" = c(\"a\",\"b\",\"c\",\"d\"),row.names=c(\"first_row\",\"second_row\",\"third_row\",\"fourth_row\"))\n",
        "\n",
        "#We can also select elements from data frames by row and column names\n",
        "named_rows <- new_frame1[c(\"first_row\",\"second_row\"),] #returns a data frame with two selected rows\n",
        "named_col <- new_frame1$column_2 #this dollar sign syntax is a shorthand for returning a singular column by name\n",
        "named_element <- new_frame1[\"first_row\",\"column_2\"]\n",
        "print(named_rows)\n",
        "print(named_col)\n",
        "print(named_element)"
      ],
      "metadata": {
        "colab": {
          "base_uri": "https://localhost:8080/"
        },
        "id": "JvTo-eCHq5R2",
        "outputId": "c33f0d5a-1966-470b-998c-dc6c11ed2900"
      },
      "execution_count": null,
      "outputs": [
        {
          "output_type": "stream",
          "name": "stdout",
          "text": [
            "           column_1 column_2\n",
            "first_row         1        a\n",
            "second_row        2        b\n",
            "[1] \"a\" \"b\" \"c\" \"d\"\n",
            "[1] \"a\"\n"
          ]
        }
      ]
    },
    {
      "cell_type": "markdown",
      "source": [
        "## Factors [Homogenous Data Structure]"
      ],
      "metadata": {
        "id": "Ea6oMHqZra54"
      }
    },
    {
      "cell_type": "markdown",
      "source": [
        "We will not be working with factors today, but here is a brief introduction just so you know for later! Factors are used to work with categorical data. Here is some code introducing factors:"
      ],
      "metadata": {
        "id": "hfla5JYtsvWh"
      }
    },
    {
      "cell_type": "code",
      "source": [
        "#We define factors using the factor(x,levels) function\n",
        "#Let's say I have data that involves months:\n",
        "month_data <- c(\"Jan\",\"Apr\",\"Aug\")\n",
        "\n",
        "#I can use a factor structure to keep track of this data\n",
        "#the first argument is my data and the second is the levels of my factor (or every month in the year)\n",
        "month_factor <- factor(month_data,levels=c(\"Jan\",\"Feb\",\"Mar\",\"Apr\",\"May\",\"Jun\",\"Jul\",\"Aug\",\"Sep\",\"Oct\",\"Nov\",\"Dec\"))\n",
        "\n",
        "#Factors are useful because if I have a new data point it will make sure the it fits within one of the levels of the factor\n",
        "month_factor[2] <- \"Month\" #This is not allowed because \"Month\" is not in our list of levels, puts an NA there instead\n",
        "month_factor[4] <- \"Sep\" #This is allowed because \"Sep\" is in our list of levels\n",
        "\n",
        "print(month_factor)"
      ],
      "metadata": {
        "colab": {
          "base_uri": "https://localhost:8080/"
        },
        "id": "PLLBlhZCs9NB",
        "outputId": "7b5ccd64-c76c-4ea2-ae08-5ee47a5d2949"
      },
      "execution_count": null,
      "outputs": [
        {
          "output_type": "stream",
          "name": "stderr",
          "text": [
            "Warning message in `[<-.factor`(`*tmp*`, 2, value = \"Month\"):\n",
            "“invalid factor level, NA generated”\n"
          ]
        },
        {
          "output_type": "stream",
          "name": "stdout",
          "text": [
            "[1] Jan  <NA> Aug  Sep \n",
            "Levels: Jan Feb Mar Apr May Jun Jul Aug Sep Oct Nov Dec\n"
          ]
        }
      ]
    },
    {
      "cell_type": "code",
      "source": [
        "month_data <- c(\"Jan\",\"Apr\",\"Aug\")\n",
        "month_factor <- factor(month_data,levels=c(\"Jan\",\"Feb\",\"Mar\",\"Apr\",\"May\",\"Jun\",\"Jul\",\"Aug\",\"Sep\",\"Oct\",\"Nov\",\"Dec\"))\n",
        "\n",
        "#We can access data from a factor using brackets like for vectors\n",
        "print(month_factor[3])\n",
        "\n",
        "#We can also change the levels of a factor like so (it must be the same number of levels though)\n",
        "levels(month_factor) <- c(1,2,3,4,5,6,7,8,9,10,11,12)\n",
        "print(month_factor)"
      ],
      "metadata": {
        "colab": {
          "base_uri": "https://localhost:8080/"
        },
        "id": "zs5gzixYvbzk",
        "outputId": "2cfda67a-1e85-4085-bc32-38539c05bc5f"
      },
      "execution_count": null,
      "outputs": [
        {
          "output_type": "stream",
          "name": "stdout",
          "text": [
            "[1] Aug\n",
            "Levels: Jan Feb Mar Apr May Jun Jul Aug Sep Oct Nov Dec\n",
            "[1] 1 4 8\n",
            "Levels: 1 2 3 4 5 6 7 8 9 10 11 12\n"
          ]
        }
      ]
    },
    {
      "cell_type": "markdown",
      "source": [
        "Factors may not seem too helpful now, but the package forcats makes them much more useful and easier to work with."
      ],
      "metadata": {
        "id": "WTeDtmgMvSLn"
      }
    },
    {
      "cell_type": "markdown",
      "source": [
        "# Useful Vector and List Operations\n",
        "---"
      ],
      "metadata": {
        "id": "SFPqn9t3r5U4"
      }
    },
    {
      "cell_type": "markdown",
      "source": [
        "Some of these operations should seem familiar to you if you have experience with programming in another language. Feel free to just gloss over parts of this section or and use it as a reference going on (because it's a lot, I know)."
      ],
      "metadata": {
        "id": "vvl6S_-nxem3"
      }
    },
    {
      "cell_type": "markdown",
      "source": [
        "## Comparing Vectors"
      ],
      "metadata": {
        "id": "Is-VSTmitak9"
      }
    },
    {
      "cell_type": "code",
      "source": [
        "logical_vector1 <- c(TRUE,TRUE,FALSE,FALSE)\n",
        "logical_vector2 <- c(TRUE,FALSE,TRUE,FALSE)\n",
        "\n",
        "#We can do all the familiar logical operations on vectors\n",
        "print(logical_vector1 & logical_vector2)\n",
        "print(logical_vector1 | logical_vector2)\n",
        "print(!logical_vector1)\n",
        "\n",
        "numerical_vector1 <- c(1,2,3)\n",
        "numerical_vector2 <- c(4,1,3)\n",
        "\n",
        "#We also have comparison operators which compares vector elements pairwise\n",
        "print(numerical_vector1 > numerical_vector2)\n",
        "print(numerical_vector1 == numerical_vector2)\n",
        "print(numerical_vector1 < numerical_vector2)\n",
        "print(numerical_vector1 >= numerical_vector2)\n",
        "print(numerical_vector1 <= numerical_vector2)\n",
        "print(numerical_vector1 != numerical_vector2)\n",
        "\n"
      ],
      "metadata": {
        "colab": {
          "base_uri": "https://localhost:8080/"
        },
        "id": "z2GMjJva40Su",
        "outputId": "5ba7f628-26f2-4730-8324-0621fdeeac54"
      },
      "execution_count": null,
      "outputs": [
        {
          "output_type": "stream",
          "name": "stdout",
          "text": [
            "[1]  TRUE FALSE FALSE FALSE\n",
            "[1]  TRUE  TRUE  TRUE FALSE\n",
            "[1] FALSE FALSE  TRUE  TRUE\n",
            "[1] FALSE  TRUE FALSE\n",
            "[1] FALSE FALSE  TRUE\n",
            "[1]  TRUE FALSE FALSE\n",
            "[1] FALSE  TRUE  TRUE\n",
            "[1]  TRUE FALSE  TRUE\n",
            "[1]  TRUE  TRUE FALSE\n"
          ]
        }
      ]
    },
    {
      "cell_type": "markdown",
      "source": [
        "## Getting Vector / List Length"
      ],
      "metadata": {
        "id": "9gvg2DJKthlK"
      }
    },
    {
      "cell_type": "code",
      "source": [
        "cool_vector <- c(1,3,5,2,7,9)\n",
        "cool_list <- list(5,\"tree\",7.6,FALSE)\n",
        "cool_named_list <- list(binary_stuff=101101011,string_stuff=\"text here\",boolean_stuff=c(TRUE,TRUE,FALSE))\n",
        "\n",
        "#We can get the length of a list or vector using length()\n",
        "length(cool_vector)\n",
        "length(cool_list)\n",
        "length(cool_named_list)"
      ],
      "metadata": {
        "colab": {
          "base_uri": "https://localhost:8080/",
          "height": 69
        },
        "id": "oudiUTRJxl_l",
        "outputId": "433c4d32-ec48-42c9-c59f-b10dec77ef07"
      },
      "execution_count": null,
      "outputs": [
        {
          "output_type": "display_data",
          "data": {
            "text/html": [
              "6"
            ],
            "text/markdown": "6",
            "text/latex": "6",
            "text/plain": [
              "[1] 6"
            ]
          },
          "metadata": {}
        },
        {
          "output_type": "display_data",
          "data": {
            "text/html": [
              "4"
            ],
            "text/markdown": "4",
            "text/latex": "4",
            "text/plain": [
              "[1] 4"
            ]
          },
          "metadata": {}
        },
        {
          "output_type": "display_data",
          "data": {
            "text/html": [
              "3"
            ],
            "text/markdown": "3",
            "text/latex": "3",
            "text/plain": [
              "[1] 3"
            ]
          },
          "metadata": {}
        }
      ]
    },
    {
      "cell_type": "markdown",
      "source": [
        "## Sorting and Ordering Vectors"
      ],
      "metadata": {
        "id": "1LedOcNNtnPn"
      }
    },
    {
      "cell_type": "code",
      "source": [
        "cool_vector <- c(1,3,5,2,7,9)\n",
        "cool_letters <- c(\"A\",\"b\",\"D\",\"Z\",\"z\",\"C\")\n",
        "\n",
        "#We can sort vectors using sort(); read the documentation for all the various options and parameters in this function\n",
        "sort(cool_vector)\n",
        "sort(cool_vector,decreasing=TRUE)\n",
        "sort(cool_letters)"
      ],
      "metadata": {
        "colab": {
          "base_uri": "https://localhost:8080/",
          "height": 69
        },
        "id": "9KuCIHwpyGSJ",
        "outputId": "3a71c506-6809-4efc-9d6c-7f8da41e4ced"
      },
      "execution_count": null,
      "outputs": [
        {
          "output_type": "display_data",
          "data": {
            "text/html": [
              "<style>\n",
              ".list-inline {list-style: none; margin:0; padding: 0}\n",
              ".list-inline>li {display: inline-block}\n",
              ".list-inline>li:not(:last-child)::after {content: \"\\00b7\"; padding: 0 .5ex}\n",
              "</style>\n",
              "<ol class=list-inline><li>1</li><li>2</li><li>3</li><li>5</li><li>7</li><li>9</li></ol>\n"
            ],
            "text/markdown": "1. 1\n2. 2\n3. 3\n4. 5\n5. 7\n6. 9\n\n\n",
            "text/latex": "\\begin{enumerate*}\n\\item 1\n\\item 2\n\\item 3\n\\item 5\n\\item 7\n\\item 9\n\\end{enumerate*}\n",
            "text/plain": [
              "[1] 1 2 3 5 7 9"
            ]
          },
          "metadata": {}
        },
        {
          "output_type": "display_data",
          "data": {
            "text/html": [
              "<style>\n",
              ".list-inline {list-style: none; margin:0; padding: 0}\n",
              ".list-inline>li {display: inline-block}\n",
              ".list-inline>li:not(:last-child)::after {content: \"\\00b7\"; padding: 0 .5ex}\n",
              "</style>\n",
              "<ol class=list-inline><li>9</li><li>7</li><li>5</li><li>3</li><li>2</li><li>1</li></ol>\n"
            ],
            "text/markdown": "1. 9\n2. 7\n3. 5\n4. 3\n5. 2\n6. 1\n\n\n",
            "text/latex": "\\begin{enumerate*}\n\\item 9\n\\item 7\n\\item 5\n\\item 3\n\\item 2\n\\item 1\n\\end{enumerate*}\n",
            "text/plain": [
              "[1] 9 7 5 3 2 1"
            ]
          },
          "metadata": {}
        },
        {
          "output_type": "display_data",
          "data": {
            "text/html": [
              "<style>\n",
              ".list-inline {list-style: none; margin:0; padding: 0}\n",
              ".list-inline>li {display: inline-block}\n",
              ".list-inline>li:not(:last-child)::after {content: \"\\00b7\"; padding: 0 .5ex}\n",
              "</style>\n",
              "<ol class=list-inline><li>'A'</li><li>'b'</li><li>'C'</li><li>'D'</li><li>'z'</li><li>'Z'</li></ol>\n"
            ],
            "text/markdown": "1. 'A'\n2. 'b'\n3. 'C'\n4. 'D'\n5. 'z'\n6. 'Z'\n\n\n",
            "text/latex": "\\begin{enumerate*}\n\\item 'A'\n\\item 'b'\n\\item 'C'\n\\item 'D'\n\\item 'z'\n\\item 'Z'\n\\end{enumerate*}\n",
            "text/plain": [
              "[1] \"A\" \"b\" \"C\" \"D\" \"z\" \"Z\""
            ]
          },
          "metadata": {}
        }
      ]
    },
    {
      "cell_type": "code",
      "source": [
        "cool_vector <- c(1,3,5,2,7,9)\n",
        "\n",
        "#We can also use the function order() to return an integer vector of the permutation of subscripts which sorts the vector\n",
        "order(cool_vector)"
      ],
      "metadata": {
        "colab": {
          "base_uri": "https://localhost:8080/",
          "height": 34
        },
        "id": "HxWhz9UA0Ev3",
        "outputId": "057d8535-eea2-462c-e751-22624e8e28ec"
      },
      "execution_count": null,
      "outputs": [
        {
          "output_type": "display_data",
          "data": {
            "text/html": [
              "<style>\n",
              ".list-inline {list-style: none; margin:0; padding: 0}\n",
              ".list-inline>li {display: inline-block}\n",
              ".list-inline>li:not(:last-child)::after {content: \"\\00b7\"; padding: 0 .5ex}\n",
              "</style>\n",
              "<ol class=list-inline><li>1</li><li>4</li><li>2</li><li>3</li><li>5</li><li>6</li></ol>\n"
            ],
            "text/markdown": "1. 1\n2. 4\n3. 2\n4. 3\n5. 5\n6. 6\n\n\n",
            "text/latex": "\\begin{enumerate*}\n\\item 1\n\\item 4\n\\item 2\n\\item 3\n\\item 5\n\\item 6\n\\end{enumerate*}\n",
            "text/plain": [
              "[1] 1 4 2 3 5 6"
            ]
          },
          "metadata": {}
        }
      ]
    },
    {
      "cell_type": "markdown",
      "source": [
        "## Sorting, Ordering, and Unpacking Lists"
      ],
      "metadata": {
        "id": "o_NISgHststz"
      }
    },
    {
      "cell_type": "code",
      "source": [
        "new_cool_list <- list(2,4,7,3,5)\n",
        "\n",
        "#If we want to order a list we have to use a combination of unlist() and order() from before\n",
        "unlisted_elements <- unlist(new_cool_list) #This is going to recursively unpack the elements of the list as a vector, it also works to unpack nested elements in lists\n",
        "\n",
        "#Now we are going to use order() to return the ordered subscript permutation from this unpacked list and use it to sort the original list\n",
        "new_ordered_list <- new_cool_list[order(unlisted_elements)]\n",
        "print(new_ordered_list)"
      ],
      "metadata": {
        "colab": {
          "base_uri": "https://localhost:8080/",
          "height": 575
        },
        "id": "ZmM_fZU4z7HB",
        "outputId": "76ad2348-6b85-44d5-a35e-ca80e4c0138b"
      },
      "execution_count": null,
      "outputs": [
        {
          "output_type": "stream",
          "name": "stdout",
          "text": [
            "[[1]]\n",
            "[1] 2\n",
            "\n",
            "[[2]]\n",
            "[1] 3\n",
            "\n",
            "[[3]]\n",
            "[1] 4\n",
            "\n",
            "[[4]]\n",
            "[1] 5\n",
            "\n",
            "[[5]]\n",
            "[1] 7\n",
            "\n"
          ]
        },
        {
          "output_type": "error",
          "ename": "ERROR",
          "evalue": "Error in sort.int(x, na.last = na.last, decreasing = decreasing, ...): 'x' must be atomic\n",
          "traceback": [
            "Error in sort.int(x, na.last = na.last, decreasing = decreasing, ...): 'x' must be atomic\nTraceback:\n",
            "1. sort.default(new_cool_list)",
            "2. sort.int(x, na.last = na.last, decreasing = decreasing, ...)",
            "3. stop(\"'x' must be atomic\")",
            "4. .handleSimpleError(function (cnd) \n . {\n .     watcher$capture_plot_and_output()\n .     cnd <- sanitize_call(cnd)\n .     watcher$push(cnd)\n .     switch(on_error, continue = invokeRestart(\"eval_continue\"), \n .         stop = invokeRestart(\"eval_stop\"), error = NULL)\n . }, \"'x' must be atomic\", base::quote(sort.int(x, na.last = na.last, \n .     decreasing = decreasing, ...)))"
          ]
        }
      ]
    },
    {
      "cell_type": "markdown",
      "source": [
        "## Applying Functions to Vector / List Elements"
      ],
      "metadata": {
        "id": "YQrFGXtntx61"
      }
    },
    {
      "cell_type": "code",
      "source": [
        "cool_named_list <- list(binary_stuff=101101011,string_stuff=\"text here\",boolean_stuff=c(TRUE,TRUE,FALSE))\n",
        "cool_number_list <- list(2*pi,pi,pi/2)\n",
        "\n",
        "#To apply a function to every single element of a list we can use lapply()\n",
        "print(lapply(cool_named_list,length))\n",
        "\n",
        "#The function sapply() works similarly to lapply() except it attempts to simplfy the output to a vector if all of the output elements are of the same type\n",
        "print(sapply(cool_number_list,sin)) #sin is the trigonometric sine function here; more on this later!\n",
        "\n",
        "#NOTE: lapply() and sapply() also work similarly on vectors"
      ],
      "metadata": {
        "colab": {
          "base_uri": "https://localhost:8080/"
        },
        "id": "83hifEYS6AGb",
        "outputId": "e1ae6be7-a56e-4f17-c6fd-c8e64f12a253"
      },
      "execution_count": null,
      "outputs": [
        {
          "output_type": "stream",
          "name": "stdout",
          "text": [
            "$binary_stuff\n",
            "[1] 1\n",
            "\n",
            "$string_stuff\n",
            "[1] 1\n",
            "\n",
            "$boolean_stuff\n",
            "[1] 3\n",
            "\n",
            "[1] -2.449294e-16  1.224647e-16  1.000000e+00\n"
          ]
        }
      ]
    },
    {
      "cell_type": "markdown",
      "source": [
        "## Passing in Function Arguments With Lists"
      ],
      "metadata": {
        "id": "7xc7_rc1uFIZ"
      }
    },
    {
      "cell_type": "code",
      "source": [
        "new_cool_list <- list(2,4,7,3,5)\n",
        "\n",
        "#The function do.call(what,args) will take in a list as args and pass them into the function 'what'\n",
        "do.call(sum,new_cool_list) #This is exactly equivalent to sum(2,4,7,3,5)\n",
        "\n",
        "new_named_list <- list(\"row.names\"=c(\"r1\",\"r2\",\"r3\"),\"arg 2\"=c(1:3),\"arg 1\"=c(\"A\",\"B\",\"C\"))\n",
        "\n",
        "#do.call() can also take in a named list and will attempt to match the names of the list elements to the arguments in 'what'\n",
        "do.call(data.frame,new_named_list) #When passing in arguments like this, the order they appear in the list does not matter"
      ],
      "metadata": {
        "colab": {
          "base_uri": "https://localhost:8080/",
          "height": 210
        },
        "id": "3g1ioYeYguWl",
        "outputId": "41324113-e9b5-4507-8749-c360240c31ef"
      },
      "execution_count": null,
      "outputs": [
        {
          "output_type": "display_data",
          "data": {
            "text/html": [
              "21"
            ],
            "text/markdown": "21",
            "text/latex": "21",
            "text/plain": [
              "[1] 21"
            ]
          },
          "metadata": {}
        },
        {
          "output_type": "display_data",
          "data": {
            "text/html": [
              "<table class=\"dataframe\">\n",
              "<caption>A data.frame: 3 × 2</caption>\n",
              "<thead>\n",
              "\t<tr><th></th><th scope=col>arg.2</th><th scope=col>arg.1</th></tr>\n",
              "\t<tr><th></th><th scope=col>&lt;int&gt;</th><th scope=col>&lt;chr&gt;</th></tr>\n",
              "</thead>\n",
              "<tbody>\n",
              "\t<tr><th scope=row>r1</th><td>1</td><td>A</td></tr>\n",
              "\t<tr><th scope=row>r2</th><td>2</td><td>B</td></tr>\n",
              "\t<tr><th scope=row>r3</th><td>3</td><td>C</td></tr>\n",
              "</tbody>\n",
              "</table>\n"
            ],
            "text/markdown": "\nA data.frame: 3 × 2\n\n| <!--/--> | arg.2 &lt;int&gt; | arg.1 &lt;chr&gt; |\n|---|---|---|\n| r1 | 1 | A |\n| r2 | 2 | B |\n| r3 | 3 | C |\n\n",
            "text/latex": "A data.frame: 3 × 2\n\\begin{tabular}{r|ll}\n  & arg.2 & arg.1\\\\\n  & <int> & <chr>\\\\\n\\hline\n\tr1 & 1 & A\\\\\n\tr2 & 2 & B\\\\\n\tr3 & 3 & C\\\\\n\\end{tabular}\n",
            "text/plain": [
              "   arg.2 arg.1\n",
              "r1 1     A    \n",
              "r2 2     B    \n",
              "r3 3     C    "
            ]
          },
          "metadata": {}
        }
      ]
    },
    {
      "cell_type": "markdown",
      "source": [
        "## Adding and Redefining Vector / List Elements"
      ],
      "metadata": {
        "id": "YoBHCccpuIyO"
      }
    },
    {
      "cell_type": "code",
      "source": [
        "cool_vector <- c(1,3,5,2,7,9)\n",
        "cool_list <- list(5,\"tree\",7.6,FALSE)\n",
        "\n",
        "#We can redefine or add elements of a list or vector like so\n",
        "cool_vector[3] <- 100\n",
        "cool_list[1] <- 999\n",
        "cool_vector[10] <- 333 #This is going to stuff NAs in between the end of the original vector and the added element\n",
        "cool_list$new_element <- \"new stuff\"\n",
        "print(cool_vector)\n",
        "print(cool_list)"
      ],
      "metadata": {
        "colab": {
          "base_uri": "https://localhost:8080/"
        },
        "id": "fudORtwP7ivu",
        "outputId": "b035bd57-eedb-4d57-c62a-b8f62e04aa40"
      },
      "execution_count": null,
      "outputs": [
        {
          "output_type": "stream",
          "name": "stdout",
          "text": [
            " [1]   1   3 100   2   7   9  NA  NA  NA 333\n",
            "[[1]]\n",
            "[1] 999\n",
            "\n",
            "[[2]]\n",
            "[1] \"tree\"\n",
            "\n",
            "[[3]]\n",
            "[1] 7.6\n",
            "\n",
            "[[4]]\n",
            "[1] FALSE\n",
            "\n",
            "$new_element\n",
            "[1] \"new stuff\"\n",
            "\n"
          ]
        }
      ]
    },
    {
      "cell_type": "markdown",
      "source": [
        "## Removing Vector / List Elements"
      ],
      "metadata": {
        "id": "vxk38gX2uNxN"
      }
    },
    {
      "cell_type": "code",
      "source": [
        "cool_vector <- c(1,3,5,2,7,9)\n",
        "cool_list <- list(5,\"tree\",7.6,FALSE)\n",
        "\n",
        "#We can also remove elements like so\n",
        "cool_vector <- cool_vector[c(-2,-4)] #negative indexing returns everything in the list EXCEPT the negative specified indexes\n",
        "cool_list[2] <- NULL #this method of assigning NULL to remove an element does not work on vectors unfortunately\n",
        "print(cool_vector)\n",
        "print(cool_list)"
      ],
      "metadata": {
        "colab": {
          "base_uri": "https://localhost:8080/"
        },
        "id": "IjjGPeTw9ED2",
        "outputId": "66439083-5363-4fba-b383-be7c6e3402a1"
      },
      "execution_count": null,
      "outputs": [
        {
          "output_type": "stream",
          "name": "stdout",
          "text": [
            "[1] 1 5 7 9\n",
            "[[1]]\n",
            "[1] 5\n",
            "\n",
            "[[2]]\n",
            "[1] 7.6\n",
            "\n",
            "[[3]]\n",
            "[1] FALSE\n",
            "\n"
          ]
        }
      ]
    },
    {
      "cell_type": "markdown",
      "source": [
        "# Useful Data Frame Operations\n",
        "---"
      ],
      "metadata": {
        "id": "XxBKVbZLyvIh"
      }
    },
    {
      "cell_type": "markdown",
      "source": [
        "Most of the data you will find yourself working with will be contained in data frames, so this section is going over some very helpful functions you may find yourself needing. Similar to the last section, this section is large, so feel free to just use it as a reference for later activities!"
      ],
      "metadata": {
        "id": "2X04RcCCzPzr"
      }
    },
    {
      "cell_type": "markdown",
      "source": [
        "## Previewing and Summarizing Data Frames"
      ],
      "metadata": {
        "id": "0yqJl32uu4gU"
      }
    },
    {
      "cell_type": "code",
      "source": [
        "new_frame <- data.frame(\"column_1\"=c(1:10),\"column_2\"=c(\"a\",\"b\",\"c\",\"d\",\"e\",\"f\",\"g\",\"h\",\"i\",\"j\"),\"column_3\"=c(13:22))\n",
        "\n",
        "#Sometimes you just want to get a sneak peek at the structure of the frame; for this use head() and tail()\n",
        "head(new_frame,5) #will return the first 5 rows of the frame\n",
        "tail(new_frame,4) #will return the last 4 rows of the frame\n",
        "\n",
        "#NOTE: Look in the documentation for the number of rows head() and tail() return by default; as of now it is 6"
      ],
      "metadata": {
        "colab": {
          "base_uri": "https://localhost:8080/",
          "height": 461
        },
        "id": "VcGp3cQ_TNBg",
        "outputId": "be0737f1-51d3-40b7-bb24-98caaa1484e5"
      },
      "execution_count": null,
      "outputs": [
        {
          "output_type": "display_data",
          "data": {
            "text/html": [
              "<table class=\"dataframe\">\n",
              "<caption>A data.frame: 5 × 3</caption>\n",
              "<thead>\n",
              "\t<tr><th></th><th scope=col>column_1</th><th scope=col>column_2</th><th scope=col>column_3</th></tr>\n",
              "\t<tr><th></th><th scope=col>&lt;int&gt;</th><th scope=col>&lt;chr&gt;</th><th scope=col>&lt;int&gt;</th></tr>\n",
              "</thead>\n",
              "<tbody>\n",
              "\t<tr><th scope=row>1</th><td>1</td><td>a</td><td>13</td></tr>\n",
              "\t<tr><th scope=row>2</th><td>2</td><td>b</td><td>14</td></tr>\n",
              "\t<tr><th scope=row>3</th><td>3</td><td>c</td><td>15</td></tr>\n",
              "\t<tr><th scope=row>4</th><td>4</td><td>d</td><td>16</td></tr>\n",
              "\t<tr><th scope=row>5</th><td>5</td><td>e</td><td>17</td></tr>\n",
              "</tbody>\n",
              "</table>\n"
            ],
            "text/markdown": "\nA data.frame: 5 × 3\n\n| <!--/--> | column_1 &lt;int&gt; | column_2 &lt;chr&gt; | column_3 &lt;int&gt; |\n|---|---|---|---|\n| 1 | 1 | a | 13 |\n| 2 | 2 | b | 14 |\n| 3 | 3 | c | 15 |\n| 4 | 4 | d | 16 |\n| 5 | 5 | e | 17 |\n\n",
            "text/latex": "A data.frame: 5 × 3\n\\begin{tabular}{r|lll}\n  & column\\_1 & column\\_2 & column\\_3\\\\\n  & <int> & <chr> & <int>\\\\\n\\hline\n\t1 & 1 & a & 13\\\\\n\t2 & 2 & b & 14\\\\\n\t3 & 3 & c & 15\\\\\n\t4 & 4 & d & 16\\\\\n\t5 & 5 & e & 17\\\\\n\\end{tabular}\n",
            "text/plain": [
              "  column_1 column_2 column_3\n",
              "1 1        a        13      \n",
              "2 2        b        14      \n",
              "3 3        c        15      \n",
              "4 4        d        16      \n",
              "5 5        e        17      "
            ]
          },
          "metadata": {}
        },
        {
          "output_type": "display_data",
          "data": {
            "text/html": [
              "<table class=\"dataframe\">\n",
              "<caption>A data.frame: 4 × 3</caption>\n",
              "<thead>\n",
              "\t<tr><th></th><th scope=col>column_1</th><th scope=col>column_2</th><th scope=col>column_3</th></tr>\n",
              "\t<tr><th></th><th scope=col>&lt;int&gt;</th><th scope=col>&lt;chr&gt;</th><th scope=col>&lt;int&gt;</th></tr>\n",
              "</thead>\n",
              "<tbody>\n",
              "\t<tr><th scope=row>7</th><td> 7</td><td>g</td><td>19</td></tr>\n",
              "\t<tr><th scope=row>8</th><td> 8</td><td>h</td><td>20</td></tr>\n",
              "\t<tr><th scope=row>9</th><td> 9</td><td>i</td><td>21</td></tr>\n",
              "\t<tr><th scope=row>10</th><td>10</td><td>j</td><td>22</td></tr>\n",
              "</tbody>\n",
              "</table>\n"
            ],
            "text/markdown": "\nA data.frame: 4 × 3\n\n| <!--/--> | column_1 &lt;int&gt; | column_2 &lt;chr&gt; | column_3 &lt;int&gt; |\n|---|---|---|---|\n| 7 |  7 | g | 19 |\n| 8 |  8 | h | 20 |\n| 9 |  9 | i | 21 |\n| 10 | 10 | j | 22 |\n\n",
            "text/latex": "A data.frame: 4 × 3\n\\begin{tabular}{r|lll}\n  & column\\_1 & column\\_2 & column\\_3\\\\\n  & <int> & <chr> & <int>\\\\\n\\hline\n\t7 &  7 & g & 19\\\\\n\t8 &  8 & h & 20\\\\\n\t9 &  9 & i & 21\\\\\n\t10 & 10 & j & 22\\\\\n\\end{tabular}\n",
            "text/plain": [
              "   column_1 column_2 column_3\n",
              "7   7       g        19      \n",
              "8   8       h        20      \n",
              "9   9       i        21      \n",
              "10 10       j        22      "
            ]
          },
          "metadata": {}
        }
      ]
    },
    {
      "cell_type": "code",
      "source": [
        "new_frame <- data.frame(\"column_1\"=c(1:10),\"column_2\"=c(\"a\",\"b\",\"c\",\"d\",\"e\",\"f\",\"g\",\"h\",\"i\",\"j\"),\"column_3\"=c(13:22))\n",
        "\n",
        "#The function summary() will give you a basic statistical breakdown of a data frame!\n",
        "summary(new_frame)"
      ],
      "metadata": {
        "colab": {
          "base_uri": "https://localhost:8080/",
          "height": 139
        },
        "id": "2o9PmVROULKZ",
        "outputId": "cae4e7f1-2c14-45b5-e67e-f40107930292"
      },
      "execution_count": null,
      "outputs": [
        {
          "output_type": "display_data",
          "data": {
            "text/plain": [
              "    column_1       column_2            column_3    \n",
              " Min.   : 1.00   Length:10          Min.   :13.00  \n",
              " 1st Qu.: 3.25   Class :character   1st Qu.:15.25  \n",
              " Median : 5.50   Mode  :character   Median :17.50  \n",
              " Mean   : 5.50                      Mean   :17.50  \n",
              " 3rd Qu.: 7.75                      3rd Qu.:19.75  \n",
              " Max.   :10.00                      Max.   :22.00  "
            ]
          },
          "metadata": {}
        }
      ]
    },
    {
      "cell_type": "markdown",
      "source": [
        "## Getting Data Frame Dimensions"
      ],
      "metadata": {
        "id": "sBz3L4-cusaA"
      }
    },
    {
      "cell_type": "code",
      "source": [
        "new_frame <- data.frame(\"column_1\"=c(1,2,3,4),\"column_2\"=c(\"a\",\"b\",\"c\",\"d\"))\n",
        "new_matrix <- matrix(c(1:10),5,2)\n",
        "new_array <- array(c(1:24),c(3,4,2))\n",
        "\n",
        "#We can access the dimensions of a data frame, matrix, or array using these functions\n",
        "print(\"Data Frame dimensions:\")\n",
        "nrow(new_frame)\n",
        "ncol(new_frame)\n",
        "dim(new_frame)\n",
        "print(\"Matrix dimensions:\")\n",
        "nrow(new_matrix)\n",
        "ncol(new_matrix)\n",
        "dim(new_matrix)\n",
        "print(\"Array dimensions:\")\n",
        "nrow(new_array)\n",
        "ncol(new_array)\n",
        "dim(new_array)"
      ],
      "metadata": {
        "colab": {
          "base_uri": "https://localhost:8080/",
          "height": 225
        },
        "id": "Sjui2FAarYrv",
        "outputId": "edb6d171-72e3-4c83-ffe6-5ca8b8c7f68f"
      },
      "execution_count": null,
      "outputs": [
        {
          "output_type": "stream",
          "name": "stdout",
          "text": [
            "[1] \"Data Frame dimensions:\"\n"
          ]
        },
        {
          "output_type": "display_data",
          "data": {
            "text/html": [
              "4"
            ],
            "text/markdown": "4",
            "text/latex": "4",
            "text/plain": [
              "[1] 4"
            ]
          },
          "metadata": {}
        },
        {
          "output_type": "display_data",
          "data": {
            "text/html": [
              "2"
            ],
            "text/markdown": "2",
            "text/latex": "2",
            "text/plain": [
              "[1] 2"
            ]
          },
          "metadata": {}
        },
        {
          "output_type": "display_data",
          "data": {
            "text/html": [
              "<style>\n",
              ".list-inline {list-style: none; margin:0; padding: 0}\n",
              ".list-inline>li {display: inline-block}\n",
              ".list-inline>li:not(:last-child)::after {content: \"\\00b7\"; padding: 0 .5ex}\n",
              "</style>\n",
              "<ol class=list-inline><li>4</li><li>2</li></ol>\n"
            ],
            "text/markdown": "1. 4\n2. 2\n\n\n",
            "text/latex": "\\begin{enumerate*}\n\\item 4\n\\item 2\n\\end{enumerate*}\n",
            "text/plain": [
              "[1] 4 2"
            ]
          },
          "metadata": {}
        },
        {
          "output_type": "stream",
          "name": "stdout",
          "text": [
            "[1] \"Matrix dimensions:\"\n"
          ]
        },
        {
          "output_type": "display_data",
          "data": {
            "text/html": [
              "5"
            ],
            "text/markdown": "5",
            "text/latex": "5",
            "text/plain": [
              "[1] 5"
            ]
          },
          "metadata": {}
        },
        {
          "output_type": "display_data",
          "data": {
            "text/html": [
              "2"
            ],
            "text/markdown": "2",
            "text/latex": "2",
            "text/plain": [
              "[1] 2"
            ]
          },
          "metadata": {}
        },
        {
          "output_type": "display_data",
          "data": {
            "text/html": [
              "<style>\n",
              ".list-inline {list-style: none; margin:0; padding: 0}\n",
              ".list-inline>li {display: inline-block}\n",
              ".list-inline>li:not(:last-child)::after {content: \"\\00b7\"; padding: 0 .5ex}\n",
              "</style>\n",
              "<ol class=list-inline><li>5</li><li>2</li></ol>\n"
            ],
            "text/markdown": "1. 5\n2. 2\n\n\n",
            "text/latex": "\\begin{enumerate*}\n\\item 5\n\\item 2\n\\end{enumerate*}\n",
            "text/plain": [
              "[1] 5 2"
            ]
          },
          "metadata": {}
        },
        {
          "output_type": "stream",
          "name": "stdout",
          "text": [
            "[1] \"Array dimensions:\"\n"
          ]
        },
        {
          "output_type": "display_data",
          "data": {
            "text/html": [
              "3"
            ],
            "text/markdown": "3",
            "text/latex": "3",
            "text/plain": [
              "[1] 3"
            ]
          },
          "metadata": {}
        },
        {
          "output_type": "display_data",
          "data": {
            "text/html": [
              "4"
            ],
            "text/markdown": "4",
            "text/latex": "4",
            "text/plain": [
              "[1] 4"
            ]
          },
          "metadata": {}
        },
        {
          "output_type": "display_data",
          "data": {
            "text/html": [
              "<style>\n",
              ".list-inline {list-style: none; margin:0; padding: 0}\n",
              ".list-inline>li {display: inline-block}\n",
              ".list-inline>li:not(:last-child)::after {content: \"\\00b7\"; padding: 0 .5ex}\n",
              "</style>\n",
              "<ol class=list-inline><li>3</li><li>4</li><li>2</li></ol>\n"
            ],
            "text/markdown": "1. 3\n2. 4\n3. 2\n\n\n",
            "text/latex": "\\begin{enumerate*}\n\\item 3\n\\item 4\n\\item 2\n\\end{enumerate*}\n",
            "text/plain": [
              "[1] 3 4 2"
            ]
          },
          "metadata": {}
        }
      ]
    },
    {
      "cell_type": "markdown",
      "source": [
        "## Extracting Elements From Data Frames"
      ],
      "metadata": {
        "id": "-_qwBwrFuwxi"
      }
    },
    {
      "cell_type": "code",
      "source": [
        "new_frame <- data.frame(\"column_1\"=c(1,2,3,4),\"column_2\"=c(\"a\",\"b\",\"c\",\"d\"),\"column_3\"=c(\"d\",\"g\",\"f\",\"l\"))\n",
        "\n",
        "#There are many ways of extracting from data frames, but one of the most useful ways is using the function subset()\n",
        "#the first argument passed is the data frame\n",
        "#the second is a logical expression indicating which rows to select\n",
        "#the third is an expression indicating which columns to select (can be logical or simply a vector of column names)\n",
        "\n",
        "subset(new_frame,column_1 <=2 | column_2==\"d\",c(column_1,column_3)) #notice now subset has access to the column names themselves!\n",
        "subset(new_frame,column_1 <=2 | column_2==\"d\",c(TRUE,FALSE,TRUE)) #doing the same thing as before, just with a logical vector instead of column names"
      ],
      "metadata": {
        "colab": {
          "base_uri": "https://localhost:8080/",
          "height": 367
        },
        "id": "qkXMcR2bNDfw",
        "outputId": "29f80f55-d407-44a2-902f-88c227223ab7"
      },
      "execution_count": null,
      "outputs": [
        {
          "output_type": "display_data",
          "data": {
            "text/html": [
              "<table class=\"dataframe\">\n",
              "<caption>A data.frame: 3 × 2</caption>\n",
              "<thead>\n",
              "\t<tr><th></th><th scope=col>column_1</th><th scope=col>column_3</th></tr>\n",
              "\t<tr><th></th><th scope=col>&lt;dbl&gt;</th><th scope=col>&lt;chr&gt;</th></tr>\n",
              "</thead>\n",
              "<tbody>\n",
              "\t<tr><th scope=row>1</th><td>1</td><td>d</td></tr>\n",
              "\t<tr><th scope=row>2</th><td>2</td><td>g</td></tr>\n",
              "\t<tr><th scope=row>4</th><td>4</td><td>l</td></tr>\n",
              "</tbody>\n",
              "</table>\n"
            ],
            "text/markdown": "\nA data.frame: 3 × 2\n\n| <!--/--> | column_1 &lt;dbl&gt; | column_3 &lt;chr&gt; |\n|---|---|---|\n| 1 | 1 | d |\n| 2 | 2 | g |\n| 4 | 4 | l |\n\n",
            "text/latex": "A data.frame: 3 × 2\n\\begin{tabular}{r|ll}\n  & column\\_1 & column\\_3\\\\\n  & <dbl> & <chr>\\\\\n\\hline\n\t1 & 1 & d\\\\\n\t2 & 2 & g\\\\\n\t4 & 4 & l\\\\\n\\end{tabular}\n",
            "text/plain": [
              "  column_1 column_3\n",
              "1 1        d       \n",
              "2 2        g       \n",
              "4 4        l       "
            ]
          },
          "metadata": {}
        },
        {
          "output_type": "display_data",
          "data": {
            "text/html": [
              "<table class=\"dataframe\">\n",
              "<caption>A data.frame: 3 × 2</caption>\n",
              "<thead>\n",
              "\t<tr><th></th><th scope=col>column_1</th><th scope=col>column_3</th></tr>\n",
              "\t<tr><th></th><th scope=col>&lt;dbl&gt;</th><th scope=col>&lt;chr&gt;</th></tr>\n",
              "</thead>\n",
              "<tbody>\n",
              "\t<tr><th scope=row>1</th><td>1</td><td>d</td></tr>\n",
              "\t<tr><th scope=row>2</th><td>2</td><td>g</td></tr>\n",
              "\t<tr><th scope=row>4</th><td>4</td><td>l</td></tr>\n",
              "</tbody>\n",
              "</table>\n"
            ],
            "text/markdown": "\nA data.frame: 3 × 2\n\n| <!--/--> | column_1 &lt;dbl&gt; | column_3 &lt;chr&gt; |\n|---|---|---|\n| 1 | 1 | d |\n| 2 | 2 | g |\n| 4 | 4 | l |\n\n",
            "text/latex": "A data.frame: 3 × 2\n\\begin{tabular}{r|ll}\n  & column\\_1 & column\\_3\\\\\n  & <dbl> & <chr>\\\\\n\\hline\n\t1 & 1 & d\\\\\n\t2 & 2 & g\\\\\n\t4 & 4 & l\\\\\n\\end{tabular}\n",
            "text/plain": [
              "  column_1 column_3\n",
              "1 1        d       \n",
              "2 2        g       \n",
              "4 4        l       "
            ]
          },
          "metadata": {}
        }
      ]
    },
    {
      "cell_type": "code",
      "source": [
        "new_frame <- data.frame(\"column_1\"=c(1,2,3,4),\"column_2\"=c(\"a\",\"b\",\"c\",\"d\"),\"column_3\"=c(\"d\",\"g\",\"f\",\"l\"))\n",
        "\n",
        "#We can also extract elements from data frames by logical vectors (which can be obtained using logical expressions)\n",
        "new_frame[c(TRUE,FALSE,TRUE,FALSE),c(TRUE,TRUE,FALSE)] #Here I'm just extracting certain rows and columns using logical vectors directly\n",
        "new_frame[new_frame[\"column_1\"] > 2 | new_frame[\"column_2\"]==\"b\",] #This is selecting rows using a logical expression\n",
        "\n",
        "#NOTE: selecting from data frames this way can oftentimes be very verbose, and it is better practice to use subset() over this method"
      ],
      "metadata": {
        "colab": {
          "base_uri": "https://localhost:8080/",
          "height": 336
        },
        "id": "SgwEW0QqPMCf",
        "outputId": "15988b2b-2e3f-4ee2-a35c-88aa9da24319"
      },
      "execution_count": null,
      "outputs": [
        {
          "output_type": "display_data",
          "data": {
            "text/html": [
              "<table class=\"dataframe\">\n",
              "<caption>A data.frame: 2 × 2</caption>\n",
              "<thead>\n",
              "\t<tr><th></th><th scope=col>column_1</th><th scope=col>column_2</th></tr>\n",
              "\t<tr><th></th><th scope=col>&lt;dbl&gt;</th><th scope=col>&lt;chr&gt;</th></tr>\n",
              "</thead>\n",
              "<tbody>\n",
              "\t<tr><th scope=row>1</th><td>1</td><td>a</td></tr>\n",
              "\t<tr><th scope=row>3</th><td>3</td><td>c</td></tr>\n",
              "</tbody>\n",
              "</table>\n"
            ],
            "text/markdown": "\nA data.frame: 2 × 2\n\n| <!--/--> | column_1 &lt;dbl&gt; | column_2 &lt;chr&gt; |\n|---|---|---|\n| 1 | 1 | a |\n| 3 | 3 | c |\n\n",
            "text/latex": "A data.frame: 2 × 2\n\\begin{tabular}{r|ll}\n  & column\\_1 & column\\_2\\\\\n  & <dbl> & <chr>\\\\\n\\hline\n\t1 & 1 & a\\\\\n\t3 & 3 & c\\\\\n\\end{tabular}\n",
            "text/plain": [
              "  column_1 column_2\n",
              "1 1        a       \n",
              "3 3        c       "
            ]
          },
          "metadata": {}
        },
        {
          "output_type": "display_data",
          "data": {
            "text/html": [
              "<table class=\"dataframe\">\n",
              "<caption>A data.frame: 3 × 3</caption>\n",
              "<thead>\n",
              "\t<tr><th></th><th scope=col>column_1</th><th scope=col>column_2</th><th scope=col>column_3</th></tr>\n",
              "\t<tr><th></th><th scope=col>&lt;dbl&gt;</th><th scope=col>&lt;chr&gt;</th><th scope=col>&lt;chr&gt;</th></tr>\n",
              "</thead>\n",
              "<tbody>\n",
              "\t<tr><th scope=row>2</th><td>2</td><td>b</td><td>g</td></tr>\n",
              "\t<tr><th scope=row>3</th><td>3</td><td>c</td><td>f</td></tr>\n",
              "\t<tr><th scope=row>4</th><td>4</td><td>d</td><td>l</td></tr>\n",
              "</tbody>\n",
              "</table>\n"
            ],
            "text/markdown": "\nA data.frame: 3 × 3\n\n| <!--/--> | column_1 &lt;dbl&gt; | column_2 &lt;chr&gt; | column_3 &lt;chr&gt; |\n|---|---|---|---|\n| 2 | 2 | b | g |\n| 3 | 3 | c | f |\n| 4 | 4 | d | l |\n\n",
            "text/latex": "A data.frame: 3 × 3\n\\begin{tabular}{r|lll}\n  & column\\_1 & column\\_2 & column\\_3\\\\\n  & <dbl> & <chr> & <chr>\\\\\n\\hline\n\t2 & 2 & b & g\\\\\n\t3 & 3 & c & f\\\\\n\t4 & 4 & d & l\\\\\n\\end{tabular}\n",
            "text/plain": [
              "  column_1 column_2 column_3\n",
              "2 2        b        g       \n",
              "3 3        c        f       \n",
              "4 4        d        l       "
            ]
          },
          "metadata": {}
        }
      ]
    },
    {
      "cell_type": "markdown",
      "source": [
        "## Redefining Row and Column Names"
      ],
      "metadata": {
        "id": "XR552uDcu1E4"
      }
    },
    {
      "cell_type": "code",
      "source": [
        "new_frame <- data.frame(\"column_1\"=c(1,2,3,4),\"column_2\"=c(\"a\",\"b\",\"c\",\"d\"),\"column_3\"=c(\"d\",\"g\",\"f\",\"l\"))\n",
        "\n",
        "#We can use the functions row.names() and colnames() to both return names an assign new names to each dimension\n",
        "row.names(new_frame) #Will return the default numbered row names given to the frame\n",
        "colnames(new_frame)\n",
        "\n",
        "row.names(new_frame) <- c(\"row 1\", \"row 2\", \"row 3\",\"row 4\") #Must be of the same length as the number of rows\n",
        "colnames(new_frame) <- c(\"numbers\",\"letters\",\"more letters\") #Must be of the same length as number of columns; works sometimes if it's not but I DO NOT recommend doing this!\n",
        "print(\"After renaming:\")\n",
        "print(new_frame)"
      ],
      "metadata": {
        "colab": {
          "base_uri": "https://localhost:8080/",
          "height": 156
        },
        "id": "Z5vzvz4IR7ha",
        "outputId": "c02bddd5-bcbf-41a5-d1a6-c388aef9717c"
      },
      "execution_count": null,
      "outputs": [
        {
          "output_type": "display_data",
          "data": {
            "text/html": [
              "<style>\n",
              ".list-inline {list-style: none; margin:0; padding: 0}\n",
              ".list-inline>li {display: inline-block}\n",
              ".list-inline>li:not(:last-child)::after {content: \"\\00b7\"; padding: 0 .5ex}\n",
              "</style>\n",
              "<ol class=list-inline><li>'1'</li><li>'2'</li><li>'3'</li><li>'4'</li></ol>\n"
            ],
            "text/markdown": "1. '1'\n2. '2'\n3. '3'\n4. '4'\n\n\n",
            "text/latex": "\\begin{enumerate*}\n\\item '1'\n\\item '2'\n\\item '3'\n\\item '4'\n\\end{enumerate*}\n",
            "text/plain": [
              "[1] \"1\" \"2\" \"3\" \"4\""
            ]
          },
          "metadata": {}
        },
        {
          "output_type": "display_data",
          "data": {
            "text/html": [
              "<style>\n",
              ".list-inline {list-style: none; margin:0; padding: 0}\n",
              ".list-inline>li {display: inline-block}\n",
              ".list-inline>li:not(:last-child)::after {content: \"\\00b7\"; padding: 0 .5ex}\n",
              "</style>\n",
              "<ol class=list-inline><li>'column_1'</li><li>'column_2'</li><li>'column_3'</li></ol>\n"
            ],
            "text/markdown": "1. 'column_1'\n2. 'column_2'\n3. 'column_3'\n\n\n",
            "text/latex": "\\begin{enumerate*}\n\\item 'column\\_1'\n\\item 'column\\_2'\n\\item 'column\\_3'\n\\end{enumerate*}\n",
            "text/plain": [
              "[1] \"column_1\" \"column_2\" \"column_3\""
            ]
          },
          "metadata": {}
        },
        {
          "output_type": "stream",
          "name": "stdout",
          "text": [
            "[1] \"After renaming:\"\n",
            "      numbers letters more letters\n",
            "row 1       1       a            d\n",
            "row 2       2       b            g\n",
            "row 3       3       c            f\n",
            "row 4       4       d            l\n"
          ]
        }
      ]
    },
    {
      "cell_type": "markdown",
      "source": [
        "## Redefining Row and Column Values in Data Frame"
      ],
      "metadata": {
        "id": "xeYZVgjr4n8I"
      }
    },
    {
      "cell_type": "code",
      "source": [
        "new_frame <- data.frame(\"column_1\"=c(1:10),\"column_2\"=c(\"a\",\"b\",\"c\",\"d\",\"e\",\"f\",\"g\",\"h\",\"i\",\"j\"),\"column_3\"=c(13:22))\n",
        "\n",
        "#We can use simple data frame and vector subsetting to redefine values by column\n",
        "#This is taking all the values in column_2 as a vector, selecting only the ones who are \"a\" or \"g\" and assigning \"new letter\" to them using data recycling\n",
        "new_frame$column_2[new_frame$column_2 %in% c(\"a\",\"g\")] <- \"new letter\"\n",
        "\n",
        "#We can also redefine an entire column like so\n",
        "new_frame$column_1 <- c(11:20)\n",
        "\n",
        "View(new_frame)"
      ],
      "metadata": {
        "colab": {
          "base_uri": "https://localhost:8080/",
          "height": 412
        },
        "id": "z_YxNcU941uA",
        "outputId": "ec5a8de1-f77b-482c-dafc-0da34e174ed5"
      },
      "execution_count": null,
      "outputs": [
        {
          "output_type": "display_data",
          "data": {
            "text/plain": [
              "   column_1 column_2   column_3\n",
              "1  11       new letter 13      \n",
              "2  12       b          14      \n",
              "3  13       c          15      \n",
              "4  14       d          16      \n",
              "5  15       e          17      \n",
              "6  16       f          18      \n",
              "7  17       new letter 19      \n",
              "8  18       h          20      \n",
              "9  19       i          21      \n",
              "10 20       j          22      "
            ],
            "text/html": [
              "<table class=\"dataframe\">\n",
              "<caption>A data.frame: 10 × 3</caption>\n",
              "<thead>\n",
              "\t<tr><th scope=col>column_1</th><th scope=col>column_2</th><th scope=col>column_3</th></tr>\n",
              "\t<tr><th scope=col>&lt;int&gt;</th><th scope=col>&lt;chr&gt;</th><th scope=col>&lt;int&gt;</th></tr>\n",
              "</thead>\n",
              "<tbody>\n",
              "\t<tr><td>11</td><td>new letter</td><td>13</td></tr>\n",
              "\t<tr><td>12</td><td>b         </td><td>14</td></tr>\n",
              "\t<tr><td>13</td><td>c         </td><td>15</td></tr>\n",
              "\t<tr><td>14</td><td>d         </td><td>16</td></tr>\n",
              "\t<tr><td>15</td><td>e         </td><td>17</td></tr>\n",
              "\t<tr><td>16</td><td>f         </td><td>18</td></tr>\n",
              "\t<tr><td>17</td><td>new letter</td><td>19</td></tr>\n",
              "\t<tr><td>18</td><td>h         </td><td>20</td></tr>\n",
              "\t<tr><td>19</td><td>i         </td><td>21</td></tr>\n",
              "\t<tr><td>20</td><td>j         </td><td>22</td></tr>\n",
              "</tbody>\n",
              "</table>\n"
            ],
            "text/markdown": "\nA data.frame: 10 × 3\n\n| column_1 &lt;int&gt; | column_2 &lt;chr&gt; | column_3 &lt;int&gt; |\n|---|---|---|\n| 11 | new letter | 13 |\n| 12 | b          | 14 |\n| 13 | c          | 15 |\n| 14 | d          | 16 |\n| 15 | e          | 17 |\n| 16 | f          | 18 |\n| 17 | new letter | 19 |\n| 18 | h          | 20 |\n| 19 | i          | 21 |\n| 20 | j          | 22 |\n\n",
            "text/latex": "A data.frame: 10 × 3\n\\begin{tabular}{lll}\n column\\_1 & column\\_2 & column\\_3\\\\\n <int> & <chr> & <int>\\\\\n\\hline\n\t 11 & new letter & 13\\\\\n\t 12 & b          & 14\\\\\n\t 13 & c          & 15\\\\\n\t 14 & d          & 16\\\\\n\t 15 & e          & 17\\\\\n\t 16 & f          & 18\\\\\n\t 17 & new letter & 19\\\\\n\t 18 & h          & 20\\\\\n\t 19 & i          & 21\\\\\n\t 20 & j          & 22\\\\\n\\end{tabular}\n"
          },
          "metadata": {}
        }
      ]
    },
    {
      "cell_type": "markdown",
      "source": [
        "Redefining rows is a little different:"
      ],
      "metadata": {
        "id": "n-1sHM8F6heE"
      }
    },
    {
      "cell_type": "code",
      "source": [
        "new_frame <- data.frame(\"column_1\"=c(1:10),\"column_2\"=c(\"a\",\"b\",\"c\",\"d\",\"e\",\"f\",\"g\",\"h\",\"i\",\"j\"),\"column_3\"=c(13:22))\n",
        "\n",
        "#We can use data frame row selection and vector subsetting to redefine values by column\n",
        "#This is selecting the first 2 rows from new_frame and assigning this vector of character strings to replace each row\n",
        "new_frame[c(1:2),] <- c(\"new_row1\",\"new_row1\",\"new_row1\",\"new_row2\",\"new_row2\",\"new_row2\")\n",
        "\n",
        "#This is selecting the 2nd and 4rd columns from the 4th and 5th row and using data recycling to redefine all of them as this string\n",
        "new_frame[c(4:5),c(\"column_2\",\"column_3\")] <- \"recycled string\"\n",
        "\n",
        "View(new_frame)"
      ],
      "metadata": {
        "colab": {
          "base_uri": "https://localhost:8080/",
          "height": 412
        },
        "id": "fV5Wqd956kl7",
        "outputId": "3362cf48-772e-4bf2-c357-57e190280ec4"
      },
      "execution_count": null,
      "outputs": [
        {
          "output_type": "display_data",
          "data": {
            "text/plain": [
              "   column_1 column_2        column_3       \n",
              "1  new_row1 new_row1        new_row2       \n",
              "2  new_row1 new_row2        new_row2       \n",
              "3  3        c               15             \n",
              "4  4        recycled string recycled string\n",
              "5  5        recycled string recycled string\n",
              "6  6        f               18             \n",
              "7  7        g               19             \n",
              "8  8        h               20             \n",
              "9  9        i               21             \n",
              "10 10       j               22             "
            ],
            "text/html": [
              "<table class=\"dataframe\">\n",
              "<caption>A data.frame: 10 × 3</caption>\n",
              "<thead>\n",
              "\t<tr><th scope=col>column_1</th><th scope=col>column_2</th><th scope=col>column_3</th></tr>\n",
              "\t<tr><th scope=col>&lt;chr&gt;</th><th scope=col>&lt;chr&gt;</th><th scope=col>&lt;chr&gt;</th></tr>\n",
              "</thead>\n",
              "<tbody>\n",
              "\t<tr><td>new_row1</td><td>new_row1       </td><td>new_row2       </td></tr>\n",
              "\t<tr><td>new_row1</td><td>new_row2       </td><td>new_row2       </td></tr>\n",
              "\t<tr><td>3       </td><td>c              </td><td>15             </td></tr>\n",
              "\t<tr><td>4       </td><td>recycled string</td><td>recycled string</td></tr>\n",
              "\t<tr><td>5       </td><td>recycled string</td><td>recycled string</td></tr>\n",
              "\t<tr><td>6       </td><td>f              </td><td>18             </td></tr>\n",
              "\t<tr><td>7       </td><td>g              </td><td>19             </td></tr>\n",
              "\t<tr><td>8       </td><td>h              </td><td>20             </td></tr>\n",
              "\t<tr><td>9       </td><td>i              </td><td>21             </td></tr>\n",
              "\t<tr><td>10      </td><td>j              </td><td>22             </td></tr>\n",
              "</tbody>\n",
              "</table>\n"
            ],
            "text/markdown": "\nA data.frame: 10 × 3\n\n| column_1 &lt;chr&gt; | column_2 &lt;chr&gt; | column_3 &lt;chr&gt; |\n|---|---|---|\n| new_row1 | new_row1        | new_row2        |\n| new_row1 | new_row2        | new_row2        |\n| 3        | c               | 15              |\n| 4        | recycled string | recycled string |\n| 5        | recycled string | recycled string |\n| 6        | f               | 18              |\n| 7        | g               | 19              |\n| 8        | h               | 20              |\n| 9        | i               | 21              |\n| 10       | j               | 22              |\n\n",
            "text/latex": "A data.frame: 10 × 3\n\\begin{tabular}{lll}\n column\\_1 & column\\_2 & column\\_3\\\\\n <chr> & <chr> & <chr>\\\\\n\\hline\n\t new\\_row1 & new\\_row1        & new\\_row2       \\\\\n\t new\\_row1 & new\\_row2        & new\\_row2       \\\\\n\t 3        & c               & 15             \\\\\n\t 4        & recycled string & recycled string\\\\\n\t 5        & recycled string & recycled string\\\\\n\t 6        & f               & 18             \\\\\n\t 7        & g               & 19             \\\\\n\t 8        & h               & 20             \\\\\n\t 9        & i               & 21             \\\\\n\t 10       & j               & 22             \\\\\n\\end{tabular}\n"
          },
          "metadata": {}
        }
      ]
    },
    {
      "cell_type": "markdown",
      "source": [
        "## Removing Rows and Columns from Data Frame"
      ],
      "metadata": {
        "id": "aPHkhKYCvn86"
      }
    },
    {
      "cell_type": "code",
      "source": [
        "new_frame <- data.frame(\"column_1\"=c(1:10),\"column_2\"=c(\"a\",\"b\",\"c\",\"d\",\"e\",\"f\",\"g\",\"h\",\"i\",\"j\"),\"column_3\"=c(13:22))\n",
        "\n",
        "#To remove rows or columns from a data frame, we can use negative indexing like we do for lists and vectors\n",
        "new_frame_no_col1 <- new_frame[,-1]\n",
        "new_frame_norows2to5 <- new_frame[-c(2:5),]\n",
        "new_frame_nocol3_norows1to7 <- new_frame[-c(1:7),-3]\n",
        "\n",
        "#To drop columns we can also use NULL assignment like for lists\n",
        "new_frame$column_2 <- NULL #will remove column_2 from new_frame\n",
        "\n",
        "\n",
        "print(\"First Column Removed:\")\n",
        "print(new_frame_no_col1)\n",
        "print(\"Rows 2-5 Removed:\")\n",
        "print(new_frame_norows2to5)\n",
        "print(\"Rows 1-7 and Column 3 Removed:\")\n",
        "print(new_frame_nocol3_norows1to7)\n",
        "print(\"Removing Using Null Assignment:\")\n",
        "print(new_frame)"
      ],
      "metadata": {
        "colab": {
          "base_uri": "https://localhost:8080/"
        },
        "id": "Cq8MTSYiV0Ll",
        "outputId": "a4f4d767-55d8-4ca3-b25f-a962d9c09d31"
      },
      "execution_count": null,
      "outputs": [
        {
          "output_type": "stream",
          "name": "stdout",
          "text": [
            "[1] \"First Column Removed:\"\n",
            "   column_2 column_3\n",
            "1         a       13\n",
            "2         b       14\n",
            "3         c       15\n",
            "4         d       16\n",
            "5         e       17\n",
            "6         f       18\n",
            "7         g       19\n",
            "8         h       20\n",
            "9         i       21\n",
            "10        j       22\n",
            "[1] \"Rows 2-5 Removed:\"\n",
            "   column_1 column_2 column_3\n",
            "1         1        a       13\n",
            "6         6        f       18\n",
            "7         7        g       19\n",
            "8         8        h       20\n",
            "9         9        i       21\n",
            "10       10        j       22\n",
            "[1] \"Rows 1-7 and Column 3 Removed:\"\n",
            "   column_1 column_2\n",
            "8         8        h\n",
            "9         9        i\n",
            "10       10        j\n",
            "[1] \"Removing Using Null Assignment:\"\n",
            "   column_1 column_3\n",
            "1         1       13\n",
            "2         2       14\n",
            "3         3       15\n",
            "4         4       16\n",
            "5         5       17\n",
            "6         6       18\n",
            "7         7       19\n",
            "8         8       20\n",
            "9         9       21\n",
            "10       10       22\n"
          ]
        }
      ]
    },
    {
      "cell_type": "markdown",
      "source": [
        "## Adding Rows to Data Frame"
      ],
      "metadata": {
        "id": "jKjSnv9_wAt5"
      }
    },
    {
      "cell_type": "code",
      "source": [
        "new_frame <- data.frame(\"column_1\"=c(1:10),\"column_2\"=c(\"a\",\"b\",\"c\",\"d\",\"e\",\"f\",\"g\",\"h\",\"i\",\"j\"),\"column_3\"=c(13:22))\n",
        "\n",
        "#To add new rows to a data frame use rbind()\n",
        "#The first argument is the frame to be added to\n",
        "#The following arguments are vectors, data frames, or lists (or other object, read the docs) to be added\n",
        "#NOTE: Thing being added MUST correspond to same number of columns AND types as original frame\n",
        "\n",
        "new_frame <- rbind(new_frame,c(8:10),list(1,\"k\",23)) #keep in mind elements of a column MUST be the same type so for column_2 the added integer will be coerced to character\n",
        "added_frame <- data.frame(\"column_1\"=c(1:3),\"column_2\"=c(\"added element 1\",\"added element 2\",\"added element 3\"),\"column_3\"=c(100:102))\n",
        "new_frame <- rbind(new_frame,added_frame) #Make sure the frame being added has the same column names as the original!\n",
        "\n",
        "print(new_frame)"
      ],
      "metadata": {
        "colab": {
          "base_uri": "https://localhost:8080/"
        },
        "id": "fjBscaYlW-gx",
        "outputId": "9eef26eb-2665-402e-ad4f-970fb0cb5e34"
      },
      "execution_count": null,
      "outputs": [
        {
          "output_type": "stream",
          "name": "stdout",
          "text": [
            "   column_1        column_2 column_3\n",
            "1         1               a       13\n",
            "2         2               b       14\n",
            "3         3               c       15\n",
            "4         4               d       16\n",
            "5         5               e       17\n",
            "6         6               f       18\n",
            "7         7               g       19\n",
            "8         8               h       20\n",
            "9         9               i       21\n",
            "10       10               j       22\n",
            "11        8               9       10\n",
            "12        1               k       23\n",
            "13        1 added element 1      100\n",
            "14        2 added element 2      101\n",
            "15        3 added element 3      102\n"
          ]
        }
      ]
    },
    {
      "cell_type": "markdown",
      "source": [
        "## Adding Columns to Data Frame"
      ],
      "metadata": {
        "id": "H_9bqF3YwL1T"
      }
    },
    {
      "cell_type": "code",
      "source": [
        "#We can columns using values from other columns in the same data frame using transform()\n",
        "#Note that transform() has access to the column names themselves\n",
        "\n",
        "new_frame <- data.frame(\"column_1\"=c(1:10),\"column_2\"=c(\"a\",\"b\",\"c\",\"d\",\"e\",\"f\",\"g\",\"h\",\"i\",\"j\"),\"column_3\"=c(13:22))\n",
        "\n",
        "transform(new_frame,\"new_column\" = column_1+column_3,\"newer_column\" = column_1+10)"
      ],
      "metadata": {
        "colab": {
          "base_uri": "https://localhost:8080/",
          "height": 412
        },
        "id": "0bfbx_XvGc3b",
        "outputId": "1c1cc503-5b5b-43b3-ea7c-c768b555dda3"
      },
      "execution_count": null,
      "outputs": [
        {
          "output_type": "display_data",
          "data": {
            "text/html": [
              "<table class=\"dataframe\">\n",
              "<caption>A data.frame: 10 × 5</caption>\n",
              "<thead>\n",
              "\t<tr><th scope=col>column_1</th><th scope=col>column_2</th><th scope=col>column_3</th><th scope=col>new_column</th><th scope=col>newer_column</th></tr>\n",
              "\t<tr><th scope=col>&lt;int&gt;</th><th scope=col>&lt;chr&gt;</th><th scope=col>&lt;int&gt;</th><th scope=col>&lt;int&gt;</th><th scope=col>&lt;dbl&gt;</th></tr>\n",
              "</thead>\n",
              "<tbody>\n",
              "\t<tr><td> 1</td><td>a</td><td>13</td><td>14</td><td>11</td></tr>\n",
              "\t<tr><td> 2</td><td>b</td><td>14</td><td>16</td><td>12</td></tr>\n",
              "\t<tr><td> 3</td><td>c</td><td>15</td><td>18</td><td>13</td></tr>\n",
              "\t<tr><td> 4</td><td>d</td><td>16</td><td>20</td><td>14</td></tr>\n",
              "\t<tr><td> 5</td><td>e</td><td>17</td><td>22</td><td>15</td></tr>\n",
              "\t<tr><td> 6</td><td>f</td><td>18</td><td>24</td><td>16</td></tr>\n",
              "\t<tr><td> 7</td><td>g</td><td>19</td><td>26</td><td>17</td></tr>\n",
              "\t<tr><td> 8</td><td>h</td><td>20</td><td>28</td><td>18</td></tr>\n",
              "\t<tr><td> 9</td><td>i</td><td>21</td><td>30</td><td>19</td></tr>\n",
              "\t<tr><td>10</td><td>j</td><td>22</td><td>32</td><td>20</td></tr>\n",
              "</tbody>\n",
              "</table>\n"
            ],
            "text/markdown": "\nA data.frame: 10 × 5\n\n| column_1 &lt;int&gt; | column_2 &lt;chr&gt; | column_3 &lt;int&gt; | new_column &lt;int&gt; | newer_column &lt;dbl&gt; |\n|---|---|---|---|---|\n|  1 | a | 13 | 14 | 11 |\n|  2 | b | 14 | 16 | 12 |\n|  3 | c | 15 | 18 | 13 |\n|  4 | d | 16 | 20 | 14 |\n|  5 | e | 17 | 22 | 15 |\n|  6 | f | 18 | 24 | 16 |\n|  7 | g | 19 | 26 | 17 |\n|  8 | h | 20 | 28 | 18 |\n|  9 | i | 21 | 30 | 19 |\n| 10 | j | 22 | 32 | 20 |\n\n",
            "text/latex": "A data.frame: 10 × 5\n\\begin{tabular}{lllll}\n column\\_1 & column\\_2 & column\\_3 & new\\_column & newer\\_column\\\\\n <int> & <chr> & <int> & <int> & <dbl>\\\\\n\\hline\n\t  1 & a & 13 & 14 & 11\\\\\n\t  2 & b & 14 & 16 & 12\\\\\n\t  3 & c & 15 & 18 & 13\\\\\n\t  4 & d & 16 & 20 & 14\\\\\n\t  5 & e & 17 & 22 & 15\\\\\n\t  6 & f & 18 & 24 & 16\\\\\n\t  7 & g & 19 & 26 & 17\\\\\n\t  8 & h & 20 & 28 & 18\\\\\n\t  9 & i & 21 & 30 & 19\\\\\n\t 10 & j & 22 & 32 & 20\\\\\n\\end{tabular}\n",
            "text/plain": [
              "   column_1 column_2 column_3 new_column newer_column\n",
              "1   1       a        13       14         11          \n",
              "2   2       b        14       16         12          \n",
              "3   3       c        15       18         13          \n",
              "4   4       d        16       20         14          \n",
              "5   5       e        17       22         15          \n",
              "6   6       f        18       24         16          \n",
              "7   7       g        19       26         17          \n",
              "8   8       h        20       28         18          \n",
              "9   9       i        21       30         19          \n",
              "10 10       j        22       32         20          "
            ]
          },
          "metadata": {}
        }
      ]
    },
    {
      "cell_type": "code",
      "source": [
        "new_frame <- data.frame(\"column_1\"=c(1:10),\"column_2\"=c(\"a\",\"b\",\"c\",\"d\",\"e\",\"f\",\"g\",\"h\",\"i\",\"j\"),\"column_3\"=c(13:22))\n",
        "\n",
        "#To add new columns from other data structures to a data frame use cbind()\n",
        "#The first argument is the frame to be added to\n",
        "#The following arguments are vectors or data frames (or other object, read the docs) to be added\n",
        "#NOTE: Thing being added MUST correspond to same number of rows as the original frame\n",
        "\n",
        "new_frame <- cbind(new_frame,\"column_4\"=c(100:109))\n",
        "added_frame <- data.frame(\"column_5\"=c(4:13),\"column_6\"=c(17:26))\n",
        "new_frame <- cbind(new_frame,added_frame)\n",
        "\n",
        "print(new_frame)"
      ],
      "metadata": {
        "colab": {
          "base_uri": "https://localhost:8080/"
        },
        "id": "2-MHcPXhd5Fw",
        "outputId": "9a3f4b56-e305-4e03-acfe-3b1364df93ea"
      },
      "execution_count": null,
      "outputs": [
        {
          "output_type": "stream",
          "name": "stdout",
          "text": [
            "   column_1 column_2 column_3 column_4 column_5 column_6\n",
            "1         1        a       13      100        4       17\n",
            "2         2        b       14      101        5       18\n",
            "3         3        c       15      102        6       19\n",
            "4         4        d       16      103        7       20\n",
            "5         5        e       17      104        8       21\n",
            "6         6        f       18      105        9       22\n",
            "7         7        g       19      106       10       23\n",
            "8         8        h       20      107       11       24\n",
            "9         9        i       21      108       12       25\n",
            "10       10        j       22      109       13       26\n"
          ]
        }
      ]
    },
    {
      "cell_type": "code",
      "source": [
        "new_frame <- data.frame(\"column_1\"=c(1:10),\"column_2\"=c(\"a\",\"b\",\"c\",\"d\",\"e\",\"f\",\"g\",\"h\",\"i\",\"j\"),\"column_3\"=c(13:22))\n",
        "add_list <- list(\"column_4\"=c(100:109),\"column_5\"=c(4:13),data.frame(\"column_6\"=c(17:26)))\n",
        "\n",
        "#Combing do.now() and cbind() we can add items from a named list to a data frame as columns\n",
        "new_frame <- cbind(new_frame,do.call(cbind,add_list))\n",
        "\n",
        "print(new_frame)"
      ],
      "metadata": {
        "colab": {
          "base_uri": "https://localhost:8080/"
        },
        "id": "Nxz0kQFfgIP9",
        "outputId": "0cec14d3-69f7-4cda-f0e0-e6cc01487cca"
      },
      "execution_count": null,
      "outputs": [
        {
          "output_type": "stream",
          "name": "stdout",
          "text": [
            "   column_1 column_2 column_3 column_4 column_5 column_6\n",
            "1         1        a       13      100        4       17\n",
            "2         2        b       14      101        5       18\n",
            "3         3        c       15      102        6       19\n",
            "4         4        d       16      103        7       20\n",
            "5         5        e       17      104        8       21\n",
            "6         6        f       18      105        9       22\n",
            "7         7        g       19      106       10       23\n",
            "8         8        h       20      107       11       24\n",
            "9         9        i       21      108       12       25\n",
            "10       10        j       22      109       13       26\n"
          ]
        }
      ]
    },
    {
      "cell_type": "markdown",
      "source": [
        "## Dealing with NAs in a Data Frame"
      ],
      "metadata": {
        "id": "hmpcmKL7wQ5n"
      }
    },
    {
      "cell_type": "markdown",
      "source": [
        "A lot of the time we find ourselves with a data frame that has rows with missing data in them (represented by the placeholder `NA`)."
      ],
      "metadata": {
        "id": "Pz3sZrdvwT-M"
      }
    },
    {
      "cell_type": "code",
      "source": [
        "new_frame_w_na <- data.frame(\"column_1\"=c(1,2,3,4,5,NA,NA,NA,9,NA),\"column_2\"=c(\"a\",\"b\",NA,\"d\",\"e\",\"f\",NA,\"h\",\"i\",\"j\"),\"column_3\"=c(13:22))\n",
        "\n",
        "#If we want to identify which elements are NA in a data frame we can use the function is.na()\n",
        "is.na(new_frame_w_na) #returns a matrix of TRUE / FALSE indicating which elements in the frame are NA\n",
        "is.na(new_frame_w_na$column_1) #we can also use is.na() on specific columns in the frame"
      ],
      "metadata": {
        "colab": {
          "base_uri": "https://localhost:8080/",
          "height": 398
        },
        "id": "77KkdI0uwSwd",
        "outputId": "dd1f0633-123f-4759-bf34-15335ee55b8b"
      },
      "execution_count": null,
      "outputs": [
        {
          "output_type": "display_data",
          "data": {
            "text/html": [
              "<table class=\"dataframe\">\n",
              "<caption>A matrix: 10 × 3 of type lgl</caption>\n",
              "<thead>\n",
              "\t<tr><th scope=col>column_1</th><th scope=col>column_2</th><th scope=col>column_3</th></tr>\n",
              "</thead>\n",
              "<tbody>\n",
              "\t<tr><td>FALSE</td><td>FALSE</td><td>FALSE</td></tr>\n",
              "\t<tr><td>FALSE</td><td>FALSE</td><td>FALSE</td></tr>\n",
              "\t<tr><td>FALSE</td><td> TRUE</td><td>FALSE</td></tr>\n",
              "\t<tr><td>FALSE</td><td>FALSE</td><td>FALSE</td></tr>\n",
              "\t<tr><td>FALSE</td><td>FALSE</td><td>FALSE</td></tr>\n",
              "\t<tr><td> TRUE</td><td>FALSE</td><td>FALSE</td></tr>\n",
              "\t<tr><td> TRUE</td><td> TRUE</td><td>FALSE</td></tr>\n",
              "\t<tr><td> TRUE</td><td>FALSE</td><td>FALSE</td></tr>\n",
              "\t<tr><td>FALSE</td><td>FALSE</td><td>FALSE</td></tr>\n",
              "\t<tr><td> TRUE</td><td>FALSE</td><td>FALSE</td></tr>\n",
              "</tbody>\n",
              "</table>\n"
            ],
            "text/markdown": "\nA matrix: 10 × 3 of type lgl\n\n| column_1 | column_2 | column_3 |\n|---|---|---|\n| FALSE | FALSE | FALSE |\n| FALSE | FALSE | FALSE |\n| FALSE |  TRUE | FALSE |\n| FALSE | FALSE | FALSE |\n| FALSE | FALSE | FALSE |\n|  TRUE | FALSE | FALSE |\n|  TRUE |  TRUE | FALSE |\n|  TRUE | FALSE | FALSE |\n| FALSE | FALSE | FALSE |\n|  TRUE | FALSE | FALSE |\n\n",
            "text/latex": "A matrix: 10 × 3 of type lgl\n\\begin{tabular}{lll}\n column\\_1 & column\\_2 & column\\_3\\\\\n\\hline\n\t FALSE & FALSE & FALSE\\\\\n\t FALSE & FALSE & FALSE\\\\\n\t FALSE &  TRUE & FALSE\\\\\n\t FALSE & FALSE & FALSE\\\\\n\t FALSE & FALSE & FALSE\\\\\n\t  TRUE & FALSE & FALSE\\\\\n\t  TRUE &  TRUE & FALSE\\\\\n\t  TRUE & FALSE & FALSE\\\\\n\t FALSE & FALSE & FALSE\\\\\n\t  TRUE & FALSE & FALSE\\\\\n\\end{tabular}\n",
            "text/plain": [
              "      column_1 column_2 column_3\n",
              " [1,] FALSE    FALSE    FALSE   \n",
              " [2,] FALSE    FALSE    FALSE   \n",
              " [3,] FALSE     TRUE    FALSE   \n",
              " [4,] FALSE    FALSE    FALSE   \n",
              " [5,] FALSE    FALSE    FALSE   \n",
              " [6,]  TRUE    FALSE    FALSE   \n",
              " [7,]  TRUE     TRUE    FALSE   \n",
              " [8,]  TRUE    FALSE    FALSE   \n",
              " [9,] FALSE    FALSE    FALSE   \n",
              "[10,]  TRUE    FALSE    FALSE   "
            ]
          },
          "metadata": {}
        },
        {
          "output_type": "display_data",
          "data": {
            "text/html": [
              "<style>\n",
              ".list-inline {list-style: none; margin:0; padding: 0}\n",
              ".list-inline>li {display: inline-block}\n",
              ".list-inline>li:not(:last-child)::after {content: \"\\00b7\"; padding: 0 .5ex}\n",
              "</style>\n",
              "<ol class=list-inline><li>FALSE</li><li>FALSE</li><li>FALSE</li><li>FALSE</li><li>FALSE</li><li>TRUE</li><li>TRUE</li><li>TRUE</li><li>FALSE</li><li>TRUE</li></ol>\n"
            ],
            "text/markdown": "1. FALSE\n2. FALSE\n3. FALSE\n4. FALSE\n5. FALSE\n6. TRUE\n7. TRUE\n8. TRUE\n9. FALSE\n10. TRUE\n\n\n",
            "text/latex": "\\begin{enumerate*}\n\\item FALSE\n\\item FALSE\n\\item FALSE\n\\item FALSE\n\\item FALSE\n\\item TRUE\n\\item TRUE\n\\item TRUE\n\\item FALSE\n\\item TRUE\n\\end{enumerate*}\n",
            "text/plain": [
              " [1] FALSE FALSE FALSE FALSE FALSE  TRUE  TRUE  TRUE FALSE  TRUE"
            ]
          },
          "metadata": {}
        }
      ]
    },
    {
      "cell_type": "code",
      "source": [
        "#If we want to remove rows which contain missing elements we can use the function na.omit()\n",
        "na.omit(new_frame_w_na)"
      ],
      "metadata": {
        "colab": {
          "base_uri": "https://localhost:8080/",
          "height": 255
        },
        "id": "N9qCfIvK3afU",
        "outputId": "df799360-b2a0-43f5-baf8-9d0cbeb3a343"
      },
      "execution_count": null,
      "outputs": [
        {
          "output_type": "display_data",
          "data": {
            "text/html": [
              "<table class=\"dataframe\">\n",
              "<caption>A data.frame: 5 × 3</caption>\n",
              "<thead>\n",
              "\t<tr><th></th><th scope=col>column_1</th><th scope=col>column_2</th><th scope=col>column_3</th></tr>\n",
              "\t<tr><th></th><th scope=col>&lt;dbl&gt;</th><th scope=col>&lt;chr&gt;</th><th scope=col>&lt;int&gt;</th></tr>\n",
              "</thead>\n",
              "<tbody>\n",
              "\t<tr><th scope=row>1</th><td>1</td><td>a</td><td>13</td></tr>\n",
              "\t<tr><th scope=row>2</th><td>2</td><td>b</td><td>14</td></tr>\n",
              "\t<tr><th scope=row>4</th><td>4</td><td>d</td><td>16</td></tr>\n",
              "\t<tr><th scope=row>5</th><td>5</td><td>e</td><td>17</td></tr>\n",
              "\t<tr><th scope=row>9</th><td>9</td><td>i</td><td>21</td></tr>\n",
              "</tbody>\n",
              "</table>\n"
            ],
            "text/markdown": "\nA data.frame: 5 × 3\n\n| <!--/--> | column_1 &lt;dbl&gt; | column_2 &lt;chr&gt; | column_3 &lt;int&gt; |\n|---|---|---|---|\n| 1 | 1 | a | 13 |\n| 2 | 2 | b | 14 |\n| 4 | 4 | d | 16 |\n| 5 | 5 | e | 17 |\n| 9 | 9 | i | 21 |\n\n",
            "text/latex": "A data.frame: 5 × 3\n\\begin{tabular}{r|lll}\n  & column\\_1 & column\\_2 & column\\_3\\\\\n  & <dbl> & <chr> & <int>\\\\\n\\hline\n\t1 & 1 & a & 13\\\\\n\t2 & 2 & b & 14\\\\\n\t4 & 4 & d & 16\\\\\n\t5 & 5 & e & 17\\\\\n\t9 & 9 & i & 21\\\\\n\\end{tabular}\n",
            "text/plain": [
              "  column_1 column_2 column_3\n",
              "1 1        a        13      \n",
              "2 2        b        14      \n",
              "4 4        d        16      \n",
              "5 5        e        17      \n",
              "9 9        i        21      "
            ]
          },
          "metadata": {}
        }
      ]
    },
    {
      "cell_type": "markdown",
      "source": [
        "# Importing / Exporting Data and Manipulating Working Directories\n",
        "---"
      ],
      "metadata": {
        "id": "Gb_Swe5Qyx3W"
      }
    },
    {
      "cell_type": "markdown",
      "source": [
        "## Getting and Setting Working Directories"
      ],
      "metadata": {
        "id": "fj7hsH6O6OIo"
      }
    },
    {
      "cell_type": "markdown",
      "source": [
        "Your \"working directory\" is the default location R will look to read and write files to. You're going to want to set it before you start any project to make sure your files are being read from and written to the correct place.\n",
        "\n",
        "We can set a working directory with the function:\n",
        "\n",
        "\n",
        "```\n",
        "setwd(file_path_here)\n",
        "```\n",
        "\n",
        "If you use a single dot `.` in your file path, that will tell R to look in the currently set working directory for the path that comes next. If you use a double dot `..` in your file path, that will tell R to look in the parent directory of the current working directory for the file path that comes next.\n",
        "\n",
        "Make sure you set your working directory file path with forward slashes NOT backslashes like Windows file paths are!\n",
        "\n",
        "To check what is set as your current working directory just run this function with no arguments:\n",
        "\n",
        "\n",
        "```\n",
        "getwd()\n",
        "```\n",
        "\n"
      ],
      "metadata": {
        "id": "0YfbczrrmdEr"
      }
    },
    {
      "cell_type": "code",
      "source": [
        "#NOTE: To best understand this code, navigate to the \"Files\" tab on the left and see where all of these files are relative to each other\n",
        "\n",
        "#Here, I am setting my working directory to 'home'\n",
        "setwd(\"/home\")\n",
        "getwd() #you can see it will print what I just set it to\n",
        "\n",
        "#Here, I am using the double dot in my file path to tell R to look in the parent directory of the current one (/home)\n",
        "setwd(\"../content\")\n",
        "getwd()\n",
        "\n",
        "#Here, I am using the single dot in my file path to tell R to look in the current working directory\n",
        "setwd(\"./sample_data\")\n",
        "getwd()"
      ],
      "metadata": {
        "colab": {
          "base_uri": "https://localhost:8080/",
          "height": 69
        },
        "id": "YpSyJiT_peIK",
        "outputId": "78d2d0a7-2dcb-4a5d-b068-89e69d95bf3b"
      },
      "execution_count": null,
      "outputs": [
        {
          "output_type": "display_data",
          "data": {
            "text/html": [
              "'/home'"
            ],
            "text/markdown": "'/home'",
            "text/latex": "'/home'",
            "text/plain": [
              "[1] \"/home\""
            ]
          },
          "metadata": {}
        },
        {
          "output_type": "display_data",
          "data": {
            "text/html": [
              "'/content'"
            ],
            "text/markdown": "'/content'",
            "text/latex": "'/content'",
            "text/plain": [
              "[1] \"/content\""
            ]
          },
          "metadata": {}
        },
        {
          "output_type": "display_data",
          "data": {
            "text/html": [
              "'/content/sample_data'"
            ],
            "text/markdown": "'/content/sample_data'",
            "text/latex": "'/content/sample\\_data'",
            "text/plain": [
              "[1] \"/content/sample_data\""
            ]
          },
          "metadata": {}
        }
      ]
    },
    {
      "cell_type": "markdown",
      "source": [
        "## Importing Data"
      ],
      "metadata": {
        "id": "A1o_ZZhL6Hgt"
      }
    },
    {
      "cell_type": "markdown",
      "source": [
        "There are many file reading functions in R and I encourage you to look all of them up, but for today's purposes we are only going to be using the follow function:\n",
        "\n",
        "```\n",
        "read.csv()\n",
        "```\n",
        "\n"
      ],
      "metadata": {
        "id": "-b61B3dioFda"
      }
    },
    {
      "cell_type": "code",
      "source": [
        "#You can specify a full file path to your data with read.csv()\n",
        "imported_data <- read.csv(\"/content/sample_data/california_housing_train.csv\")\n",
        "\n",
        "#Alternatively, you can set your working directory to the location of your data and simply read the file name\n",
        "#This is more useful to do when you will be reading multiple files from the same location and don't want to type the full path each time\n",
        "setwd(\"/content/sample_data\")\n",
        "imported_data2 <- read.csv(\"california_housing_test.csv\")\n",
        "\n",
        "head(imported_data)\n",
        "head(imported_data2)\n"
      ],
      "metadata": {
        "colab": {
          "base_uri": "https://localhost:8080/",
          "height": 555
        },
        "id": "UcyPH2eMrQe7",
        "outputId": "f0e983a6-d1c4-4cf8-eb58-1551cfb3ed1d"
      },
      "execution_count": null,
      "outputs": [
        {
          "output_type": "display_data",
          "data": {
            "text/html": [
              "<table class=\"dataframe\">\n",
              "<caption>A data.frame: 6 × 9</caption>\n",
              "<thead>\n",
              "\t<tr><th></th><th scope=col>longitude</th><th scope=col>latitude</th><th scope=col>housing_median_age</th><th scope=col>total_rooms</th><th scope=col>total_bedrooms</th><th scope=col>population</th><th scope=col>households</th><th scope=col>median_income</th><th scope=col>median_house_value</th></tr>\n",
              "\t<tr><th></th><th scope=col>&lt;dbl&gt;</th><th scope=col>&lt;dbl&gt;</th><th scope=col>&lt;dbl&gt;</th><th scope=col>&lt;dbl&gt;</th><th scope=col>&lt;dbl&gt;</th><th scope=col>&lt;dbl&gt;</th><th scope=col>&lt;dbl&gt;</th><th scope=col>&lt;dbl&gt;</th><th scope=col>&lt;dbl&gt;</th></tr>\n",
              "</thead>\n",
              "<tbody>\n",
              "\t<tr><th scope=row>1</th><td>-114.31</td><td>34.19</td><td>15</td><td>5612</td><td>1283</td><td>1015</td><td>472</td><td>1.4936</td><td>66900</td></tr>\n",
              "\t<tr><th scope=row>2</th><td>-114.47</td><td>34.40</td><td>19</td><td>7650</td><td>1901</td><td>1129</td><td>463</td><td>1.8200</td><td>80100</td></tr>\n",
              "\t<tr><th scope=row>3</th><td>-114.56</td><td>33.69</td><td>17</td><td> 720</td><td> 174</td><td> 333</td><td>117</td><td>1.6509</td><td>85700</td></tr>\n",
              "\t<tr><th scope=row>4</th><td>-114.57</td><td>33.64</td><td>14</td><td>1501</td><td> 337</td><td> 515</td><td>226</td><td>3.1917</td><td>73400</td></tr>\n",
              "\t<tr><th scope=row>5</th><td>-114.57</td><td>33.57</td><td>20</td><td>1454</td><td> 326</td><td> 624</td><td>262</td><td>1.9250</td><td>65500</td></tr>\n",
              "\t<tr><th scope=row>6</th><td>-114.58</td><td>33.63</td><td>29</td><td>1387</td><td> 236</td><td> 671</td><td>239</td><td>3.3438</td><td>74000</td></tr>\n",
              "</tbody>\n",
              "</table>\n"
            ],
            "text/markdown": "\nA data.frame: 6 × 9\n\n| <!--/--> | longitude &lt;dbl&gt; | latitude &lt;dbl&gt; | housing_median_age &lt;dbl&gt; | total_rooms &lt;dbl&gt; | total_bedrooms &lt;dbl&gt; | population &lt;dbl&gt; | households &lt;dbl&gt; | median_income &lt;dbl&gt; | median_house_value &lt;dbl&gt; |\n|---|---|---|---|---|---|---|---|---|---|\n| 1 | -114.31 | 34.19 | 15 | 5612 | 1283 | 1015 | 472 | 1.4936 | 66900 |\n| 2 | -114.47 | 34.40 | 19 | 7650 | 1901 | 1129 | 463 | 1.8200 | 80100 |\n| 3 | -114.56 | 33.69 | 17 |  720 |  174 |  333 | 117 | 1.6509 | 85700 |\n| 4 | -114.57 | 33.64 | 14 | 1501 |  337 |  515 | 226 | 3.1917 | 73400 |\n| 5 | -114.57 | 33.57 | 20 | 1454 |  326 |  624 | 262 | 1.9250 | 65500 |\n| 6 | -114.58 | 33.63 | 29 | 1387 |  236 |  671 | 239 | 3.3438 | 74000 |\n\n",
            "text/latex": "A data.frame: 6 × 9\n\\begin{tabular}{r|lllllllll}\n  & longitude & latitude & housing\\_median\\_age & total\\_rooms & total\\_bedrooms & population & households & median\\_income & median\\_house\\_value\\\\\n  & <dbl> & <dbl> & <dbl> & <dbl> & <dbl> & <dbl> & <dbl> & <dbl> & <dbl>\\\\\n\\hline\n\t1 & -114.31 & 34.19 & 15 & 5612 & 1283 & 1015 & 472 & 1.4936 & 66900\\\\\n\t2 & -114.47 & 34.40 & 19 & 7650 & 1901 & 1129 & 463 & 1.8200 & 80100\\\\\n\t3 & -114.56 & 33.69 & 17 &  720 &  174 &  333 & 117 & 1.6509 & 85700\\\\\n\t4 & -114.57 & 33.64 & 14 & 1501 &  337 &  515 & 226 & 3.1917 & 73400\\\\\n\t5 & -114.57 & 33.57 & 20 & 1454 &  326 &  624 & 262 & 1.9250 & 65500\\\\\n\t6 & -114.58 & 33.63 & 29 & 1387 &  236 &  671 & 239 & 3.3438 & 74000\\\\\n\\end{tabular}\n",
            "text/plain": [
              "  longitude latitude housing_median_age total_rooms total_bedrooms population\n",
              "1 -114.31   34.19    15                 5612        1283           1015      \n",
              "2 -114.47   34.40    19                 7650        1901           1129      \n",
              "3 -114.56   33.69    17                  720         174            333      \n",
              "4 -114.57   33.64    14                 1501         337            515      \n",
              "5 -114.57   33.57    20                 1454         326            624      \n",
              "6 -114.58   33.63    29                 1387         236            671      \n",
              "  households median_income median_house_value\n",
              "1 472        1.4936        66900             \n",
              "2 463        1.8200        80100             \n",
              "3 117        1.6509        85700             \n",
              "4 226        3.1917        73400             \n",
              "5 262        1.9250        65500             \n",
              "6 239        3.3438        74000             "
            ]
          },
          "metadata": {}
        },
        {
          "output_type": "display_data",
          "data": {
            "text/html": [
              "<table class=\"dataframe\">\n",
              "<caption>A data.frame: 6 × 9</caption>\n",
              "<thead>\n",
              "\t<tr><th></th><th scope=col>longitude</th><th scope=col>latitude</th><th scope=col>housing_median_age</th><th scope=col>total_rooms</th><th scope=col>total_bedrooms</th><th scope=col>population</th><th scope=col>households</th><th scope=col>median_income</th><th scope=col>median_house_value</th></tr>\n",
              "\t<tr><th></th><th scope=col>&lt;dbl&gt;</th><th scope=col>&lt;dbl&gt;</th><th scope=col>&lt;dbl&gt;</th><th scope=col>&lt;dbl&gt;</th><th scope=col>&lt;dbl&gt;</th><th scope=col>&lt;dbl&gt;</th><th scope=col>&lt;dbl&gt;</th><th scope=col>&lt;dbl&gt;</th><th scope=col>&lt;dbl&gt;</th></tr>\n",
              "</thead>\n",
              "<tbody>\n",
              "\t<tr><th scope=row>1</th><td>-122.05</td><td>37.37</td><td>27</td><td>3885</td><td>661</td><td>1537</td><td>606</td><td>6.6085</td><td>344700</td></tr>\n",
              "\t<tr><th scope=row>2</th><td>-118.30</td><td>34.26</td><td>43</td><td>1510</td><td>310</td><td> 809</td><td>277</td><td>3.5990</td><td>176500</td></tr>\n",
              "\t<tr><th scope=row>3</th><td>-117.81</td><td>33.78</td><td>27</td><td>3589</td><td>507</td><td>1484</td><td>495</td><td>5.7934</td><td>270500</td></tr>\n",
              "\t<tr><th scope=row>4</th><td>-118.36</td><td>33.82</td><td>28</td><td>  67</td><td> 15</td><td>  49</td><td> 11</td><td>6.1359</td><td>330000</td></tr>\n",
              "\t<tr><th scope=row>5</th><td>-119.67</td><td>36.33</td><td>19</td><td>1241</td><td>244</td><td> 850</td><td>237</td><td>2.9375</td><td> 81700</td></tr>\n",
              "\t<tr><th scope=row>6</th><td>-119.56</td><td>36.51</td><td>37</td><td>1018</td><td>213</td><td> 663</td><td>204</td><td>1.6635</td><td> 67000</td></tr>\n",
              "</tbody>\n",
              "</table>\n"
            ],
            "text/markdown": "\nA data.frame: 6 × 9\n\n| <!--/--> | longitude &lt;dbl&gt; | latitude &lt;dbl&gt; | housing_median_age &lt;dbl&gt; | total_rooms &lt;dbl&gt; | total_bedrooms &lt;dbl&gt; | population &lt;dbl&gt; | households &lt;dbl&gt; | median_income &lt;dbl&gt; | median_house_value &lt;dbl&gt; |\n|---|---|---|---|---|---|---|---|---|---|\n| 1 | -122.05 | 37.37 | 27 | 3885 | 661 | 1537 | 606 | 6.6085 | 344700 |\n| 2 | -118.30 | 34.26 | 43 | 1510 | 310 |  809 | 277 | 3.5990 | 176500 |\n| 3 | -117.81 | 33.78 | 27 | 3589 | 507 | 1484 | 495 | 5.7934 | 270500 |\n| 4 | -118.36 | 33.82 | 28 |   67 |  15 |   49 |  11 | 6.1359 | 330000 |\n| 5 | -119.67 | 36.33 | 19 | 1241 | 244 |  850 | 237 | 2.9375 |  81700 |\n| 6 | -119.56 | 36.51 | 37 | 1018 | 213 |  663 | 204 | 1.6635 |  67000 |\n\n",
            "text/latex": "A data.frame: 6 × 9\n\\begin{tabular}{r|lllllllll}\n  & longitude & latitude & housing\\_median\\_age & total\\_rooms & total\\_bedrooms & population & households & median\\_income & median\\_house\\_value\\\\\n  & <dbl> & <dbl> & <dbl> & <dbl> & <dbl> & <dbl> & <dbl> & <dbl> & <dbl>\\\\\n\\hline\n\t1 & -122.05 & 37.37 & 27 & 3885 & 661 & 1537 & 606 & 6.6085 & 344700\\\\\n\t2 & -118.30 & 34.26 & 43 & 1510 & 310 &  809 & 277 & 3.5990 & 176500\\\\\n\t3 & -117.81 & 33.78 & 27 & 3589 & 507 & 1484 & 495 & 5.7934 & 270500\\\\\n\t4 & -118.36 & 33.82 & 28 &   67 &  15 &   49 &  11 & 6.1359 & 330000\\\\\n\t5 & -119.67 & 36.33 & 19 & 1241 & 244 &  850 & 237 & 2.9375 &  81700\\\\\n\t6 & -119.56 & 36.51 & 37 & 1018 & 213 &  663 & 204 & 1.6635 &  67000\\\\\n\\end{tabular}\n",
            "text/plain": [
              "  longitude latitude housing_median_age total_rooms total_bedrooms population\n",
              "1 -122.05   37.37    27                 3885        661            1537      \n",
              "2 -118.30   34.26    43                 1510        310             809      \n",
              "3 -117.81   33.78    27                 3589        507            1484      \n",
              "4 -118.36   33.82    28                   67         15              49      \n",
              "5 -119.67   36.33    19                 1241        244             850      \n",
              "6 -119.56   36.51    37                 1018        213             663      \n",
              "  households median_income median_house_value\n",
              "1 606        6.6085        344700            \n",
              "2 277        3.5990        176500            \n",
              "3 495        5.7934        270500            \n",
              "4  11        6.1359        330000            \n",
              "5 237        2.9375         81700            \n",
              "6 204        1.6635         67000            "
            ]
          },
          "metadata": {}
        }
      ]
    },
    {
      "cell_type": "markdown",
      "source": [
        "`read.csv()` will read in a CSV (comma-separated value) file as a data frame for you to work with. There are many parameters you can specify for this function, but here are some of the useful ones worth mentioning:"
      ],
      "metadata": {
        "id": "ynDq2Ctpv8QX"
      }
    },
    {
      "cell_type": "code",
      "source": [
        "#If you want to tell R to read or not read the first row as coilumn names, specify the header parameter; the default is TRUE\n",
        "no_head <- read.csv(\"/content/sample_data/california_housing_train.csv\",header=FALSE) #will read the first row as an observation and assign default column names\n",
        "w_head <- read.csv(\"/content/sample_data/california_housing_train.csv\",header=TRUE) #will read the first row as the column names\n",
        "\n",
        "head(no_head)\n",
        "head(w_head)"
      ],
      "metadata": {
        "colab": {
          "base_uri": "https://localhost:8080/",
          "height": 555
        },
        "id": "irbEBZW1wC_9",
        "outputId": "653850b6-ba66-4392-90f9-671d41a8f97a"
      },
      "execution_count": null,
      "outputs": [
        {
          "output_type": "display_data",
          "data": {
            "text/html": [
              "<table class=\"dataframe\">\n",
              "<caption>A data.frame: 6 × 9</caption>\n",
              "<thead>\n",
              "\t<tr><th></th><th scope=col>V1</th><th scope=col>V2</th><th scope=col>V3</th><th scope=col>V4</th><th scope=col>V5</th><th scope=col>V6</th><th scope=col>V7</th><th scope=col>V8</th><th scope=col>V9</th></tr>\n",
              "\t<tr><th></th><th scope=col>&lt;chr&gt;</th><th scope=col>&lt;chr&gt;</th><th scope=col>&lt;chr&gt;</th><th scope=col>&lt;chr&gt;</th><th scope=col>&lt;chr&gt;</th><th scope=col>&lt;chr&gt;</th><th scope=col>&lt;chr&gt;</th><th scope=col>&lt;chr&gt;</th><th scope=col>&lt;chr&gt;</th></tr>\n",
              "</thead>\n",
              "<tbody>\n",
              "\t<tr><th scope=row>1</th><td>longitude  </td><td>latitude </td><td>housing_median_age</td><td>total_rooms</td><td>total_bedrooms</td><td>population </td><td>households</td><td>median_income</td><td>median_house_value</td></tr>\n",
              "\t<tr><th scope=row>2</th><td>-114.310000</td><td>34.190000</td><td>15.000000         </td><td>5612.000000</td><td>1283.000000   </td><td>1015.000000</td><td>472.000000</td><td>1.493600     </td><td>66900.000000      </td></tr>\n",
              "\t<tr><th scope=row>3</th><td>-114.470000</td><td>34.400000</td><td>19.000000         </td><td>7650.000000</td><td>1901.000000   </td><td>1129.000000</td><td>463.000000</td><td>1.820000     </td><td>80100.000000      </td></tr>\n",
              "\t<tr><th scope=row>4</th><td>-114.560000</td><td>33.690000</td><td>17.000000         </td><td>720.000000 </td><td>174.000000    </td><td>333.000000 </td><td>117.000000</td><td>1.650900     </td><td>85700.000000      </td></tr>\n",
              "\t<tr><th scope=row>5</th><td>-114.570000</td><td>33.640000</td><td>14.000000         </td><td>1501.000000</td><td>337.000000    </td><td>515.000000 </td><td>226.000000</td><td>3.191700     </td><td>73400.000000      </td></tr>\n",
              "\t<tr><th scope=row>6</th><td>-114.570000</td><td>33.570000</td><td>20.000000         </td><td>1454.000000</td><td>326.000000    </td><td>624.000000 </td><td>262.000000</td><td>1.925000     </td><td>65500.000000      </td></tr>\n",
              "</tbody>\n",
              "</table>\n"
            ],
            "text/markdown": "\nA data.frame: 6 × 9\n\n| <!--/--> | V1 &lt;chr&gt; | V2 &lt;chr&gt; | V3 &lt;chr&gt; | V4 &lt;chr&gt; | V5 &lt;chr&gt; | V6 &lt;chr&gt; | V7 &lt;chr&gt; | V8 &lt;chr&gt; | V9 &lt;chr&gt; |\n|---|---|---|---|---|---|---|---|---|---|\n| 1 | longitude   | latitude  | housing_median_age | total_rooms | total_bedrooms | population  | households | median_income | median_house_value |\n| 2 | -114.310000 | 34.190000 | 15.000000          | 5612.000000 | 1283.000000    | 1015.000000 | 472.000000 | 1.493600      | 66900.000000       |\n| 3 | -114.470000 | 34.400000 | 19.000000          | 7650.000000 | 1901.000000    | 1129.000000 | 463.000000 | 1.820000      | 80100.000000       |\n| 4 | -114.560000 | 33.690000 | 17.000000          | 720.000000  | 174.000000     | 333.000000  | 117.000000 | 1.650900      | 85700.000000       |\n| 5 | -114.570000 | 33.640000 | 14.000000          | 1501.000000 | 337.000000     | 515.000000  | 226.000000 | 3.191700      | 73400.000000       |\n| 6 | -114.570000 | 33.570000 | 20.000000          | 1454.000000 | 326.000000     | 624.000000  | 262.000000 | 1.925000      | 65500.000000       |\n\n",
            "text/latex": "A data.frame: 6 × 9\n\\begin{tabular}{r|lllllllll}\n  & V1 & V2 & V3 & V4 & V5 & V6 & V7 & V8 & V9\\\\\n  & <chr> & <chr> & <chr> & <chr> & <chr> & <chr> & <chr> & <chr> & <chr>\\\\\n\\hline\n\t1 & longitude   & latitude  & housing\\_median\\_age & total\\_rooms & total\\_bedrooms & population  & households & median\\_income & median\\_house\\_value\\\\\n\t2 & -114.310000 & 34.190000 & 15.000000          & 5612.000000 & 1283.000000    & 1015.000000 & 472.000000 & 1.493600      & 66900.000000      \\\\\n\t3 & -114.470000 & 34.400000 & 19.000000          & 7650.000000 & 1901.000000    & 1129.000000 & 463.000000 & 1.820000      & 80100.000000      \\\\\n\t4 & -114.560000 & 33.690000 & 17.000000          & 720.000000  & 174.000000     & 333.000000  & 117.000000 & 1.650900      & 85700.000000      \\\\\n\t5 & -114.570000 & 33.640000 & 14.000000          & 1501.000000 & 337.000000     & 515.000000  & 226.000000 & 3.191700      & 73400.000000      \\\\\n\t6 & -114.570000 & 33.570000 & 20.000000          & 1454.000000 & 326.000000     & 624.000000  & 262.000000 & 1.925000      & 65500.000000      \\\\\n\\end{tabular}\n",
            "text/plain": [
              "  V1          V2        V3                 V4          V5            \n",
              "1 longitude   latitude  housing_median_age total_rooms total_bedrooms\n",
              "2 -114.310000 34.190000 15.000000          5612.000000 1283.000000   \n",
              "3 -114.470000 34.400000 19.000000          7650.000000 1901.000000   \n",
              "4 -114.560000 33.690000 17.000000          720.000000  174.000000    \n",
              "5 -114.570000 33.640000 14.000000          1501.000000 337.000000    \n",
              "6 -114.570000 33.570000 20.000000          1454.000000 326.000000    \n",
              "  V6          V7         V8            V9                \n",
              "1 population  households median_income median_house_value\n",
              "2 1015.000000 472.000000 1.493600      66900.000000      \n",
              "3 1129.000000 463.000000 1.820000      80100.000000      \n",
              "4 333.000000  117.000000 1.650900      85700.000000      \n",
              "5 515.000000  226.000000 3.191700      73400.000000      \n",
              "6 624.000000  262.000000 1.925000      65500.000000      "
            ]
          },
          "metadata": {}
        },
        {
          "output_type": "display_data",
          "data": {
            "text/html": [
              "<table class=\"dataframe\">\n",
              "<caption>A data.frame: 6 × 9</caption>\n",
              "<thead>\n",
              "\t<tr><th></th><th scope=col>longitude</th><th scope=col>latitude</th><th scope=col>housing_median_age</th><th scope=col>total_rooms</th><th scope=col>total_bedrooms</th><th scope=col>population</th><th scope=col>households</th><th scope=col>median_income</th><th scope=col>median_house_value</th></tr>\n",
              "\t<tr><th></th><th scope=col>&lt;dbl&gt;</th><th scope=col>&lt;dbl&gt;</th><th scope=col>&lt;dbl&gt;</th><th scope=col>&lt;dbl&gt;</th><th scope=col>&lt;dbl&gt;</th><th scope=col>&lt;dbl&gt;</th><th scope=col>&lt;dbl&gt;</th><th scope=col>&lt;dbl&gt;</th><th scope=col>&lt;dbl&gt;</th></tr>\n",
              "</thead>\n",
              "<tbody>\n",
              "\t<tr><th scope=row>1</th><td>-114.31</td><td>34.19</td><td>15</td><td>5612</td><td>1283</td><td>1015</td><td>472</td><td>1.4936</td><td>66900</td></tr>\n",
              "\t<tr><th scope=row>2</th><td>-114.47</td><td>34.40</td><td>19</td><td>7650</td><td>1901</td><td>1129</td><td>463</td><td>1.8200</td><td>80100</td></tr>\n",
              "\t<tr><th scope=row>3</th><td>-114.56</td><td>33.69</td><td>17</td><td> 720</td><td> 174</td><td> 333</td><td>117</td><td>1.6509</td><td>85700</td></tr>\n",
              "\t<tr><th scope=row>4</th><td>-114.57</td><td>33.64</td><td>14</td><td>1501</td><td> 337</td><td> 515</td><td>226</td><td>3.1917</td><td>73400</td></tr>\n",
              "\t<tr><th scope=row>5</th><td>-114.57</td><td>33.57</td><td>20</td><td>1454</td><td> 326</td><td> 624</td><td>262</td><td>1.9250</td><td>65500</td></tr>\n",
              "\t<tr><th scope=row>6</th><td>-114.58</td><td>33.63</td><td>29</td><td>1387</td><td> 236</td><td> 671</td><td>239</td><td>3.3438</td><td>74000</td></tr>\n",
              "</tbody>\n",
              "</table>\n"
            ],
            "text/markdown": "\nA data.frame: 6 × 9\n\n| <!--/--> | longitude &lt;dbl&gt; | latitude &lt;dbl&gt; | housing_median_age &lt;dbl&gt; | total_rooms &lt;dbl&gt; | total_bedrooms &lt;dbl&gt; | population &lt;dbl&gt; | households &lt;dbl&gt; | median_income &lt;dbl&gt; | median_house_value &lt;dbl&gt; |\n|---|---|---|---|---|---|---|---|---|---|\n| 1 | -114.31 | 34.19 | 15 | 5612 | 1283 | 1015 | 472 | 1.4936 | 66900 |\n| 2 | -114.47 | 34.40 | 19 | 7650 | 1901 | 1129 | 463 | 1.8200 | 80100 |\n| 3 | -114.56 | 33.69 | 17 |  720 |  174 |  333 | 117 | 1.6509 | 85700 |\n| 4 | -114.57 | 33.64 | 14 | 1501 |  337 |  515 | 226 | 3.1917 | 73400 |\n| 5 | -114.57 | 33.57 | 20 | 1454 |  326 |  624 | 262 | 1.9250 | 65500 |\n| 6 | -114.58 | 33.63 | 29 | 1387 |  236 |  671 | 239 | 3.3438 | 74000 |\n\n",
            "text/latex": "A data.frame: 6 × 9\n\\begin{tabular}{r|lllllllll}\n  & longitude & latitude & housing\\_median\\_age & total\\_rooms & total\\_bedrooms & population & households & median\\_income & median\\_house\\_value\\\\\n  & <dbl> & <dbl> & <dbl> & <dbl> & <dbl> & <dbl> & <dbl> & <dbl> & <dbl>\\\\\n\\hline\n\t1 & -114.31 & 34.19 & 15 & 5612 & 1283 & 1015 & 472 & 1.4936 & 66900\\\\\n\t2 & -114.47 & 34.40 & 19 & 7650 & 1901 & 1129 & 463 & 1.8200 & 80100\\\\\n\t3 & -114.56 & 33.69 & 17 &  720 &  174 &  333 & 117 & 1.6509 & 85700\\\\\n\t4 & -114.57 & 33.64 & 14 & 1501 &  337 &  515 & 226 & 3.1917 & 73400\\\\\n\t5 & -114.57 & 33.57 & 20 & 1454 &  326 &  624 & 262 & 1.9250 & 65500\\\\\n\t6 & -114.58 & 33.63 & 29 & 1387 &  236 &  671 & 239 & 3.3438 & 74000\\\\\n\\end{tabular}\n",
            "text/plain": [
              "  longitude latitude housing_median_age total_rooms total_bedrooms population\n",
              "1 -114.31   34.19    15                 5612        1283           1015      \n",
              "2 -114.47   34.40    19                 7650        1901           1129      \n",
              "3 -114.56   33.69    17                  720         174            333      \n",
              "4 -114.57   33.64    14                 1501         337            515      \n",
              "5 -114.57   33.57    20                 1454         326            624      \n",
              "6 -114.58   33.63    29                 1387         236            671      \n",
              "  households median_income median_house_value\n",
              "1 472        1.4936        66900             \n",
              "2 463        1.8200        80100             \n",
              "3 117        1.6509        85700             \n",
              "4 226        3.1917        73400             \n",
              "5 262        1.9250        65500             \n",
              "6 239        3.3438        74000             "
            ]
          },
          "metadata": {}
        }
      ]
    },
    {
      "cell_type": "code",
      "source": [
        "#If you want to specify which characters / strings to read as NA, specify the parameter na.strings; takes in a vector of character strings to read as NA\n",
        "#NOTE: Since na.strings only takes in a vector of character strings, they all must be an EXACT MATCH to how they show up in the CSV (decimals included)\n",
        "\n",
        "#For this call, it will not actually read the 15 in the frame as NA because if you look in the original data frame, it shows up with trailing 0s (which were eventually) truncated\n",
        "na_wrong <- read.csv(\"/content/sample_data/california_housing_train.csv\",na.strings=c(\"15\"))\n",
        "\n",
        "#For this call, it will read the 15 in the frame as NA because I specified it with the right amount of trailing zeroes that was in the original file\n",
        "na_specified <- read.csv(\"/content/sample_data/california_housing_train.csv\",na.strings=c(\"15.000000\"))\n",
        "\n",
        "head(na_wrong)\n",
        "head(na_specified)\n",
        "\n",
        "#NOTE: I am well aware how clunky this is, and for this reason I recommend you do any NA redefining after you read the file or using the package readr"
      ],
      "metadata": {
        "colab": {
          "base_uri": "https://localhost:8080/",
          "height": 555
        },
        "id": "zb3wBPg0xFp9",
        "outputId": "ba281d7d-45a1-463c-b86b-2a77757f4da6"
      },
      "execution_count": null,
      "outputs": [
        {
          "output_type": "display_data",
          "data": {
            "text/html": [
              "<table class=\"dataframe\">\n",
              "<caption>A data.frame: 6 × 9</caption>\n",
              "<thead>\n",
              "\t<tr><th></th><th scope=col>longitude</th><th scope=col>latitude</th><th scope=col>housing_median_age</th><th scope=col>total_rooms</th><th scope=col>total_bedrooms</th><th scope=col>population</th><th scope=col>households</th><th scope=col>median_income</th><th scope=col>median_house_value</th></tr>\n",
              "\t<tr><th></th><th scope=col>&lt;dbl&gt;</th><th scope=col>&lt;dbl&gt;</th><th scope=col>&lt;dbl&gt;</th><th scope=col>&lt;dbl&gt;</th><th scope=col>&lt;dbl&gt;</th><th scope=col>&lt;dbl&gt;</th><th scope=col>&lt;dbl&gt;</th><th scope=col>&lt;dbl&gt;</th><th scope=col>&lt;dbl&gt;</th></tr>\n",
              "</thead>\n",
              "<tbody>\n",
              "\t<tr><th scope=row>1</th><td>-114.31</td><td>34.19</td><td>15</td><td>5612</td><td>1283</td><td>1015</td><td>472</td><td>1.4936</td><td>66900</td></tr>\n",
              "\t<tr><th scope=row>2</th><td>-114.47</td><td>34.40</td><td>19</td><td>7650</td><td>1901</td><td>1129</td><td>463</td><td>1.8200</td><td>80100</td></tr>\n",
              "\t<tr><th scope=row>3</th><td>-114.56</td><td>33.69</td><td>17</td><td> 720</td><td> 174</td><td> 333</td><td>117</td><td>1.6509</td><td>85700</td></tr>\n",
              "\t<tr><th scope=row>4</th><td>-114.57</td><td>33.64</td><td>14</td><td>1501</td><td> 337</td><td> 515</td><td>226</td><td>3.1917</td><td>73400</td></tr>\n",
              "\t<tr><th scope=row>5</th><td>-114.57</td><td>33.57</td><td>20</td><td>1454</td><td> 326</td><td> 624</td><td>262</td><td>1.9250</td><td>65500</td></tr>\n",
              "\t<tr><th scope=row>6</th><td>-114.58</td><td>33.63</td><td>29</td><td>1387</td><td> 236</td><td> 671</td><td>239</td><td>3.3438</td><td>74000</td></tr>\n",
              "</tbody>\n",
              "</table>\n"
            ],
            "text/markdown": "\nA data.frame: 6 × 9\n\n| <!--/--> | longitude &lt;dbl&gt; | latitude &lt;dbl&gt; | housing_median_age &lt;dbl&gt; | total_rooms &lt;dbl&gt; | total_bedrooms &lt;dbl&gt; | population &lt;dbl&gt; | households &lt;dbl&gt; | median_income &lt;dbl&gt; | median_house_value &lt;dbl&gt; |\n|---|---|---|---|---|---|---|---|---|---|\n| 1 | -114.31 | 34.19 | 15 | 5612 | 1283 | 1015 | 472 | 1.4936 | 66900 |\n| 2 | -114.47 | 34.40 | 19 | 7650 | 1901 | 1129 | 463 | 1.8200 | 80100 |\n| 3 | -114.56 | 33.69 | 17 |  720 |  174 |  333 | 117 | 1.6509 | 85700 |\n| 4 | -114.57 | 33.64 | 14 | 1501 |  337 |  515 | 226 | 3.1917 | 73400 |\n| 5 | -114.57 | 33.57 | 20 | 1454 |  326 |  624 | 262 | 1.9250 | 65500 |\n| 6 | -114.58 | 33.63 | 29 | 1387 |  236 |  671 | 239 | 3.3438 | 74000 |\n\n",
            "text/latex": "A data.frame: 6 × 9\n\\begin{tabular}{r|lllllllll}\n  & longitude & latitude & housing\\_median\\_age & total\\_rooms & total\\_bedrooms & population & households & median\\_income & median\\_house\\_value\\\\\n  & <dbl> & <dbl> & <dbl> & <dbl> & <dbl> & <dbl> & <dbl> & <dbl> & <dbl>\\\\\n\\hline\n\t1 & -114.31 & 34.19 & 15 & 5612 & 1283 & 1015 & 472 & 1.4936 & 66900\\\\\n\t2 & -114.47 & 34.40 & 19 & 7650 & 1901 & 1129 & 463 & 1.8200 & 80100\\\\\n\t3 & -114.56 & 33.69 & 17 &  720 &  174 &  333 & 117 & 1.6509 & 85700\\\\\n\t4 & -114.57 & 33.64 & 14 & 1501 &  337 &  515 & 226 & 3.1917 & 73400\\\\\n\t5 & -114.57 & 33.57 & 20 & 1454 &  326 &  624 & 262 & 1.9250 & 65500\\\\\n\t6 & -114.58 & 33.63 & 29 & 1387 &  236 &  671 & 239 & 3.3438 & 74000\\\\\n\\end{tabular}\n",
            "text/plain": [
              "  longitude latitude housing_median_age total_rooms total_bedrooms population\n",
              "1 -114.31   34.19    15                 5612        1283           1015      \n",
              "2 -114.47   34.40    19                 7650        1901           1129      \n",
              "3 -114.56   33.69    17                  720         174            333      \n",
              "4 -114.57   33.64    14                 1501         337            515      \n",
              "5 -114.57   33.57    20                 1454         326            624      \n",
              "6 -114.58   33.63    29                 1387         236            671      \n",
              "  households median_income median_house_value\n",
              "1 472        1.4936        66900             \n",
              "2 463        1.8200        80100             \n",
              "3 117        1.6509        85700             \n",
              "4 226        3.1917        73400             \n",
              "5 262        1.9250        65500             \n",
              "6 239        3.3438        74000             "
            ]
          },
          "metadata": {}
        },
        {
          "output_type": "display_data",
          "data": {
            "text/html": [
              "<table class=\"dataframe\">\n",
              "<caption>A data.frame: 6 × 9</caption>\n",
              "<thead>\n",
              "\t<tr><th></th><th scope=col>longitude</th><th scope=col>latitude</th><th scope=col>housing_median_age</th><th scope=col>total_rooms</th><th scope=col>total_bedrooms</th><th scope=col>population</th><th scope=col>households</th><th scope=col>median_income</th><th scope=col>median_house_value</th></tr>\n",
              "\t<tr><th></th><th scope=col>&lt;dbl&gt;</th><th scope=col>&lt;dbl&gt;</th><th scope=col>&lt;dbl&gt;</th><th scope=col>&lt;dbl&gt;</th><th scope=col>&lt;dbl&gt;</th><th scope=col>&lt;dbl&gt;</th><th scope=col>&lt;dbl&gt;</th><th scope=col>&lt;dbl&gt;</th><th scope=col>&lt;dbl&gt;</th></tr>\n",
              "</thead>\n",
              "<tbody>\n",
              "\t<tr><th scope=row>1</th><td>-114.31</td><td>34.19</td><td>NA</td><td>5612</td><td>1283</td><td>1015</td><td>472</td><td>1.4936</td><td>66900</td></tr>\n",
              "\t<tr><th scope=row>2</th><td>-114.47</td><td>34.40</td><td>19</td><td>7650</td><td>1901</td><td>1129</td><td>463</td><td>1.8200</td><td>80100</td></tr>\n",
              "\t<tr><th scope=row>3</th><td>-114.56</td><td>33.69</td><td>17</td><td> 720</td><td> 174</td><td> 333</td><td>117</td><td>1.6509</td><td>85700</td></tr>\n",
              "\t<tr><th scope=row>4</th><td>-114.57</td><td>33.64</td><td>14</td><td>1501</td><td> 337</td><td> 515</td><td>226</td><td>3.1917</td><td>73400</td></tr>\n",
              "\t<tr><th scope=row>5</th><td>-114.57</td><td>33.57</td><td>20</td><td>1454</td><td> 326</td><td> 624</td><td>262</td><td>1.9250</td><td>65500</td></tr>\n",
              "\t<tr><th scope=row>6</th><td>-114.58</td><td>33.63</td><td>29</td><td>1387</td><td> 236</td><td> 671</td><td>239</td><td>3.3438</td><td>74000</td></tr>\n",
              "</tbody>\n",
              "</table>\n"
            ],
            "text/markdown": "\nA data.frame: 6 × 9\n\n| <!--/--> | longitude &lt;dbl&gt; | latitude &lt;dbl&gt; | housing_median_age &lt;dbl&gt; | total_rooms &lt;dbl&gt; | total_bedrooms &lt;dbl&gt; | population &lt;dbl&gt; | households &lt;dbl&gt; | median_income &lt;dbl&gt; | median_house_value &lt;dbl&gt; |\n|---|---|---|---|---|---|---|---|---|---|\n| 1 | -114.31 | 34.19 | NA | 5612 | 1283 | 1015 | 472 | 1.4936 | 66900 |\n| 2 | -114.47 | 34.40 | 19 | 7650 | 1901 | 1129 | 463 | 1.8200 | 80100 |\n| 3 | -114.56 | 33.69 | 17 |  720 |  174 |  333 | 117 | 1.6509 | 85700 |\n| 4 | -114.57 | 33.64 | 14 | 1501 |  337 |  515 | 226 | 3.1917 | 73400 |\n| 5 | -114.57 | 33.57 | 20 | 1454 |  326 |  624 | 262 | 1.9250 | 65500 |\n| 6 | -114.58 | 33.63 | 29 | 1387 |  236 |  671 | 239 | 3.3438 | 74000 |\n\n",
            "text/latex": "A data.frame: 6 × 9\n\\begin{tabular}{r|lllllllll}\n  & longitude & latitude & housing\\_median\\_age & total\\_rooms & total\\_bedrooms & population & households & median\\_income & median\\_house\\_value\\\\\n  & <dbl> & <dbl> & <dbl> & <dbl> & <dbl> & <dbl> & <dbl> & <dbl> & <dbl>\\\\\n\\hline\n\t1 & -114.31 & 34.19 & NA & 5612 & 1283 & 1015 & 472 & 1.4936 & 66900\\\\\n\t2 & -114.47 & 34.40 & 19 & 7650 & 1901 & 1129 & 463 & 1.8200 & 80100\\\\\n\t3 & -114.56 & 33.69 & 17 &  720 &  174 &  333 & 117 & 1.6509 & 85700\\\\\n\t4 & -114.57 & 33.64 & 14 & 1501 &  337 &  515 & 226 & 3.1917 & 73400\\\\\n\t5 & -114.57 & 33.57 & 20 & 1454 &  326 &  624 & 262 & 1.9250 & 65500\\\\\n\t6 & -114.58 & 33.63 & 29 & 1387 &  236 &  671 & 239 & 3.3438 & 74000\\\\\n\\end{tabular}\n",
            "text/plain": [
              "  longitude latitude housing_median_age total_rooms total_bedrooms population\n",
              "1 -114.31   34.19    NA                 5612        1283           1015      \n",
              "2 -114.47   34.40    19                 7650        1901           1129      \n",
              "3 -114.56   33.69    17                  720         174            333      \n",
              "4 -114.57   33.64    14                 1501         337            515      \n",
              "5 -114.57   33.57    20                 1454         326            624      \n",
              "6 -114.58   33.63    29                 1387         236            671      \n",
              "  households median_income median_house_value\n",
              "1 472        1.4936        66900             \n",
              "2 463        1.8200        80100             \n",
              "3 117        1.6509        85700             \n",
              "4 226        3.1917        73400             \n",
              "5 262        1.9250        65500             \n",
              "6 239        3.3438        74000             "
            ]
          },
          "metadata": {}
        }
      ]
    },
    {
      "cell_type": "markdown",
      "source": [
        "##Exporting Data"
      ],
      "metadata": {
        "id": "UNFJi1mL6JKH"
      }
    },
    {
      "cell_type": "markdown",
      "source": [
        "Like for reading data, there are many functions to write / save data in R but for today we will just talk about this one:\n",
        "\n",
        "\n",
        "```\n",
        "write.csv()\n",
        "```"
      ],
      "metadata": {
        "id": "idrw8P_msTXG"
      }
    },
    {
      "cell_type": "code",
      "source": [
        "#First, let's import some data\n",
        "cali_housing <- read.csv(\"/content/sample_data/california_housing_train.csv\")\n",
        "\n",
        "#Let's do some small changes to this data frame\n",
        "#This code is just redefining the housing_median_age column to have \"old ahh house\" for houses with a median age over 15 and \"new ahh house\" for ones with age below or equal to 15\n",
        "cali_housing$housing_median_age <- ifelse(cali_housing$housing_median_age > 15, \"old ahh house\",\"new ahh house\")\n",
        "\n",
        "#Let's take just the first 5 rows of this modfied frame and write it to a new csv file\n",
        "cali_housing <- head(cali_housing,n=5)\n",
        "write.csv(cali_housing,file=\"/content/sample_data/california_housing_modified.csv\")\n",
        "\n",
        "#NOTE: If you navigate to the \"Files\" tab on the left and into the sample_data folder you can see our newly written file there!\n",
        "\n",
        "#Let's have a look at our newly written csv\n",
        "new_csv <- read.csv(\"/content/sample_data/california_housing_modified.csv\")\n",
        "View(new_csv)\n"
      ],
      "metadata": {
        "colab": {
          "base_uri": "https://localhost:8080/",
          "height": 255
        },
        "id": "32jhckTEsf6C",
        "outputId": "6afe1073-3bf3-42be-cb63-73c519b0852e"
      },
      "execution_count": null,
      "outputs": [
        {
          "output_type": "display_data",
          "data": {
            "text/plain": [
              "  X longitude latitude housing_median_age total_rooms total_bedrooms population\n",
              "1 1 -114.31   34.19    new ahh house      5612        1283           1015      \n",
              "2 2 -114.47   34.40    old ahh house      7650        1901           1129      \n",
              "3 3 -114.56   33.69    old ahh house       720         174            333      \n",
              "4 4 -114.57   33.64    new ahh house      1501         337            515      \n",
              "5 5 -114.57   33.57    old ahh house      1454         326            624      \n",
              "  households median_income median_house_value\n",
              "1 472        1.4936        66900             \n",
              "2 463        1.8200        80100             \n",
              "3 117        1.6509        85700             \n",
              "4 226        3.1917        73400             \n",
              "5 262        1.9250        65500             "
            ],
            "text/html": [
              "<table class=\"dataframe\">\n",
              "<caption>A data.frame: 5 × 10</caption>\n",
              "<thead>\n",
              "\t<tr><th scope=col>X</th><th scope=col>longitude</th><th scope=col>latitude</th><th scope=col>housing_median_age</th><th scope=col>total_rooms</th><th scope=col>total_bedrooms</th><th scope=col>population</th><th scope=col>households</th><th scope=col>median_income</th><th scope=col>median_house_value</th></tr>\n",
              "\t<tr><th scope=col>&lt;int&gt;</th><th scope=col>&lt;dbl&gt;</th><th scope=col>&lt;dbl&gt;</th><th scope=col>&lt;chr&gt;</th><th scope=col>&lt;int&gt;</th><th scope=col>&lt;int&gt;</th><th scope=col>&lt;int&gt;</th><th scope=col>&lt;int&gt;</th><th scope=col>&lt;dbl&gt;</th><th scope=col>&lt;int&gt;</th></tr>\n",
              "</thead>\n",
              "<tbody>\n",
              "\t<tr><td>1</td><td>-114.31</td><td>34.19</td><td>new ahh house</td><td>5612</td><td>1283</td><td>1015</td><td>472</td><td>1.4936</td><td>66900</td></tr>\n",
              "\t<tr><td>2</td><td>-114.47</td><td>34.40</td><td>old ahh house</td><td>7650</td><td>1901</td><td>1129</td><td>463</td><td>1.8200</td><td>80100</td></tr>\n",
              "\t<tr><td>3</td><td>-114.56</td><td>33.69</td><td>old ahh house</td><td> 720</td><td> 174</td><td> 333</td><td>117</td><td>1.6509</td><td>85700</td></tr>\n",
              "\t<tr><td>4</td><td>-114.57</td><td>33.64</td><td>new ahh house</td><td>1501</td><td> 337</td><td> 515</td><td>226</td><td>3.1917</td><td>73400</td></tr>\n",
              "\t<tr><td>5</td><td>-114.57</td><td>33.57</td><td>old ahh house</td><td>1454</td><td> 326</td><td> 624</td><td>262</td><td>1.9250</td><td>65500</td></tr>\n",
              "</tbody>\n",
              "</table>\n"
            ],
            "text/markdown": "\nA data.frame: 5 × 10\n\n| X &lt;int&gt; | longitude &lt;dbl&gt; | latitude &lt;dbl&gt; | housing_median_age &lt;chr&gt; | total_rooms &lt;int&gt; | total_bedrooms &lt;int&gt; | population &lt;int&gt; | households &lt;int&gt; | median_income &lt;dbl&gt; | median_house_value &lt;int&gt; |\n|---|---|---|---|---|---|---|---|---|---|\n| 1 | -114.31 | 34.19 | new ahh house | 5612 | 1283 | 1015 | 472 | 1.4936 | 66900 |\n| 2 | -114.47 | 34.40 | old ahh house | 7650 | 1901 | 1129 | 463 | 1.8200 | 80100 |\n| 3 | -114.56 | 33.69 | old ahh house |  720 |  174 |  333 | 117 | 1.6509 | 85700 |\n| 4 | -114.57 | 33.64 | new ahh house | 1501 |  337 |  515 | 226 | 3.1917 | 73400 |\n| 5 | -114.57 | 33.57 | old ahh house | 1454 |  326 |  624 | 262 | 1.9250 | 65500 |\n\n",
            "text/latex": "A data.frame: 5 × 10\n\\begin{tabular}{llllllllll}\n X & longitude & latitude & housing\\_median\\_age & total\\_rooms & total\\_bedrooms & population & households & median\\_income & median\\_house\\_value\\\\\n <int> & <dbl> & <dbl> & <chr> & <int> & <int> & <int> & <int> & <dbl> & <int>\\\\\n\\hline\n\t 1 & -114.31 & 34.19 & new ahh house & 5612 & 1283 & 1015 & 472 & 1.4936 & 66900\\\\\n\t 2 & -114.47 & 34.40 & old ahh house & 7650 & 1901 & 1129 & 463 & 1.8200 & 80100\\\\\n\t 3 & -114.56 & 33.69 & old ahh house &  720 &  174 &  333 & 117 & 1.6509 & 85700\\\\\n\t 4 & -114.57 & 33.64 & new ahh house & 1501 &  337 &  515 & 226 & 3.1917 & 73400\\\\\n\t 5 & -114.57 & 33.57 & old ahh house & 1454 &  326 &  624 & 262 & 1.9250 & 65500\\\\\n\\end{tabular}\n"
          },
          "metadata": {}
        }
      ]
    },
    {
      "cell_type": "markdown",
      "source": [
        "# Activity: Let's Work With Some Data!\n",
        "---"
      ],
      "metadata": {
        "id": "2u875JjJlFxN"
      }
    },
    {
      "cell_type": "markdown",
      "source": [
        "The following code contains a url to a GitHub database containing data about job recruitment posts on LinkedIn. Our goal is to extract some useful information from this dataset using the functions we just learned!\n",
        "\n",
        "Please keep the code at the top of each code block! This is getting the data frame you will be working with."
      ],
      "metadata": {
        "id": "LSF00AhOlHiW"
      }
    },
    {
      "cell_type": "code",
      "source": [
        "url <- \"https://raw.githubusercontent.com/Mlawrence95/LinkedIn-Tech-Job-Data/refs/heads/main/jobs.csv\"\n",
        "job_data <- read.csv(url)\n",
        "\n",
        "#Put code here to output the names of the variables in this data frame (ie. the column names)\n",
        "colnames(job_data)\n",
        "\n",
        "#Put code here to output how many job offerings are in the dataset (ie. the number of rows)\n",
        "nrow(job_data)\n",
        "\n",
        "#Put code here to summarize the data frame (hint: use one of the first functions we talked about in the last section!)\n",
        "summary(job_data)\n"
      ],
      "metadata": {
        "colab": {
          "base_uri": "https://localhost:8080/",
          "height": 763
        },
        "id": "iHranfzQmCz-",
        "outputId": "24c1e130-4662-436d-ffe7-151f270045a0"
      },
      "execution_count": null,
      "outputs": [
        {
          "output_type": "display_data",
          "data": {
            "text/html": [
              "<style>\n",
              ".list-inline {list-style: none; margin:0; padding: 0}\n",
              ".list-inline>li {display: inline-block}\n",
              ".list-inline>li:not(:last-child)::after {content: \"\\00b7\"; padding: 0 .5ex}\n",
              "</style>\n",
              "<ol class=list-inline><li>'Employment.type'</li><li>'Industries'</li><li>'Job.function'</li><li>'Seniority.level'</li><li>'company'</li><li>'company_id'</li><li>'context'</li><li>'date'</li><li>'description'</li><li>'education'</li><li>'location'</li><li>'months_experience'</li><li>'post_id'</li><li>'post_url'</li><li>'sal_high'</li><li>'sal_low'</li><li>'salary'</li><li>'title'</li></ol>\n"
            ],
            "text/markdown": "1. 'Employment.type'\n2. 'Industries'\n3. 'Job.function'\n4. 'Seniority.level'\n5. 'company'\n6. 'company_id'\n7. 'context'\n8. 'date'\n9. 'description'\n10. 'education'\n11. 'location'\n12. 'months_experience'\n13. 'post_id'\n14. 'post_url'\n15. 'sal_high'\n16. 'sal_low'\n17. 'salary'\n18. 'title'\n\n\n",
            "text/latex": "\\begin{enumerate*}\n\\item 'Employment.type'\n\\item 'Industries'\n\\item 'Job.function'\n\\item 'Seniority.level'\n\\item 'company'\n\\item 'company\\_id'\n\\item 'context'\n\\item 'date'\n\\item 'description'\n\\item 'education'\n\\item 'location'\n\\item 'months\\_experience'\n\\item 'post\\_id'\n\\item 'post\\_url'\n\\item 'sal\\_high'\n\\item 'sal\\_low'\n\\item 'salary'\n\\item 'title'\n\\end{enumerate*}\n",
            "text/plain": [
              " [1] \"Employment.type\"   \"Industries\"        \"Job.function\"     \n",
              " [4] \"Seniority.level\"   \"company\"           \"company_id\"       \n",
              " [7] \"context\"           \"date\"              \"description\"      \n",
              "[10] \"education\"         \"location\"          \"months_experience\"\n",
              "[13] \"post_id\"           \"post_url\"          \"sal_high\"         \n",
              "[16] \"sal_low\"           \"salary\"            \"title\"            "
            ]
          },
          "metadata": {}
        },
        {
          "output_type": "display_data",
          "data": {
            "text/html": [
              "8261"
            ],
            "text/markdown": "8261",
            "text/latex": "8261",
            "text/plain": [
              "[1] 8261"
            ]
          },
          "metadata": {}
        },
        {
          "output_type": "display_data",
          "data": {
            "text/plain": [
              " Employment.type     Industries        Job.function       Seniority.level   \n",
              " Length:8261        Length:8261        Length:8261        Length:8261       \n",
              " Class :character   Class :character   Class :character   Class :character  \n",
              " Mode  :character   Mode  :character   Mode  :character   Mode  :character  \n",
              "                                                                            \n",
              "                                                                            \n",
              "                                                                            \n",
              "                                                                            \n",
              "   company            company_id         context              date          \n",
              " Length:8261        Min.   :    1000   Length:8261        Length:8261       \n",
              " Class :character   1st Qu.:    4787   Class :character   Class :character  \n",
              " Mode  :character   Median :  162479   Mode  :character   Mode  :character  \n",
              "                    Mean   : 6680769                                        \n",
              "                    3rd Qu.: 3334793                                        \n",
              "                    Max.   :80114151                                        \n",
              "                    NA's   :481                                             \n",
              " description         education           location         months_experience\n",
              " Length:8261        Length:8261        Length:8261        Min.   :  3.00   \n",
              " Class :character   Class :character   Class :character   1st Qu.: 36.00   \n",
              " Mode  :character   Mode  :character   Mode  :character   Median : 48.00   \n",
              "                                                          Mean   : 50.46   \n",
              "                                                          3rd Qu.: 60.00   \n",
              "                                                          Max.   :180.00   \n",
              "                                                          NA's   :3171     \n",
              "    post_id            post_url            sal_high         sal_low      \n",
              " Min.   :1.039e+08   Length:8261        Min.   :   100   Min.   :   120  \n",
              " 1st Qu.:2.663e+09   Class :character   1st Qu.:119000   1st Qu.: 75450  \n",
              " Median :2.682e+09   Mode  :character   Median :151000   Median : 91300  \n",
              " Mean   :2.680e+09                      Mean   :150923   Mean   : 94314  \n",
              " 3rd Qu.:2.694e+09                      3rd Qu.:180000   3rd Qu.:113000  \n",
              " Max.   :2.764e+09                      Max.   :416000   Max.   :312000  \n",
              "                                        NA's   :6126     NA's   :6126    \n",
              "    salary             title          \n",
              " Length:8261        Length:8261       \n",
              " Class :character   Class :character  \n",
              " Mode  :character   Mode  :character  \n",
              "                                      \n",
              "                                      \n",
              "                                      \n",
              "                                      "
            ]
          },
          "metadata": {}
        }
      ]
    },
    {
      "cell_type": "code",
      "source": [
        "url <- \"https://raw.githubusercontent.com/Mlawrence95/LinkedIn-Tech-Job-Data/refs/heads/main/jobs.csv\"\n",
        "job_data <- read.csv(url)\n",
        "\n",
        "#Now define a new data frame with a name of your choice that includes every column of job_data EXCEPT the columns \"description\",\"context\", and \"post_url\"\n",
        "new_job_data <- subset(job_data,select=-c(description,context,post_url))\n",
        "\n",
        "#Put code here to print the first 3 job listings / rows in the newly made data frame\n",
        "head(new_job_data,n=3)\n",
        "\n",
        "#Put code here to order the data frame rows by decreasing values of variable sal_low\n",
        "#Assign this ordered frame to a new variable then print the first and last 2 rows of it\n",
        "ordered_job_data <- new_job_data[order(new_job_data$sal_low,decreasing=TRUE),]\n",
        "head(ordered_job_data,n=2)\n",
        "tail(ordered_job_data,n=2)"
      ],
      "metadata": {
        "colab": {
          "base_uri": "https://localhost:8080/",
          "height": 1000
        },
        "id": "aMWf0CxNr4O8",
        "outputId": "9df97af8-23cd-4371-a999-caa97e873f89"
      },
      "execution_count": null,
      "outputs": [
        {
          "output_type": "display_data",
          "data": {
            "text/html": [
              "<table class=\"dataframe\">\n",
              "<caption>A data.frame: 3 × 15</caption>\n",
              "<thead>\n",
              "\t<tr><th></th><th scope=col>Employment.type</th><th scope=col>Industries</th><th scope=col>Job.function</th><th scope=col>Seniority.level</th><th scope=col>company</th><th scope=col>company_id</th><th scope=col>date</th><th scope=col>education</th><th scope=col>location</th><th scope=col>months_experience</th><th scope=col>post_id</th><th scope=col>sal_high</th><th scope=col>sal_low</th><th scope=col>salary</th><th scope=col>title</th></tr>\n",
              "\t<tr><th></th><th scope=col>&lt;chr&gt;</th><th scope=col>&lt;chr&gt;</th><th scope=col>&lt;chr&gt;</th><th scope=col>&lt;chr&gt;</th><th scope=col>&lt;chr&gt;</th><th scope=col>&lt;dbl&gt;</th><th scope=col>&lt;chr&gt;</th><th scope=col>&lt;chr&gt;</th><th scope=col>&lt;chr&gt;</th><th scope=col>&lt;dbl&gt;</th><th scope=col>&lt;dbl&gt;</th><th scope=col>&lt;dbl&gt;</th><th scope=col>&lt;dbl&gt;</th><th scope=col>&lt;chr&gt;</th><th scope=col>&lt;chr&gt;</th></tr>\n",
              "</thead>\n",
              "<tbody>\n",
              "\t<tr><th scope=row>1</th><td>Full-time</td><td>Broadcast Media                                                              </td><td>Information Technology                </td><td>Mid-Senior level</td><td>CyberCoders      </td><td>21836</td><td></td><td>bachelor degree</td><td>Alexandria, VA </td><td>60</td><td>2632814552</td><td>    NA</td><td>    NA</td><td>                               </td><td>Senior Data Engineer                   </td></tr>\n",
              "\t<tr><th scope=row>2</th><td>Full-time</td><td><span style=white-space:pre-wrap>Hospital &amp; Health Care, Medical Devices, and Pharmaceuticals                 </span></td><td>Engineering and Information Technology</td><td><span style=white-space:pre-wrap>Not Applicable  </span></td><td>Johnson &amp; Johnson</td><td> 1207</td><td></td><td>bachelor degree</td><td>Santa Clara, CA</td><td>96</td><td>2632810866</td><td><span style=white-space:pre-wrap>    NA</span></td><td><span style=white-space:pre-wrap>    NA</span></td><td><span style=white-space:pre-wrap>                               </span></td><td>Principal Full Stack Software Engineer.</td></tr>\n",
              "\t<tr><th scope=row>3</th><td>Full-time</td><td>Computer Hardware, Computer Software, and Information Technology and Services</td><td>Engineering and Information Technology</td><td>Not Applicable  </td><td>Microsoft        </td><td> 1035</td><td></td><td>bachelor degree</td><td>Washington, DC </td><td>84</td><td>2632812746</td><td>189000</td><td>120000</td><td>$120,000.00/yr - $189,000.00/yr</td><td>Senior Software Engineer               </td></tr>\n",
              "</tbody>\n",
              "</table>\n"
            ],
            "text/markdown": "\nA data.frame: 3 × 15\n\n| <!--/--> | Employment.type &lt;chr&gt; | Industries &lt;chr&gt; | Job.function &lt;chr&gt; | Seniority.level &lt;chr&gt; | company &lt;chr&gt; | company_id &lt;dbl&gt; | date &lt;chr&gt; | education &lt;chr&gt; | location &lt;chr&gt; | months_experience &lt;dbl&gt; | post_id &lt;dbl&gt; | sal_high &lt;dbl&gt; | sal_low &lt;dbl&gt; | salary &lt;chr&gt; | title &lt;chr&gt; |\n|---|---|---|---|---|---|---|---|---|---|---|---|---|---|---|---|\n| 1 | Full-time | Broadcast Media                                                               | Information Technology                 | Mid-Senior level | CyberCoders       | 21836 | <!----> | bachelor degree | Alexandria, VA  | 60 | 2632814552 |     NA |     NA | <!----> | Senior Data Engineer                    |\n| 2 | Full-time | Hospital &amp; Health Care, Medical Devices, and Pharmaceuticals                  | Engineering and Information Technology | Not Applicable   | Johnson &amp; Johnson |  1207 | <!----> | bachelor degree | Santa Clara, CA | 96 | 2632810866 |     NA |     NA | <!----> | Principal Full Stack Software Engineer. |\n| 3 | Full-time | Computer Hardware, Computer Software, and Information Technology and Services | Engineering and Information Technology | Not Applicable   | Microsoft         |  1035 | <!----> | bachelor degree | Washington, DC  | 84 | 2632812746 | 189000 | 120000 | $120,000.00/yr - $189,000.00/yr | Senior Software Engineer                |\n\n",
            "text/latex": "A data.frame: 3 × 15\n\\begin{tabular}{r|lllllllllllllll}\n  & Employment.type & Industries & Job.function & Seniority.level & company & company\\_id & date & education & location & months\\_experience & post\\_id & sal\\_high & sal\\_low & salary & title\\\\\n  & <chr> & <chr> & <chr> & <chr> & <chr> & <dbl> & <chr> & <chr> & <chr> & <dbl> & <dbl> & <dbl> & <dbl> & <chr> & <chr>\\\\\n\\hline\n\t1 & Full-time & Broadcast Media                                                               & Information Technology                 & Mid-Senior level & CyberCoders       & 21836 &  & bachelor degree & Alexandria, VA  & 60 & 2632814552 &     NA &     NA &                                 & Senior Data Engineer                   \\\\\n\t2 & Full-time & Hospital \\& Health Care, Medical Devices, and Pharmaceuticals                  & Engineering and Information Technology & Not Applicable   & Johnson \\& Johnson &  1207 &  & bachelor degree & Santa Clara, CA & 96 & 2632810866 &     NA &     NA &                                 & Principal Full Stack Software Engineer.\\\\\n\t3 & Full-time & Computer Hardware, Computer Software, and Information Technology and Services & Engineering and Information Technology & Not Applicable   & Microsoft         &  1035 &  & bachelor degree & Washington, DC  & 84 & 2632812746 & 189000 & 120000 & \\$120,000.00/yr - \\$189,000.00/yr & Senior Software Engineer               \\\\\n\\end{tabular}\n",
            "text/plain": [
              "  Employment.type\n",
              "1 Full-time      \n",
              "2 Full-time      \n",
              "3 Full-time      \n",
              "  Industries                                                                   \n",
              "1 Broadcast Media                                                              \n",
              "2 Hospital & Health Care, Medical Devices, and Pharmaceuticals                 \n",
              "3 Computer Hardware, Computer Software, and Information Technology and Services\n",
              "  Job.function                           Seniority.level  company          \n",
              "1 Information Technology                 Mid-Senior level CyberCoders      \n",
              "2 Engineering and Information Technology Not Applicable   Johnson & Johnson\n",
              "3 Engineering and Information Technology Not Applicable   Microsoft        \n",
              "  company_id date education       location        months_experience post_id   \n",
              "1 21836           bachelor degree Alexandria, VA  60                2632814552\n",
              "2  1207           bachelor degree Santa Clara, CA 96                2632810866\n",
              "3  1035           bachelor degree Washington, DC  84                2632812746\n",
              "  sal_high sal_low salary                         \n",
              "1     NA       NA                                 \n",
              "2     NA       NA                                 \n",
              "3 189000   120000  $120,000.00/yr - $189,000.00/yr\n",
              "  title                                  \n",
              "1 Senior Data Engineer                   \n",
              "2 Principal Full Stack Software Engineer.\n",
              "3 Senior Software Engineer               "
            ]
          },
          "metadata": {}
        },
        {
          "output_type": "display_data",
          "data": {
            "text/html": [
              "<table class=\"dataframe\">\n",
              "<caption>A data.frame: 2 × 15</caption>\n",
              "<thead>\n",
              "\t<tr><th></th><th scope=col>Employment.type</th><th scope=col>Industries</th><th scope=col>Job.function</th><th scope=col>Seniority.level</th><th scope=col>company</th><th scope=col>company_id</th><th scope=col>date</th><th scope=col>education</th><th scope=col>location</th><th scope=col>months_experience</th><th scope=col>post_id</th><th scope=col>sal_high</th><th scope=col>sal_low</th><th scope=col>salary</th><th scope=col>title</th></tr>\n",
              "\t<tr><th></th><th scope=col>&lt;chr&gt;</th><th scope=col>&lt;chr&gt;</th><th scope=col>&lt;chr&gt;</th><th scope=col>&lt;chr&gt;</th><th scope=col>&lt;chr&gt;</th><th scope=col>&lt;dbl&gt;</th><th scope=col>&lt;chr&gt;</th><th scope=col>&lt;chr&gt;</th><th scope=col>&lt;chr&gt;</th><th scope=col>&lt;dbl&gt;</th><th scope=col>&lt;dbl&gt;</th><th scope=col>&lt;dbl&gt;</th><th scope=col>&lt;dbl&gt;</th><th scope=col>&lt;chr&gt;</th><th scope=col>&lt;chr&gt;</th></tr>\n",
              "</thead>\n",
              "<tbody>\n",
              "\t<tr><th scope=row>6504</th><td>Full-time</td><td><span style=white-space:pre-wrap>Oil &amp; Energy                       </span></td><td><span style=white-space:pre-wrap>Information Technology            </span></td><td><span style=white-space:pre-wrap>Associate       </span></td><td>AllTech Systems, Inc.</td><td>1507659</td><td>2021-08-30 17:49:18.871675</td><td>bachelor degree</td><td><span style=white-space:pre-wrap>Greater Houston          </span></td><td>NA</td><td>2702731747</td><td>416000</td><td>312000</td><td>$150.00/hr - $200.00/hr</td><td>Machine Learning Engineer V</td></tr>\n",
              "\t<tr><th scope=row>459</th><td>Contract </td><td>Pharmaceuticals and Medical Devices</td><td>Engineering, Research, and Science</td><td>Mid-Senior level</td><td>Tech Observer        </td><td> 878413</td><td>                          </td><td>bachelor degree</td><td>California, United States</td><td>NA</td><td>2647421535</td><td>280800</td><td>249600</td><td>$120.00/hr - $135.00/hr</td><td>Machine Learning Engineer  </td></tr>\n",
              "</tbody>\n",
              "</table>\n"
            ],
            "text/markdown": "\nA data.frame: 2 × 15\n\n| <!--/--> | Employment.type &lt;chr&gt; | Industries &lt;chr&gt; | Job.function &lt;chr&gt; | Seniority.level &lt;chr&gt; | company &lt;chr&gt; | company_id &lt;dbl&gt; | date &lt;chr&gt; | education &lt;chr&gt; | location &lt;chr&gt; | months_experience &lt;dbl&gt; | post_id &lt;dbl&gt; | sal_high &lt;dbl&gt; | sal_low &lt;dbl&gt; | salary &lt;chr&gt; | title &lt;chr&gt; |\n|---|---|---|---|---|---|---|---|---|---|---|---|---|---|---|---|\n| 6504 | Full-time | Oil &amp; Energy                        | Information Technology             | Associate        | AllTech Systems, Inc. | 1507659 | 2021-08-30 17:49:18.871675 | bachelor degree | Greater Houston           | NA | 2702731747 | 416000 | 312000 | $150.00/hr - $200.00/hr | Machine Learning Engineer V |\n| 459 | Contract  | Pharmaceuticals and Medical Devices | Engineering, Research, and Science | Mid-Senior level | Tech Observer         |  878413 | <!----> | bachelor degree | California, United States | NA | 2647421535 | 280800 | 249600 | $120.00/hr - $135.00/hr | Machine Learning Engineer   |\n\n",
            "text/latex": "A data.frame: 2 × 15\n\\begin{tabular}{r|lllllllllllllll}\n  & Employment.type & Industries & Job.function & Seniority.level & company & company\\_id & date & education & location & months\\_experience & post\\_id & sal\\_high & sal\\_low & salary & title\\\\\n  & <chr> & <chr> & <chr> & <chr> & <chr> & <dbl> & <chr> & <chr> & <chr> & <dbl> & <dbl> & <dbl> & <dbl> & <chr> & <chr>\\\\\n\\hline\n\t6504 & Full-time & Oil \\& Energy                        & Information Technology             & Associate        & AllTech Systems, Inc. & 1507659 & 2021-08-30 17:49:18.871675 & bachelor degree & Greater Houston           & NA & 2702731747 & 416000 & 312000 & \\$150.00/hr - \\$200.00/hr & Machine Learning Engineer V\\\\\n\t459 & Contract  & Pharmaceuticals and Medical Devices & Engineering, Research, and Science & Mid-Senior level & Tech Observer         &  878413 &                            & bachelor degree & California, United States & NA & 2647421535 & 280800 & 249600 & \\$120.00/hr - \\$135.00/hr & Machine Learning Engineer  \\\\\n\\end{tabular}\n",
            "text/plain": [
              "     Employment.type Industries                         \n",
              "6504 Full-time       Oil & Energy                       \n",
              "459  Contract        Pharmaceuticals and Medical Devices\n",
              "     Job.function                       Seniority.level  company              \n",
              "6504 Information Technology             Associate        AllTech Systems, Inc.\n",
              "459  Engineering, Research, and Science Mid-Senior level Tech Observer        \n",
              "     company_id date                       education      \n",
              "6504 1507659    2021-08-30 17:49:18.871675 bachelor degree\n",
              "459   878413                               bachelor degree\n",
              "     location                  months_experience post_id    sal_high sal_low\n",
              "6504 Greater Houston           NA                2702731747 416000   312000 \n",
              "459  California, United States NA                2647421535 280800   249600 \n",
              "     salary                  title                      \n",
              "6504 $150.00/hr - $200.00/hr Machine Learning Engineer V\n",
              "459  $120.00/hr - $135.00/hr Machine Learning Engineer  "
            ]
          },
          "metadata": {}
        },
        {
          "output_type": "display_data",
          "data": {
            "text/html": [
              "<table class=\"dataframe\">\n",
              "<caption>A data.frame: 2 × 15</caption>\n",
              "<thead>\n",
              "\t<tr><th></th><th scope=col>Employment.type</th><th scope=col>Industries</th><th scope=col>Job.function</th><th scope=col>Seniority.level</th><th scope=col>company</th><th scope=col>company_id</th><th scope=col>date</th><th scope=col>education</th><th scope=col>location</th><th scope=col>months_experience</th><th scope=col>post_id</th><th scope=col>sal_high</th><th scope=col>sal_low</th><th scope=col>salary</th><th scope=col>title</th></tr>\n",
              "\t<tr><th></th><th scope=col>&lt;chr&gt;</th><th scope=col>&lt;chr&gt;</th><th scope=col>&lt;chr&gt;</th><th scope=col>&lt;chr&gt;</th><th scope=col>&lt;chr&gt;</th><th scope=col>&lt;dbl&gt;</th><th scope=col>&lt;chr&gt;</th><th scope=col>&lt;chr&gt;</th><th scope=col>&lt;chr&gt;</th><th scope=col>&lt;dbl&gt;</th><th scope=col>&lt;dbl&gt;</th><th scope=col>&lt;dbl&gt;</th><th scope=col>&lt;dbl&gt;</th><th scope=col>&lt;chr&gt;</th><th scope=col>&lt;chr&gt;</th></tr>\n",
              "</thead>\n",
              "<tbody>\n",
              "\t<tr><th scope=row>8260</th><td>         </td><td>                                                                                     </td><td>                                      </td><td>                </td><td>Flowspace</td><td>  NA</td><td>2021-10-17 23:51:08.758745</td><td>               </td><td>Los Angeles, CA</td><td>NA</td><td>2754349591</td><td>NA</td><td>NA</td><td></td><td>Site Reliability / DevOps Engineer (Remote)</td></tr>\n",
              "\t<tr><th scope=row>8261</th><td>Full-time</td><td>Marketing and Advertising, Information Technology and Services, and Computer Software</td><td>Engineering and Information Technology</td><td>Mid-Senior level</td><td>Adobe    </td><td>1480</td><td>2021-10-17 23:51:11.907258</td><td>bachelor degree</td><td>Austin, TX     </td><td>36</td><td>2751979003</td><td>NA</td><td>NA</td><td></td><td>Site Reliability Engineer                  </td></tr>\n",
              "</tbody>\n",
              "</table>\n"
            ],
            "text/markdown": "\nA data.frame: 2 × 15\n\n| <!--/--> | Employment.type &lt;chr&gt; | Industries &lt;chr&gt; | Job.function &lt;chr&gt; | Seniority.level &lt;chr&gt; | company &lt;chr&gt; | company_id &lt;dbl&gt; | date &lt;chr&gt; | education &lt;chr&gt; | location &lt;chr&gt; | months_experience &lt;dbl&gt; | post_id &lt;dbl&gt; | sal_high &lt;dbl&gt; | sal_low &lt;dbl&gt; | salary &lt;chr&gt; | title &lt;chr&gt; |\n|---|---|---|---|---|---|---|---|---|---|---|---|---|---|---|---|\n| 8260 | <!----> | <!----> | <!----> | <!----> | Flowspace |   NA | 2021-10-17 23:51:08.758745 | <!----> | Los Angeles, CA | NA | 2754349591 | NA | NA | <!----> | Site Reliability / DevOps Engineer (Remote) |\n| 8261 | Full-time | Marketing and Advertising, Information Technology and Services, and Computer Software | Engineering and Information Technology | Mid-Senior level | Adobe     | 1480 | 2021-10-17 23:51:11.907258 | bachelor degree | Austin, TX      | 36 | 2751979003 | NA | NA | <!----> | Site Reliability Engineer                   |\n\n",
            "text/latex": "A data.frame: 2 × 15\n\\begin{tabular}{r|lllllllllllllll}\n  & Employment.type & Industries & Job.function & Seniority.level & company & company\\_id & date & education & location & months\\_experience & post\\_id & sal\\_high & sal\\_low & salary & title\\\\\n  & <chr> & <chr> & <chr> & <chr> & <chr> & <dbl> & <chr> & <chr> & <chr> & <dbl> & <dbl> & <dbl> & <dbl> & <chr> & <chr>\\\\\n\\hline\n\t8260 &           &                                                                                       &                                        &                  & Flowspace &   NA & 2021-10-17 23:51:08.758745 &                 & Los Angeles, CA & NA & 2754349591 & NA & NA &  & Site Reliability / DevOps Engineer (Remote)\\\\\n\t8261 & Full-time & Marketing and Advertising, Information Technology and Services, and Computer Software & Engineering and Information Technology & Mid-Senior level & Adobe     & 1480 & 2021-10-17 23:51:11.907258 & bachelor degree & Austin, TX      & 36 & 2751979003 & NA & NA &  & Site Reliability Engineer                  \\\\\n\\end{tabular}\n",
            "text/plain": [
              "     Employment.type\n",
              "8260                \n",
              "8261 Full-time      \n",
              "     Industries                                                                           \n",
              "8260                                                                                      \n",
              "8261 Marketing and Advertising, Information Technology and Services, and Computer Software\n",
              "     Job.function                           Seniority.level  company  \n",
              "8260                                                         Flowspace\n",
              "8261 Engineering and Information Technology Mid-Senior level Adobe    \n",
              "     company_id date                       education       location       \n",
              "8260   NA       2021-10-17 23:51:08.758745                 Los Angeles, CA\n",
              "8261 1480       2021-10-17 23:51:11.907258 bachelor degree Austin, TX     \n",
              "     months_experience post_id    sal_high sal_low salary\n",
              "8260 NA                2754349591 NA       NA            \n",
              "8261 36                2751979003 NA       NA            \n",
              "     title                                      \n",
              "8260 Site Reliability / DevOps Engineer (Remote)\n",
              "8261 Site Reliability Engineer                  "
            ]
          },
          "metadata": {}
        }
      ]
    },
    {
      "cell_type": "code",
      "source": [
        "url <- \"https://raw.githubusercontent.com/Mlawrence95/LinkedIn-Tech-Job-Data/refs/heads/main/jobs.csv\"\n",
        "\n",
        "#Put code here to read in the csv given by the link url into a variable job_data\n",
        "#But specify it to read blank strings, strings with one space, and strings with two spaces (\"\",\" \", and \"  \") as NA\n",
        "job_data <- read.csv(url,na.strings=c(\"\",\" \",\"  \"))\n",
        "\n",
        "#Put code here to remove the rows of job_data with NA values in it and reassign job_data to this new NA-less frame\n",
        "job_data <- na.omit(job_data)\n",
        "\n",
        "#Put code here to add a new column called \"sal_range\" to job_data defined as the \"sal_high\" minus the \"sal_low\" column\n",
        "job_data <- transform(job_data,\"sal_range\"=sal_high-sal_low)\n",
        "\n",
        "#Put code here to save a vector of the names of the companies who have salary ranges less than the mean salary range and \"Full-time\" as their Employment type\n",
        "#Hint 1: To get the company names, use the function unique() so you aren't printing duplicate company names\n",
        "#Hint 2: Consider taking a little peak into the functions in the next section to calculate the mean salary range\n",
        "mean_sr <- mean(job_data$sal_range)\n",
        "company_vector <- subset(job_data,job_data$Employment.type==\"Full-time\" & job_data$sal_range < mean_sr)$company\n",
        "unique_companies <- unique(company_vector)\n",
        "\n",
        "#Put code here to output the unique names of the companies who are in the data frame but ARE NOT in the vector of company names made before\n",
        "#Hint: Consider using the operator %in% which returns a logical vector of if the left-hand side values are in the right-hand side argument\n",
        "all_companies_excluded <- unique(job_data$company[!(job_data$company %in% unique_companies)])\n",
        "all_companies_excluded"
      ],
      "metadata": {
        "colab": {
          "base_uri": "https://localhost:8080/",
          "height": 364
        },
        "id": "g1UxfVh6x8R3",
        "outputId": "666429a6-472e-4eb9-810f-db05cd584a27"
      },
      "execution_count": null,
      "outputs": [
        {
          "output_type": "display_data",
          "data": {
            "text/html": [
              "<style>\n",
              ".list-inline {list-style: none; margin:0; padding: 0}\n",
              ".list-inline>li {display: inline-block}\n",
              ".list-inline>li:not(:last-child)::after {content: \"\\00b7\"; padding: 0 .5ex}\n",
              "</style>\n",
              "<ol class=list-inline><li>'Suzy'</li><li>'Illumina'</li><li>'Nordstrom'</li><li>'Hewlett Packard Enterprise'</li><li>'Jobot'</li><li>'FocusKPI, Inc.'</li><li>'Yoh, A Day &amp; Zimmermann Company'</li><li>'Doma (fka States Title)'</li><li>'Abbott'</li><li>'Optello'</li><li>'Turnitin'</li><li>'NinjaHoldings'</li><li>'BetterHelp.com'</li><li>'Unsupervised'</li><li>'test.ai'</li><li>'Walrus Health'</li><li>'Springshot'</li><li>'Bubble'</li><li>'Glossier, Inc.'</li><li>'Meetup'</li><li>'Expedia Group'</li><li>'TechFlow, Inc.'</li><li>'Cockroach Labs'</li><li>'Lightelligence'</li><li>'Applied Systems'</li><li>'David\\'s Bridal'</li><li>'ClearanceJobs'</li><li>'YouGov'</li><li>'Sony Pictures Entertainment'</li><li>'Choreograph'</li><li>'BLACKBIRD.AI'</li><li>'Expeditors'</li><li>'Addison Group'</li><li>'Derex Technologies Inc'</li><li>'Amwell'</li><li>'310 Nutrition'</li><li>'Bose Corporation'</li><li>'WEX'</li><li>'TripActions'</li><li>'IQVIA'</li><li>'BAE Systems'</li><li>'Xandr'</li><li>'Calypso Technology'</li><li>'Square'</li><li>'SmileDirectClub'</li><li>'GLG'</li><li>'Embark Trucks'</li><li>'Daily Harvest'</li><li>'The Walt Disney Company'</li><li>'PGA of America'</li><li>'LockerDome'</li><li>'California Dental Association'</li><li>'Lightmatter'</li><li>'Reddit, Inc.'</li><li>'Specific Diagnostics'</li><li>'Alion Science and Technology'</li><li>'Intel Corporation'</li><li>'Toyota Research Institute'</li><li>'OpenAI'</li><li>'Visual Concepts'</li><li>'The RealReal'</li><li>'WeWork'</li><li>'Hiretual'</li><li>'MAPSYS Inc.'</li><li>'Octane'</li><li>'Alert Logic'</li><li>'Ring'</li><li>'Delta Air Lines'</li><li>'Covera Health'</li><li>'Quip'</li><li>'Payscale'</li><li>'symplr'</li><li>'Brivo'</li><li>'StockX'</li><li>'Flashpoint'</li><li>'[24]7.ai'</li><li>'Udemy'</li><li>'Cloudflare'</li><li>'Figma'</li><li>'Warner Bros. Entertainment'</li><li>'Brillio'</li><li>'Tiger Analytics'</li><li>'The Clorox Company'</li><li>'Akamai Technologies'</li><li>'HOMER'</li><li>'EnergyHub'</li><li>'Well Health Inc.'</li><li>'S&amp;P Global Market Intelligence'</li><li>'Airlines Reporting Corporation (ARC)'</li><li>'Altice USA'</li><li>'Thales'</li><li>'Aurora'</li><li>'Quantitative Systems'</li><li>'BlackRock'</li><li>'Roblox'</li><li>'Zywave'</li><li>'Zscaler'</li><li>'Teladoc Health'</li><li>'SpaceX'</li><li>'Charles Schwab'</li><li>'ECP'</li><li>'Fifth Season'</li><li>'Finicity, a Mastercard Company'</li><li>'RealSelf'</li><li>'The Climate Corporation'</li><li>'Honey'</li><li>'Lyft'</li><li>'ByteDance'</li><li>'VanderHouwen'</li><li>'Patreon'</li><li>'Intermountain Healthcare'</li><li>'Cohesity'</li><li>'GoFundMe'</li><li>'Zoom'</li><li>'Snap Inc.'</li><li>'Saks Fifth Avenue'</li><li>'Snapdocs'</li><li>'Fivestars'</li><li>'Ripple'</li><li>'Verily Life Sciences'</li><li>'GameStop'</li><li>'Quorum'</li><li>'Datadog'</li><li>'Cedar'</li><li>'Zemantics Inc.'</li><li>'Seneca Resources'</li><li>'Bank of America'</li><li>'Sonos, Inc.'</li><li>'Applicantz'</li><li>'Bolt'</li><li>'Strategic Staffing Solutions'</li><li>'Toptal'</li><li>'Equifax'</li><li>'Applied Resource Group'</li><li>'PepsiCo'</li><li>'Citadel'</li><li>'Zendesk'</li><li>'Prosper Marketplace'</li><li>'Allied OneSource'</li><li>'Evolytics'</li><li>'Electric'</li><li>'BridgeView'</li><li>'Hyundai Mobis North America'</li><li>'Liberty Lending, LLC'</li><li>'Blue River Technology'</li><li>'Dow'</li><li>'Sayva Solutions'</li><li>'GitHub'</li><li>'Amerit Consulting'</li><li>'Centurion Consulting Group, LLC'</li><li>'Allied World'</li><li>'Instrumental Inc.'</li><li>'Hulu'</li><li>'XSELL Technologies'</li><li>'iptiQ by Swiss Re'</li><li>'Plume Design, Inc'</li><li>'Revolution Technologies'</li><li>'Favor Delivery'</li><li>'F5'</li><li>'NASA Jet Propulsion Laboratory'</li><li>'Fortinet'</li><li>'DIRECTV'</li><li>'ACL Digital'</li><li>'Macro Solutions'</li><li>'AssemblyAI'</li><li>'Wing'</li><li>'Citi'</li><li>'FreshDirect'</li><li>'Kraken Digital Asset Exchange'</li><li>'Clover Network, Inc.'</li><li>'Interactive Resources - iR'</li><li>'Nuance Communications'</li></ol>\n"
            ],
            "text/markdown": "1. 'Suzy'\n2. 'Illumina'\n3. 'Nordstrom'\n4. 'Hewlett Packard Enterprise'\n5. 'Jobot'\n6. 'FocusKPI, Inc.'\n7. 'Yoh, A Day &amp; Zimmermann Company'\n8. 'Doma (fka States Title)'\n9. 'Abbott'\n10. 'Optello'\n11. 'Turnitin'\n12. 'NinjaHoldings'\n13. 'BetterHelp.com'\n14. 'Unsupervised'\n15. 'test.ai'\n16. 'Walrus Health'\n17. 'Springshot'\n18. 'Bubble'\n19. 'Glossier, Inc.'\n20. 'Meetup'\n21. 'Expedia Group'\n22. 'TechFlow, Inc.'\n23. 'Cockroach Labs'\n24. 'Lightelligence'\n25. 'Applied Systems'\n26. 'David\\'s Bridal'\n27. 'ClearanceJobs'\n28. 'YouGov'\n29. 'Sony Pictures Entertainment'\n30. 'Choreograph'\n31. 'BLACKBIRD.AI'\n32. 'Expeditors'\n33. 'Addison Group'\n34. 'Derex Technologies Inc'\n35. 'Amwell'\n36. '310 Nutrition'\n37. 'Bose Corporation'\n38. 'WEX'\n39. 'TripActions'\n40. 'IQVIA'\n41. 'BAE Systems'\n42. 'Xandr'\n43. 'Calypso Technology'\n44. 'Square'\n45. 'SmileDirectClub'\n46. 'GLG'\n47. 'Embark Trucks'\n48. 'Daily Harvest'\n49. 'The Walt Disney Company'\n50. 'PGA of America'\n51. 'LockerDome'\n52. 'California Dental Association'\n53. 'Lightmatter'\n54. 'Reddit, Inc.'\n55. 'Specific Diagnostics'\n56. 'Alion Science and Technology'\n57. 'Intel Corporation'\n58. 'Toyota Research Institute'\n59. 'OpenAI'\n60. 'Visual Concepts'\n61. 'The RealReal'\n62. 'WeWork'\n63. 'Hiretual'\n64. 'MAPSYS Inc.'\n65. 'Octane'\n66. 'Alert Logic'\n67. 'Ring'\n68. 'Delta Air Lines'\n69. 'Covera Health'\n70. 'Quip'\n71. 'Payscale'\n72. 'symplr'\n73. 'Brivo'\n74. 'StockX'\n75. 'Flashpoint'\n76. '[24]7.ai'\n77. 'Udemy'\n78. 'Cloudflare'\n79. 'Figma'\n80. 'Warner Bros. Entertainment'\n81. 'Brillio'\n82. 'Tiger Analytics'\n83. 'The Clorox Company'\n84. 'Akamai Technologies'\n85. 'HOMER'\n86. 'EnergyHub'\n87. 'Well Health Inc.'\n88. 'S&amp;P Global Market Intelligence'\n89. 'Airlines Reporting Corporation (ARC)'\n90. 'Altice USA'\n91. 'Thales'\n92. 'Aurora'\n93. 'Quantitative Systems'\n94. 'BlackRock'\n95. 'Roblox'\n96. 'Zywave'\n97. 'Zscaler'\n98. 'Teladoc Health'\n99. 'SpaceX'\n100. 'Charles Schwab'\n101. 'ECP'\n102. 'Fifth Season'\n103. 'Finicity, a Mastercard Company'\n104. 'RealSelf'\n105. 'The Climate Corporation'\n106. 'Honey'\n107. 'Lyft'\n108. 'ByteDance'\n109. 'VanderHouwen'\n110. 'Patreon'\n111. 'Intermountain Healthcare'\n112. 'Cohesity'\n113. 'GoFundMe'\n114. 'Zoom'\n115. 'Snap Inc.'\n116. 'Saks Fifth Avenue'\n117. 'Snapdocs'\n118. 'Fivestars'\n119. 'Ripple'\n120. 'Verily Life Sciences'\n121. 'GameStop'\n122. 'Quorum'\n123. 'Datadog'\n124. 'Cedar'\n125. 'Zemantics Inc.'\n126. 'Seneca Resources'\n127. 'Bank of America'\n128. 'Sonos, Inc.'\n129. 'Applicantz'\n130. 'Bolt'\n131. 'Strategic Staffing Solutions'\n132. 'Toptal'\n133. 'Equifax'\n134. 'Applied Resource Group'\n135. 'PepsiCo'\n136. 'Citadel'\n137. 'Zendesk'\n138. 'Prosper Marketplace'\n139. 'Allied OneSource'\n140. 'Evolytics'\n141. 'Electric'\n142. 'BridgeView'\n143. 'Hyundai Mobis North America'\n144. 'Liberty Lending, LLC'\n145. 'Blue River Technology'\n146. 'Dow'\n147. 'Sayva Solutions'\n148. 'GitHub'\n149. 'Amerit Consulting'\n150. 'Centurion Consulting Group, LLC'\n151. 'Allied World'\n152. 'Instrumental Inc.'\n153. 'Hulu'\n154. 'XSELL Technologies'\n155. 'iptiQ by Swiss Re'\n156. 'Plume Design, Inc'\n157. 'Revolution Technologies'\n158. 'Favor Delivery'\n159. 'F5'\n160. 'NASA Jet Propulsion Laboratory'\n161. 'Fortinet'\n162. 'DIRECTV'\n163. 'ACL Digital'\n164. 'Macro Solutions'\n165. 'AssemblyAI'\n166. 'Wing'\n167. 'Citi'\n168. 'FreshDirect'\n169. 'Kraken Digital Asset Exchange'\n170. 'Clover Network, Inc.'\n171. 'Interactive Resources - iR'\n172. 'Nuance Communications'\n\n\n",
            "text/latex": "\\begin{enumerate*}\n\\item 'Suzy'\n\\item 'Illumina'\n\\item 'Nordstrom'\n\\item 'Hewlett Packard Enterprise'\n\\item 'Jobot'\n\\item 'FocusKPI, Inc.'\n\\item 'Yoh, A Day \\& Zimmermann Company'\n\\item 'Doma (fka States Title)'\n\\item 'Abbott'\n\\item 'Optello'\n\\item 'Turnitin'\n\\item 'NinjaHoldings'\n\\item 'BetterHelp.com'\n\\item 'Unsupervised'\n\\item 'test.ai'\n\\item 'Walrus Health'\n\\item 'Springshot'\n\\item 'Bubble'\n\\item 'Glossier, Inc.'\n\\item 'Meetup'\n\\item 'Expedia Group'\n\\item 'TechFlow, Inc.'\n\\item 'Cockroach Labs'\n\\item 'Lightelligence'\n\\item 'Applied Systems'\n\\item 'David\\textbackslash{}'s Bridal'\n\\item 'ClearanceJobs'\n\\item 'YouGov'\n\\item 'Sony Pictures Entertainment'\n\\item 'Choreograph'\n\\item 'BLACKBIRD.AI'\n\\item 'Expeditors'\n\\item 'Addison Group'\n\\item 'Derex Technologies Inc'\n\\item 'Amwell'\n\\item '310 Nutrition'\n\\item 'Bose Corporation'\n\\item 'WEX'\n\\item 'TripActions'\n\\item 'IQVIA'\n\\item 'BAE Systems'\n\\item 'Xandr'\n\\item 'Calypso Technology'\n\\item 'Square'\n\\item 'SmileDirectClub'\n\\item 'GLG'\n\\item 'Embark Trucks'\n\\item 'Daily Harvest'\n\\item 'The Walt Disney Company'\n\\item 'PGA of America'\n\\item 'LockerDome'\n\\item 'California Dental Association'\n\\item 'Lightmatter'\n\\item 'Reddit, Inc.'\n\\item 'Specific Diagnostics'\n\\item 'Alion Science and Technology'\n\\item 'Intel Corporation'\n\\item 'Toyota Research Institute'\n\\item 'OpenAI'\n\\item 'Visual Concepts'\n\\item 'The RealReal'\n\\item 'WeWork'\n\\item 'Hiretual'\n\\item 'MAPSYS Inc.'\n\\item 'Octane'\n\\item 'Alert Logic'\n\\item 'Ring'\n\\item 'Delta Air Lines'\n\\item 'Covera Health'\n\\item 'Quip'\n\\item 'Payscale'\n\\item 'symplr'\n\\item 'Brivo'\n\\item 'StockX'\n\\item 'Flashpoint'\n\\item '{[}24{]}7.ai'\n\\item 'Udemy'\n\\item 'Cloudflare'\n\\item 'Figma'\n\\item 'Warner Bros. Entertainment'\n\\item 'Brillio'\n\\item 'Tiger Analytics'\n\\item 'The Clorox Company'\n\\item 'Akamai Technologies'\n\\item 'HOMER'\n\\item 'EnergyHub'\n\\item 'Well Health Inc.'\n\\item 'S\\&P Global Market Intelligence'\n\\item 'Airlines Reporting Corporation (ARC)'\n\\item 'Altice USA'\n\\item 'Thales'\n\\item 'Aurora'\n\\item 'Quantitative Systems'\n\\item 'BlackRock'\n\\item 'Roblox'\n\\item 'Zywave'\n\\item 'Zscaler'\n\\item 'Teladoc Health'\n\\item 'SpaceX'\n\\item 'Charles Schwab'\n\\item 'ECP'\n\\item 'Fifth Season'\n\\item 'Finicity, a Mastercard Company'\n\\item 'RealSelf'\n\\item 'The Climate Corporation'\n\\item 'Honey'\n\\item 'Lyft'\n\\item 'ByteDance'\n\\item 'VanderHouwen'\n\\item 'Patreon'\n\\item 'Intermountain Healthcare'\n\\item 'Cohesity'\n\\item 'GoFundMe'\n\\item 'Zoom'\n\\item 'Snap Inc.'\n\\item 'Saks Fifth Avenue'\n\\item 'Snapdocs'\n\\item 'Fivestars'\n\\item 'Ripple'\n\\item 'Verily Life Sciences'\n\\item 'GameStop'\n\\item 'Quorum'\n\\item 'Datadog'\n\\item 'Cedar'\n\\item 'Zemantics Inc.'\n\\item 'Seneca Resources'\n\\item 'Bank of America'\n\\item 'Sonos, Inc.'\n\\item 'Applicantz'\n\\item 'Bolt'\n\\item 'Strategic Staffing Solutions'\n\\item 'Toptal'\n\\item 'Equifax'\n\\item 'Applied Resource Group'\n\\item 'PepsiCo'\n\\item 'Citadel'\n\\item 'Zendesk'\n\\item 'Prosper Marketplace'\n\\item 'Allied OneSource'\n\\item 'Evolytics'\n\\item 'Electric'\n\\item 'BridgeView'\n\\item 'Hyundai Mobis North America'\n\\item 'Liberty Lending, LLC'\n\\item 'Blue River Technology'\n\\item 'Dow'\n\\item 'Sayva Solutions'\n\\item 'GitHub'\n\\item 'Amerit Consulting'\n\\item 'Centurion Consulting Group, LLC'\n\\item 'Allied World'\n\\item 'Instrumental Inc.'\n\\item 'Hulu'\n\\item 'XSELL Technologies'\n\\item 'iptiQ by Swiss Re'\n\\item 'Plume Design, Inc'\n\\item 'Revolution Technologies'\n\\item 'Favor Delivery'\n\\item 'F5'\n\\item 'NASA Jet Propulsion Laboratory'\n\\item 'Fortinet'\n\\item 'DIRECTV'\n\\item 'ACL Digital'\n\\item 'Macro Solutions'\n\\item 'AssemblyAI'\n\\item 'Wing'\n\\item 'Citi'\n\\item 'FreshDirect'\n\\item 'Kraken Digital Asset Exchange'\n\\item 'Clover Network, Inc.'\n\\item 'Interactive Resources - iR'\n\\item 'Nuance Communications'\n\\end{enumerate*}\n",
            "text/plain": [
              "  [1] \"Suzy\"                                \n",
              "  [2] \"Illumina\"                            \n",
              "  [3] \"Nordstrom\"                           \n",
              "  [4] \"Hewlett Packard Enterprise\"          \n",
              "  [5] \"Jobot\"                               \n",
              "  [6] \"FocusKPI, Inc.\"                      \n",
              "  [7] \"Yoh, A Day & Zimmermann Company\"     \n",
              "  [8] \"Doma (fka States Title)\"             \n",
              "  [9] \"Abbott\"                              \n",
              " [10] \"Optello\"                             \n",
              " [11] \"Turnitin\"                            \n",
              " [12] \"NinjaHoldings\"                       \n",
              " [13] \"BetterHelp.com\"                      \n",
              " [14] \"Unsupervised\"                        \n",
              " [15] \"test.ai\"                             \n",
              " [16] \"Walrus Health\"                       \n",
              " [17] \"Springshot\"                          \n",
              " [18] \"Bubble\"                              \n",
              " [19] \"Glossier, Inc.\"                      \n",
              " [20] \"Meetup\"                              \n",
              " [21] \"Expedia Group\"                       \n",
              " [22] \"TechFlow, Inc.\"                      \n",
              " [23] \"Cockroach Labs\"                      \n",
              " [24] \"Lightelligence\"                      \n",
              " [25] \"Applied Systems\"                     \n",
              " [26] \"David's Bridal\"                      \n",
              " [27] \"ClearanceJobs\"                       \n",
              " [28] \"YouGov\"                              \n",
              " [29] \"Sony Pictures Entertainment\"         \n",
              " [30] \"Choreograph\"                         \n",
              " [31] \"BLACKBIRD.AI\"                        \n",
              " [32] \"Expeditors\"                          \n",
              " [33] \"Addison Group\"                       \n",
              " [34] \"Derex Technologies Inc\"              \n",
              " [35] \"Amwell\"                              \n",
              " [36] \"310 Nutrition\"                       \n",
              " [37] \"Bose Corporation\"                    \n",
              " [38] \"WEX\"                                 \n",
              " [39] \"TripActions\"                         \n",
              " [40] \"IQVIA\"                               \n",
              " [41] \"BAE Systems\"                         \n",
              " [42] \"Xandr\"                               \n",
              " [43] \"Calypso Technology\"                  \n",
              " [44] \"Square\"                              \n",
              " [45] \"SmileDirectClub\"                     \n",
              " [46] \"GLG\"                                 \n",
              " [47] \"Embark Trucks\"                       \n",
              " [48] \"Daily Harvest\"                       \n",
              " [49] \"The Walt Disney Company\"             \n",
              " [50] \"PGA of America\"                      \n",
              " [51] \"LockerDome\"                          \n",
              " [52] \"California Dental Association\"       \n",
              " [53] \"Lightmatter\"                         \n",
              " [54] \"Reddit, Inc.\"                        \n",
              " [55] \"Specific Diagnostics\"                \n",
              " [56] \"Alion Science and Technology\"        \n",
              " [57] \"Intel Corporation\"                   \n",
              " [58] \"Toyota Research Institute\"           \n",
              " [59] \"OpenAI\"                              \n",
              " [60] \"Visual Concepts\"                     \n",
              " [61] \"The RealReal\"                        \n",
              " [62] \"WeWork\"                              \n",
              " [63] \"Hiretual\"                            \n",
              " [64] \"MAPSYS Inc.\"                         \n",
              " [65] \"Octane\"                              \n",
              " [66] \"Alert Logic\"                         \n",
              " [67] \"Ring\"                                \n",
              " [68] \"Delta Air Lines\"                     \n",
              " [69] \"Covera Health\"                       \n",
              " [70] \"Quip\"                                \n",
              " [71] \"Payscale\"                            \n",
              " [72] \"symplr\"                              \n",
              " [73] \"Brivo\"                               \n",
              " [74] \"StockX\"                              \n",
              " [75] \"Flashpoint\"                          \n",
              " [76] \"[24]7.ai\"                            \n",
              " [77] \"Udemy\"                               \n",
              " [78] \"Cloudflare\"                          \n",
              " [79] \"Figma\"                               \n",
              " [80] \"Warner Bros. Entertainment\"          \n",
              " [81] \"Brillio\"                             \n",
              " [82] \"Tiger Analytics\"                     \n",
              " [83] \"The Clorox Company\"                  \n",
              " [84] \"Akamai Technologies\"                 \n",
              " [85] \"HOMER\"                               \n",
              " [86] \"EnergyHub\"                           \n",
              " [87] \"Well Health Inc.\"                    \n",
              " [88] \"S&P Global Market Intelligence\"      \n",
              " [89] \"Airlines Reporting Corporation (ARC)\"\n",
              " [90] \"Altice USA\"                          \n",
              " [91] \"Thales\"                              \n",
              " [92] \"Aurora\"                              \n",
              " [93] \"Quantitative Systems\"                \n",
              " [94] \"BlackRock\"                           \n",
              " [95] \"Roblox\"                              \n",
              " [96] \"Zywave\"                              \n",
              " [97] \"Zscaler\"                             \n",
              " [98] \"Teladoc Health\"                      \n",
              " [99] \"SpaceX\"                              \n",
              "[100] \"Charles Schwab\"                      \n",
              "[101] \"ECP\"                                 \n",
              "[102] \"Fifth Season\"                        \n",
              "[103] \"Finicity, a Mastercard Company\"      \n",
              "[104] \"RealSelf\"                            \n",
              "[105] \"The Climate Corporation\"             \n",
              "[106] \"Honey\"                               \n",
              "[107] \"Lyft\"                                \n",
              "[108] \"ByteDance\"                           \n",
              "[109] \"VanderHouwen\"                        \n",
              "[110] \"Patreon\"                             \n",
              "[111] \"Intermountain Healthcare\"            \n",
              "[112] \"Cohesity\"                            \n",
              "[113] \"GoFundMe\"                            \n",
              "[114] \"Zoom\"                                \n",
              "[115] \"Snap Inc.\"                           \n",
              "[116] \"Saks Fifth Avenue\"                   \n",
              "[117] \"Snapdocs\"                            \n",
              "[118] \"Fivestars\"                           \n",
              "[119] \"Ripple\"                              \n",
              "[120] \"Verily Life Sciences\"                \n",
              "[121] \"GameStop\"                            \n",
              "[122] \"Quorum\"                              \n",
              "[123] \"Datadog\"                             \n",
              "[124] \"Cedar\"                               \n",
              "[125] \"Zemantics Inc.\"                      \n",
              "[126] \"Seneca Resources\"                    \n",
              "[127] \"Bank of America\"                     \n",
              "[128] \"Sonos, Inc.\"                         \n",
              "[129] \"Applicantz\"                          \n",
              "[130] \"Bolt\"                                \n",
              "[131] \"Strategic Staffing Solutions\"        \n",
              "[132] \"Toptal\"                              \n",
              "[133] \"Equifax\"                             \n",
              "[134] \"Applied Resource Group\"              \n",
              "[135] \"PepsiCo\"                             \n",
              "[136] \"Citadel\"                             \n",
              "[137] \"Zendesk\"                             \n",
              "[138] \"Prosper Marketplace\"                 \n",
              "[139] \"Allied OneSource\"                    \n",
              "[140] \"Evolytics\"                           \n",
              "[141] \"Electric\"                            \n",
              "[142] \"BridgeView\"                          \n",
              "[143] \"Hyundai Mobis North America\"         \n",
              "[144] \"Liberty Lending, LLC\"                \n",
              "[145] \"Blue River Technology\"               \n",
              "[146] \"Dow\"                                 \n",
              "[147] \"Sayva Solutions\"                     \n",
              "[148] \"GitHub\"                              \n",
              "[149] \"Amerit Consulting\"                   \n",
              "[150] \"Centurion Consulting Group, LLC\"     \n",
              "[151] \"Allied World\"                        \n",
              "[152] \"Instrumental Inc.\"                   \n",
              "[153] \"Hulu\"                                \n",
              "[154] \"XSELL Technologies\"                  \n",
              "[155] \"iptiQ by Swiss Re\"                   \n",
              "[156] \"Plume Design, Inc\"                   \n",
              "[157] \"Revolution Technologies\"             \n",
              "[158] \"Favor Delivery\"                      \n",
              "[159] \"F5\"                                  \n",
              "[160] \"NASA Jet Propulsion Laboratory\"      \n",
              "[161] \"Fortinet\"                            \n",
              "[162] \"DIRECTV\"                             \n",
              "[163] \"ACL Digital\"                         \n",
              "[164] \"Macro Solutions\"                     \n",
              "[165] \"AssemblyAI\"                          \n",
              "[166] \"Wing\"                                \n",
              "[167] \"Citi\"                                \n",
              "[168] \"FreshDirect\"                         \n",
              "[169] \"Kraken Digital Asset Exchange\"       \n",
              "[170] \"Clover Network, Inc.\"                \n",
              "[171] \"Interactive Resources - iR\"          \n",
              "[172] \"Nuance Communications\"               "
            ]
          },
          "metadata": {}
        }
      ]
    },
    {
      "cell_type": "code",
      "source": [
        "url <- \"https://raw.githubusercontent.com/Mlawrence95/LinkedIn-Tech-Job-Data/refs/heads/main/jobs.csv\"\n",
        "job_data <- read.csv(url)\n",
        "\n",
        "#Put code here to create a named list called comp_list that satisfy the following:\n",
        "#The values of the list should be a vector that aggregates the values for sal_low for each company job listing\n",
        "#The names of the list should be the unique company name that corresponds to each aggregated vector\n",
        "#Hint: Look at the documentation for split() to figure this one out!\n",
        "comp_list <- split(job_data$sal_low,job_data$company)\n",
        "\n",
        "#Put code here to calculate and save a vector called mean_comp_vector that calculates the mean of every vector in comp_list\n",
        "#Hint: Read the documentation of the function you should be using here to find out how to deal with all those NA data values\n",
        "mean_comp_vector <- sapply(comp_list,mean,na.rm=TRUE)\n",
        "\n",
        "#If you print the variable mean_comp_vector you just created, you should notice some values in the vector are NaN\n",
        "#This is because the sal_low for those companies was only NAs so mean() had nothing to calculate\n",
        "#To fix this, redefine every value of mean_comp_vector that is NaN to be zero\n",
        "#Hint: Consider using the function is.nan()\n",
        "mean_comp_vector[is.nan(mean_comp_vector)] <- 0\n",
        "\n",
        "#Finally, print the name of the company with the HIGHEST value in mean_comp_vector\n",
        "#This is the company with the highest average minimum salary in their listings\n",
        "#Hint: Look at the documentation for which.max() to do this\n",
        "names(mean_comp_vector)[which.max(mean_comp_vector)]"
      ],
      "metadata": {
        "colab": {
          "base_uri": "https://localhost:8080/",
          "height": 34
        },
        "id": "qpeqUdAPDaAX",
        "outputId": "bb334241-1f97-4866-acc8-1cc5cc4f99c8"
      },
      "execution_count": null,
      "outputs": [
        {
          "output_type": "display_data",
          "data": {
            "text/html": [
              "'AllTech Systems, Inc.'"
            ],
            "text/markdown": "'AllTech Systems, Inc.'",
            "text/latex": "'AllTech Systems, Inc.'",
            "text/plain": [
              "[1] \"AllTech Systems, Inc.\""
            ]
          },
          "metadata": {}
        }
      ]
    },
    {
      "cell_type": "markdown",
      "source": [
        "# Mathematical and Statistical Functions\n",
        "---"
      ],
      "metadata": {
        "id": "W7fXOQIry2ur"
      }
    },
    {
      "cell_type": "markdown",
      "source": [
        "So far the stuff we have gone over is pretty boring *I know*. But this is where R truly gets to shine. If there is a statistical function out there, R most certainly has it! It's just one documentation search away.\n",
        "\n",
        "NOTE: Many mathematical functions in R, including `mean()`, `sum()`, and `median()` among others, have the parameter `na.rm` which, when set to `TRUE`, will make the function ignore any `NA` data values passed in, like so:\n",
        "\n",
        "\n",
        "```\n",
        "mean(data_here, na.rm=TRUE)\n",
        "median(data_here, na.rm=TRUE)\n",
        "```\n",
        "\n",
        "\n",
        "The default value of the `na.rm` parameter for most functions that use it is `FALSE`. Setting it to `TRUE` is especially useful when working with incomplete data sets. Please look at the documentation for specifics on which functions have this parameter."
      ],
      "metadata": {
        "id": "mST7XNjOzQ8o"
      }
    },
    {
      "cell_type": "markdown",
      "source": [
        "## Basic Mathematical Functions"
      ],
      "metadata": {
        "id": "N8vLzsy_5WpL"
      }
    },
    {
      "cell_type": "markdown",
      "source": [
        "### Sum"
      ],
      "metadata": {
        "id": "wx_HD5Rx5ZNG"
      }
    },
    {
      "cell_type": "code",
      "source": [
        "#This function simply computes the sum of the values or iterables passed in (note it does not work on lists directly)\n",
        "sum(1,2,3)\n",
        "sum(1,c(2,3)) #does the same thing as previous\n",
        "\n",
        "\n",
        "#To have sum() work on a list, you must use unlist() to turn it into a vector\n",
        "lst <- list(1,2,3)\n",
        "sum(unlist(lst))\n",
        "\n",
        "#sum() also works on data frames\n",
        "new_frame <- data.frame(\"column_1\"=c(1:10),\"column_2\"=c(11:20),\"column_3\"=c(21:30))\n",
        "sum(new_frame) #will attempt to coerce every value in the data frame into a single vector and sum the entire data frame\n",
        "\n",
        "#If we just want to find the sum of the values by row or column we can use the following functions\n",
        "colSums(new_frame)\n",
        "rowSums(new_frame)\n",
        "\n",
        "#NOTE: To use any of these functions make sure the data passed in are ONLY numeric types or can be coerced to them"
      ],
      "metadata": {
        "colab": {
          "base_uri": "https://localhost:8080/",
          "height": 121
        },
        "id": "cVg_AKevEu-e",
        "outputId": "050cbda4-30ab-47cd-cdfd-a755ba44d782"
      },
      "execution_count": null,
      "outputs": [
        {
          "output_type": "display_data",
          "data": {
            "text/html": [
              "6"
            ],
            "text/markdown": "6",
            "text/latex": "6",
            "text/plain": [
              "[1] 6"
            ]
          },
          "metadata": {}
        },
        {
          "output_type": "display_data",
          "data": {
            "text/html": [
              "6"
            ],
            "text/markdown": "6",
            "text/latex": "6",
            "text/plain": [
              "[1] 6"
            ]
          },
          "metadata": {}
        },
        {
          "output_type": "display_data",
          "data": {
            "text/html": [
              "6"
            ],
            "text/markdown": "6",
            "text/latex": "6",
            "text/plain": [
              "[1] 6"
            ]
          },
          "metadata": {}
        },
        {
          "output_type": "display_data",
          "data": {
            "text/html": [
              "465"
            ],
            "text/markdown": "465",
            "text/latex": "465",
            "text/plain": [
              "[1] 465"
            ]
          },
          "metadata": {}
        },
        {
          "output_type": "display_data",
          "data": {
            "text/html": [
              "<style>\n",
              ".dl-inline {width: auto; margin:0; padding: 0}\n",
              ".dl-inline>dt, .dl-inline>dd {float: none; width: auto; display: inline-block}\n",
              ".dl-inline>dt::after {content: \":\\0020\"; padding-right: .5ex}\n",
              ".dl-inline>dt:not(:first-of-type) {padding-left: .5ex}\n",
              "</style><dl class=dl-inline><dt>column_1</dt><dd>55</dd><dt>column_2</dt><dd>155</dd><dt>column_3</dt><dd>255</dd></dl>\n"
            ],
            "text/markdown": "column_1\n:   55column_2\n:   155column_3\n:   255\n\n",
            "text/latex": "\\begin{description*}\n\\item[column\\textbackslash{}\\_1] 55\n\\item[column\\textbackslash{}\\_2] 155\n\\item[column\\textbackslash{}\\_3] 255\n\\end{description*}\n",
            "text/plain": [
              "column_1 column_2 column_3 \n",
              "      55      155      255 "
            ]
          },
          "metadata": {}
        },
        {
          "output_type": "display_data",
          "data": {
            "text/html": [
              "<style>\n",
              ".list-inline {list-style: none; margin:0; padding: 0}\n",
              ".list-inline>li {display: inline-block}\n",
              ".list-inline>li:not(:last-child)::after {content: \"\\00b7\"; padding: 0 .5ex}\n",
              "</style>\n",
              "<ol class=list-inline><li>33</li><li>36</li><li>39</li><li>42</li><li>45</li><li>48</li><li>51</li><li>54</li><li>57</li><li>60</li></ol>\n"
            ],
            "text/markdown": "1. 33\n2. 36\n3. 39\n4. 42\n5. 45\n6. 48\n7. 51\n8. 54\n9. 57\n10. 60\n\n\n",
            "text/latex": "\\begin{enumerate*}\n\\item 33\n\\item 36\n\\item 39\n\\item 42\n\\item 45\n\\item 48\n\\item 51\n\\item 54\n\\item 57\n\\item 60\n\\end{enumerate*}\n",
            "text/plain": [
              " [1] 33 36 39 42 45 48 51 54 57 60"
            ]
          },
          "metadata": {}
        }
      ]
    },
    {
      "cell_type": "markdown",
      "source": [
        "### Trigonometric Functions"
      ],
      "metadata": {
        "id": "HTrnE8Xh5bhs"
      }
    },
    {
      "cell_type": "code",
      "source": [
        "sin(pi) #you can see that it returns an approximation (ie. a number very very close to 0 but not exactly 0)\n",
        "cos(c(0,pi/2,pi,3*pi/2,2*pi)) #you can have it calculate for each value in a vector\n",
        "tan(0)\n",
        "\n",
        "#These are inverse trig functions\n",
        "acos(1/2)\n",
        "asin(0)\n",
        "atan(1)\n",
        "\n",
        "#These functions will simply calculate the argument times pi and evaluate it; they tend to produce a more exact value than multiplying by pi directly\n",
        "sinpi(1)\n",
        "cospi(2)\n",
        "tanpi(0.5) #this will produce a NaN because we are dividing by 0\n"
      ],
      "metadata": {
        "id": "sYu9CnfVkhqn",
        "colab": {
          "base_uri": "https://localhost:8080/",
          "height": 208
        },
        "outputId": "41cfd5ed-954f-417e-8618-679242e000c8"
      },
      "execution_count": null,
      "outputs": [
        {
          "output_type": "display_data",
          "data": {
            "text/html": [
              "1.22464679914735e-16"
            ],
            "text/markdown": "1.22464679914735e-16",
            "text/latex": "1.22464679914735e-16",
            "text/plain": [
              "[1] 1.224647e-16"
            ]
          },
          "metadata": {}
        },
        {
          "output_type": "display_data",
          "data": {
            "text/html": [
              "<style>\n",
              ".list-inline {list-style: none; margin:0; padding: 0}\n",
              ".list-inline>li {display: inline-block}\n",
              ".list-inline>li:not(:last-child)::after {content: \"\\00b7\"; padding: 0 .5ex}\n",
              "</style>\n",
              "<ol class=list-inline><li>1</li><li>6.12323399573677e-17</li><li>-1</li><li>-1.83697019872103e-16</li><li>1</li></ol>\n"
            ],
            "text/markdown": "1. 1\n2. 6.12323399573677e-17\n3. -1\n4. -1.83697019872103e-16\n5. 1\n\n\n",
            "text/latex": "\\begin{enumerate*}\n\\item 1\n\\item 6.12323399573677e-17\n\\item -1\n\\item -1.83697019872103e-16\n\\item 1\n\\end{enumerate*}\n",
            "text/plain": [
              "[1]  1.000000e+00  6.123234e-17 -1.000000e+00 -1.836970e-16  1.000000e+00"
            ]
          },
          "metadata": {}
        },
        {
          "output_type": "display_data",
          "data": {
            "text/html": [
              "0"
            ],
            "text/markdown": "0",
            "text/latex": "0",
            "text/plain": [
              "[1] 0"
            ]
          },
          "metadata": {}
        },
        {
          "output_type": "display_data",
          "data": {
            "text/html": [
              "1.0471975511966"
            ],
            "text/markdown": "1.0471975511966",
            "text/latex": "1.0471975511966",
            "text/plain": [
              "[1] 1.047198"
            ]
          },
          "metadata": {}
        },
        {
          "output_type": "display_data",
          "data": {
            "text/html": [
              "0"
            ],
            "text/markdown": "0",
            "text/latex": "0",
            "text/plain": [
              "[1] 0"
            ]
          },
          "metadata": {}
        },
        {
          "output_type": "display_data",
          "data": {
            "text/html": [
              "0.785398163397448"
            ],
            "text/markdown": "0.785398163397448",
            "text/latex": "0.785398163397448",
            "text/plain": [
              "[1] 0.7853982"
            ]
          },
          "metadata": {}
        },
        {
          "output_type": "display_data",
          "data": {
            "text/html": [
              "0"
            ],
            "text/markdown": "0",
            "text/latex": "0",
            "text/plain": [
              "[1] 0"
            ]
          },
          "metadata": {}
        },
        {
          "output_type": "display_data",
          "data": {
            "text/html": [
              "1"
            ],
            "text/markdown": "1",
            "text/latex": "1",
            "text/plain": [
              "[1] 1"
            ]
          },
          "metadata": {}
        },
        {
          "output_type": "stream",
          "name": "stderr",
          "text": [
            "Warning message in tanpi(0.5):\n",
            "“NaNs produced”\n"
          ]
        },
        {
          "output_type": "display_data",
          "data": {
            "text/html": [
              "NaN"
            ],
            "text/markdown": "NaN",
            "text/latex": "NaN",
            "text/plain": [
              "[1] NaN"
            ]
          },
          "metadata": {}
        }
      ]
    },
    {
      "cell_type": "markdown",
      "source": [
        "### Absolute Value"
      ],
      "metadata": {
        "id": "6vQMlBt35esJ"
      }
    },
    {
      "cell_type": "code",
      "source": [
        "abs(-10)\n",
        "abs(c(-2,-1,0,1,2))\n",
        "\n",
        "#It even works on matrices\n",
        "matrx <- matrix(c(-1,-2,-3.14,-5),2,2)\n",
        "abs(matrx)"
      ],
      "metadata": {
        "colab": {
          "base_uri": "https://localhost:8080/",
          "height": 167
        },
        "id": "DgeVaQeHPcMC",
        "outputId": "5513cbc7-6e6c-487a-d63e-8cee2b59dcd1"
      },
      "execution_count": null,
      "outputs": [
        {
          "output_type": "display_data",
          "data": {
            "text/html": [
              "10"
            ],
            "text/markdown": "10",
            "text/latex": "10",
            "text/plain": [
              "[1] 10"
            ]
          },
          "metadata": {}
        },
        {
          "output_type": "display_data",
          "data": {
            "text/html": [
              "<style>\n",
              ".list-inline {list-style: none; margin:0; padding: 0}\n",
              ".list-inline>li {display: inline-block}\n",
              ".list-inline>li:not(:last-child)::after {content: \"\\00b7\"; padding: 0 .5ex}\n",
              "</style>\n",
              "<ol class=list-inline><li>2</li><li>1</li><li>0</li><li>1</li><li>2</li></ol>\n"
            ],
            "text/markdown": "1. 2\n2. 1\n3. 0\n4. 1\n5. 2\n\n\n",
            "text/latex": "\\begin{enumerate*}\n\\item 2\n\\item 1\n\\item 0\n\\item 1\n\\item 2\n\\end{enumerate*}\n",
            "text/plain": [
              "[1] 2 1 0 1 2"
            ]
          },
          "metadata": {}
        },
        {
          "output_type": "display_data",
          "data": {
            "text/html": [
              "<table class=\"dataframe\">\n",
              "<caption>A matrix: 2 × 2 of type dbl</caption>\n",
              "<tbody>\n",
              "\t<tr><td>1</td><td>3.14</td></tr>\n",
              "\t<tr><td>2</td><td>5.00</td></tr>\n",
              "</tbody>\n",
              "</table>\n"
            ],
            "text/markdown": "\nA matrix: 2 × 2 of type dbl\n\n| 1 | 3.14 |\n| 2 | 5.00 |\n\n",
            "text/latex": "A matrix: 2 × 2 of type dbl\n\\begin{tabular}{ll}\n\t 1 & 3.14\\\\\n\t 2 & 5.00\\\\\n\\end{tabular}\n",
            "text/plain": [
              "     [,1] [,2]\n",
              "[1,] 1    3.14\n",
              "[2,] 2    5.00"
            ]
          },
          "metadata": {}
        }
      ]
    },
    {
      "cell_type": "markdown",
      "source": [
        "### Square Root, Logs, and Exponents"
      ],
      "metadata": {
        "id": "AJwlNxMI5ixW"
      }
    },
    {
      "cell_type": "code",
      "source": [
        "sqrt(2)\n",
        "sqrt(c(1,2,3))"
      ],
      "metadata": {
        "colab": {
          "base_uri": "https://localhost:8080/",
          "height": 52
        },
        "id": "8wP703NsS4us",
        "outputId": "1973da05-cdb3-4e09-d326-017ca217dca7"
      },
      "execution_count": null,
      "outputs": [
        {
          "output_type": "display_data",
          "data": {
            "text/html": [
              "1.4142135623731"
            ],
            "text/markdown": "1.4142135623731",
            "text/latex": "1.4142135623731",
            "text/plain": [
              "[1] 1.414214"
            ]
          },
          "metadata": {}
        },
        {
          "output_type": "display_data",
          "data": {
            "text/html": [
              "<style>\n",
              ".list-inline {list-style: none; margin:0; padding: 0}\n",
              ".list-inline>li {display: inline-block}\n",
              ".list-inline>li:not(:last-child)::after {content: \"\\00b7\"; padding: 0 .5ex}\n",
              "</style>\n",
              "<ol class=list-inline><li>1</li><li>1.4142135623731</li><li>1.73205080756888</li></ol>\n"
            ],
            "text/markdown": "1. 1\n2. 1.4142135623731\n3. 1.73205080756888\n\n\n",
            "text/latex": "\\begin{enumerate*}\n\\item 1\n\\item 1.4142135623731\n\\item 1.73205080756888\n\\end{enumerate*}\n",
            "text/plain": [
              "[1] 1.000000 1.414214 1.732051"
            ]
          },
          "metadata": {}
        }
      ]
    },
    {
      "cell_type": "code",
      "source": [
        "2^5\n",
        "3^4\n",
        "exp(3) #calculates e to the power of the argument passed in"
      ],
      "metadata": {
        "colab": {
          "base_uri": "https://localhost:8080/",
          "height": 69
        },
        "id": "17kwGVGUVaqH",
        "outputId": "cc893cc4-eb47-4033-aa0d-181820815e93"
      },
      "execution_count": null,
      "outputs": [
        {
          "output_type": "display_data",
          "data": {
            "text/html": [
              "32"
            ],
            "text/markdown": "32",
            "text/latex": "32",
            "text/plain": [
              "[1] 32"
            ]
          },
          "metadata": {}
        },
        {
          "output_type": "display_data",
          "data": {
            "text/html": [
              "81"
            ],
            "text/markdown": "81",
            "text/latex": "81",
            "text/plain": [
              "[1] 81"
            ]
          },
          "metadata": {}
        },
        {
          "output_type": "display_data",
          "data": {
            "text/html": [
              "20.0855369231877"
            ],
            "text/markdown": "20.0855369231877",
            "text/latex": "20.0855369231877",
            "text/plain": [
              "[1] 20.08554"
            ]
          },
          "metadata": {}
        }
      ]
    },
    {
      "cell_type": "code",
      "source": [
        "log(5) #by default, log is ln(x)\n",
        "log(9,base=3) #you can also specify a base too\n",
        "log10(100) #calculates log base 10\n",
        "log2(8) #calculates log base 2"
      ],
      "metadata": {
        "colab": {
          "base_uri": "https://localhost:8080/",
          "height": 86
        },
        "id": "xb-dSow8Vc7l",
        "outputId": "9b5efec4-91c2-4763-c0fe-23d3fb5a8ea2"
      },
      "execution_count": null,
      "outputs": [
        {
          "output_type": "display_data",
          "data": {
            "text/html": [
              "1.6094379124341"
            ],
            "text/markdown": "1.6094379124341",
            "text/latex": "1.6094379124341",
            "text/plain": [
              "[1] 1.609438"
            ]
          },
          "metadata": {}
        },
        {
          "output_type": "display_data",
          "data": {
            "text/html": [
              "2"
            ],
            "text/markdown": "2",
            "text/latex": "2",
            "text/plain": [
              "[1] 2"
            ]
          },
          "metadata": {}
        },
        {
          "output_type": "display_data",
          "data": {
            "text/html": [
              "2"
            ],
            "text/markdown": "2",
            "text/latex": "2",
            "text/plain": [
              "[1] 2"
            ]
          },
          "metadata": {}
        },
        {
          "output_type": "display_data",
          "data": {
            "text/html": [
              "3"
            ],
            "text/markdown": "3",
            "text/latex": "3",
            "text/plain": [
              "[1] 3"
            ]
          },
          "metadata": {}
        }
      ]
    },
    {
      "cell_type": "markdown",
      "source": [
        "### Rounding, Floor, and Ceiling"
      ],
      "metadata": {
        "id": "4rhOPtvt5oT4"
      }
    },
    {
      "cell_type": "code",
      "source": [
        "#The basic round() function will round to the specified number of decimal places, which is by default 0\n",
        "round(3.14)\n",
        "round(c(3.5,4.5)) #uses \"banker's rounding\" where values halfway between two possibilities are rounding to nearest EVEN number\n",
        "round(3.56435,digits=4) #specifying to round to 4 decimal places\n",
        "round(38912.4532,digits=-2) #negative digits will round to places left of the decimal point (so here it rounds to hundreds)"
      ],
      "metadata": {
        "colab": {
          "base_uri": "https://localhost:8080/",
          "height": 86
        },
        "id": "hGR9AwfvT-AJ",
        "outputId": "11be32c1-09c6-48c1-de7a-96cdd8d37eab"
      },
      "execution_count": null,
      "outputs": [
        {
          "output_type": "display_data",
          "data": {
            "text/html": [
              "3"
            ],
            "text/markdown": "3",
            "text/latex": "3",
            "text/plain": [
              "[1] 3"
            ]
          },
          "metadata": {}
        },
        {
          "output_type": "display_data",
          "data": {
            "text/html": [
              "<style>\n",
              ".list-inline {list-style: none; margin:0; padding: 0}\n",
              ".list-inline>li {display: inline-block}\n",
              ".list-inline>li:not(:last-child)::after {content: \"\\00b7\"; padding: 0 .5ex}\n",
              "</style>\n",
              "<ol class=list-inline><li>4</li><li>4</li></ol>\n"
            ],
            "text/markdown": "1. 4\n2. 4\n\n\n",
            "text/latex": "\\begin{enumerate*}\n\\item 4\n\\item 4\n\\end{enumerate*}\n",
            "text/plain": [
              "[1] 4 4"
            ]
          },
          "metadata": {}
        },
        {
          "output_type": "display_data",
          "data": {
            "text/html": [
              "3.5644"
            ],
            "text/markdown": "3.5644",
            "text/latex": "3.5644",
            "text/plain": [
              "[1] 3.5644"
            ]
          },
          "metadata": {}
        },
        {
          "output_type": "display_data",
          "data": {
            "text/html": [
              "38900"
            ],
            "text/markdown": "38900",
            "text/latex": "38900",
            "text/plain": [
              "[1] 38900"
            ]
          },
          "metadata": {}
        }
      ]
    },
    {
      "cell_type": "code",
      "source": [
        "#You can find the floor and ceiling like so\n",
        "floor(3.14)\n",
        "floor(-3.14)\n",
        "ceiling(3.14)\n",
        "ceiling(-3.14)"
      ],
      "metadata": {
        "colab": {
          "base_uri": "https://localhost:8080/",
          "height": 86
        },
        "id": "H4ObwUNxVUrY",
        "outputId": "bbac64f6-4578-4a37-d6d5-b4bde6f8080a"
      },
      "execution_count": null,
      "outputs": [
        {
          "output_type": "display_data",
          "data": {
            "text/html": [
              "3"
            ],
            "text/markdown": "3",
            "text/latex": "3",
            "text/plain": [
              "[1] 3"
            ]
          },
          "metadata": {}
        },
        {
          "output_type": "display_data",
          "data": {
            "text/html": [
              "-4"
            ],
            "text/markdown": "-4",
            "text/latex": "-4",
            "text/plain": [
              "[1] -4"
            ]
          },
          "metadata": {}
        },
        {
          "output_type": "display_data",
          "data": {
            "text/html": [
              "4"
            ],
            "text/markdown": "4",
            "text/latex": "4",
            "text/plain": [
              "[1] 4"
            ]
          },
          "metadata": {}
        },
        {
          "output_type": "display_data",
          "data": {
            "text/html": [
              "-3"
            ],
            "text/markdown": "-3",
            "text/latex": "-3",
            "text/plain": [
              "[1] -3"
            ]
          },
          "metadata": {}
        }
      ]
    },
    {
      "cell_type": "code",
      "source": [
        "#The function trunc() will just \"chop off\" the decimal places\n",
        "\n",
        "#It works similar to floor() for positive numbers\n",
        "trunc(3.7)\n",
        "floor(3.7)\n",
        "\n",
        "#But for negatives it is different\n",
        "trunc(-3.7)\n",
        "floor(-3.7)"
      ],
      "metadata": {
        "colab": {
          "base_uri": "https://localhost:8080/",
          "height": 86
        },
        "id": "nhtcLFgpVnVO",
        "outputId": "71aed6a7-3bb2-48d9-a3bf-2744be717d22"
      },
      "execution_count": null,
      "outputs": [
        {
          "output_type": "display_data",
          "data": {
            "text/html": [
              "3"
            ],
            "text/markdown": "3",
            "text/latex": "3",
            "text/plain": [
              "[1] 3"
            ]
          },
          "metadata": {}
        },
        {
          "output_type": "display_data",
          "data": {
            "text/html": [
              "3"
            ],
            "text/markdown": "3",
            "text/latex": "3",
            "text/plain": [
              "[1] 3"
            ]
          },
          "metadata": {}
        },
        {
          "output_type": "display_data",
          "data": {
            "text/html": [
              "-3"
            ],
            "text/markdown": "-3",
            "text/latex": "-3",
            "text/plain": [
              "[1] -3"
            ]
          },
          "metadata": {}
        },
        {
          "output_type": "display_data",
          "data": {
            "text/html": [
              "-4"
            ],
            "text/markdown": "-4",
            "text/latex": "-4",
            "text/plain": [
              "[1] -4"
            ]
          },
          "metadata": {}
        }
      ]
    },
    {
      "cell_type": "markdown",
      "source": [
        "## Basic Statistical Functions"
      ],
      "metadata": {
        "id": "QePAJifj5u9F"
      }
    },
    {
      "cell_type": "markdown",
      "source": [
        "### Measures of Center (Mean and Median)"
      ],
      "metadata": {
        "id": "xkDPlWVP6YUN"
      }
    },
    {
      "cell_type": "code",
      "source": [
        "mean(c(1,2,3,4,-1,-2,-3,-4))\n",
        "median(c(1,2,3,4,-1,-2,-3,-4,-5))\n",
        "median(c(1,2,3,4,-1,-2,-3,-4)) #will average the two \"middle\" values for datasets with an even number of elements\n",
        "\n",
        "#NOTE: There is actually no function to find the mode in R; the mode() function does something different than the statistical mode!\n",
        "#PS: Yes, I know this is dumb; I actually didn't know there was no mode function until I starting writing this workshop lol"
      ],
      "metadata": {
        "colab": {
          "base_uri": "https://localhost:8080/",
          "height": 69
        },
        "id": "fy4i7facWOI3",
        "outputId": "28b918b8-5eaa-4ea4-b5a3-e36dbd900c1b"
      },
      "execution_count": null,
      "outputs": [
        {
          "output_type": "display_data",
          "data": {
            "text/html": [
              "0"
            ],
            "text/markdown": "0",
            "text/latex": "0",
            "text/plain": [
              "[1] 0"
            ]
          },
          "metadata": {}
        },
        {
          "output_type": "display_data",
          "data": {
            "text/html": [
              "-1"
            ],
            "text/markdown": "-1",
            "text/latex": "-1",
            "text/plain": [
              "[1] -1"
            ]
          },
          "metadata": {}
        },
        {
          "output_type": "display_data",
          "data": {
            "text/html": [
              "0"
            ],
            "text/markdown": "0",
            "text/latex": "0",
            "text/plain": [
              "[1] 0"
            ]
          },
          "metadata": {}
        }
      ]
    },
    {
      "cell_type": "markdown",
      "source": [
        "### Measures of Spread (Standard Deviation, Variance, IQR, Range)"
      ],
      "metadata": {
        "id": "QJpGXkDb6e_S"
      }
    },
    {
      "cell_type": "code",
      "source": [
        "#The standard deviation and variance functions will calculate the SAMPLE versions of them\n",
        "#To get the population versions you will unfortunately have to multiply by sqrt((n-1)/n) yourself or download a package them\n",
        "sd(c(1:4))\n",
        "var(c(1:4))\n",
        "IQR(c(1:4))\n",
        "range(c(1:4))"
      ],
      "metadata": {
        "colab": {
          "base_uri": "https://localhost:8080/",
          "height": 86
        },
        "id": "DMVJltlUXrv0",
        "outputId": "40ef2971-39c4-4cf5-f32a-55fe3a353b43"
      },
      "execution_count": null,
      "outputs": [
        {
          "output_type": "display_data",
          "data": {
            "text/html": [
              "1.29099444873581"
            ],
            "text/markdown": "1.29099444873581",
            "text/latex": "1.29099444873581",
            "text/plain": [
              "[1] 1.290994"
            ]
          },
          "metadata": {}
        },
        {
          "output_type": "display_data",
          "data": {
            "text/html": [
              "1.66666666666667"
            ],
            "text/markdown": "1.66666666666667",
            "text/latex": "1.66666666666667",
            "text/plain": [
              "[1] 1.666667"
            ]
          },
          "metadata": {}
        },
        {
          "output_type": "display_data",
          "data": {
            "text/html": [
              "1.5"
            ],
            "text/markdown": "1.5",
            "text/latex": "1.5",
            "text/plain": [
              "[1] 1.5"
            ]
          },
          "metadata": {}
        },
        {
          "output_type": "display_data",
          "data": {
            "text/html": [
              "<style>\n",
              ".list-inline {list-style: none; margin:0; padding: 0}\n",
              ".list-inline>li {display: inline-block}\n",
              ".list-inline>li:not(:last-child)::after {content: \"\\00b7\"; padding: 0 .5ex}\n",
              "</style>\n",
              "<ol class=list-inline><li>1</li><li>4</li></ol>\n"
            ],
            "text/markdown": "1. 1\n2. 4\n\n\n",
            "text/latex": "\\begin{enumerate*}\n\\item 1\n\\item 4\n\\end{enumerate*}\n",
            "text/plain": [
              "[1] 1 4"
            ]
          },
          "metadata": {}
        }
      ]
    },
    {
      "cell_type": "markdown",
      "source": [
        "### Minimum, Maximum, and Quantiles"
      ],
      "metadata": {
        "id": "pdKaYWyF6l6K"
      }
    },
    {
      "cell_type": "code",
      "source": [
        "min(c(-2,3,0,-pi))\n",
        "max(c(-2,3,0,-pi))\n",
        "\n",
        "#The quantile function returns a named vector with the quantile name and value\n",
        "#The first argument is data to find quantiles of and second argument is the quantiles you want to find\n",
        "quantile(c(-2,3,0,-pi),c(0,0.25,0.5,0.75,1))\n",
        "\n",
        "#Just like for other named vectors, you can access its elements by name\n",
        "quantile(c(-2,3,0,-pi),c(0.5,0.75))[\"75%\"]\n"
      ],
      "metadata": {
        "colab": {
          "base_uri": "https://localhost:8080/",
          "height": 86
        },
        "id": "_Z2582c4ZL5M",
        "outputId": "17b2d76e-f93e-4250-8fee-cb98b567a226"
      },
      "execution_count": null,
      "outputs": [
        {
          "output_type": "display_data",
          "data": {
            "text/html": [
              "-3.14159265358979"
            ],
            "text/markdown": "-3.14159265358979",
            "text/latex": "-3.14159265358979",
            "text/plain": [
              "[1] -3.141593"
            ]
          },
          "metadata": {}
        },
        {
          "output_type": "display_data",
          "data": {
            "text/html": [
              "3"
            ],
            "text/markdown": "3",
            "text/latex": "3",
            "text/plain": [
              "[1] 3"
            ]
          },
          "metadata": {}
        },
        {
          "output_type": "display_data",
          "data": {
            "text/html": [
              "<style>\n",
              ".dl-inline {width: auto; margin:0; padding: 0}\n",
              ".dl-inline>dt, .dl-inline>dd {float: none; width: auto; display: inline-block}\n",
              ".dl-inline>dt::after {content: \":\\0020\"; padding-right: .5ex}\n",
              ".dl-inline>dt:not(:first-of-type) {padding-left: .5ex}\n",
              "</style><dl class=dl-inline><dt>0%</dt><dd>-3.14159265358979</dd><dt>25%</dt><dd>-2.28539816339745</dd><dt>50%</dt><dd>-1</dd><dt>75%</dt><dd>0.75</dd><dt>100%</dt><dd>3</dd></dl>\n"
            ],
            "text/markdown": "0%\n:   -3.1415926535897925%\n:   -2.2853981633974550%\n:   -175%\n:   0.75100%\n:   3\n\n",
            "text/latex": "\\begin{description*}\n\\item[0\\textbackslash{}\\%] -3.14159265358979\n\\item[25\\textbackslash{}\\%] -2.28539816339745\n\\item[50\\textbackslash{}\\%] -1\n\\item[75\\textbackslash{}\\%] 0.75\n\\item[100\\textbackslash{}\\%] 3\n\\end{description*}\n",
            "text/plain": [
              "       0%       25%       50%       75%      100% \n",
              "-3.141593 -2.285398 -1.000000  0.750000  3.000000 "
            ]
          },
          "metadata": {}
        },
        {
          "output_type": "display_data",
          "data": {
            "text/html": [
              "<strong>75%:</strong> 0.75"
            ],
            "text/markdown": "**75%:** 0.75",
            "text/latex": "\\textbf{75\\textbackslash{}\\%:} 0.75",
            "text/plain": [
              " 75% \n",
              "0.75 "
            ]
          },
          "metadata": {}
        }
      ]
    },
    {
      "cell_type": "markdown",
      "source": [
        "## Advanced Statistical Functions"
      ],
      "metadata": {
        "id": "pYIXVG1m7C_f"
      }
    },
    {
      "cell_type": "markdown",
      "source": [
        "### Distribution Functions"
      ],
      "metadata": {
        "id": "bkr-UvaXY0z_"
      }
    },
    {
      "cell_type": "markdown",
      "source": [
        "Throwback to stats class time!! Here is a handy table to describe all the probability distribution function types and what they do for discrete and continuous distributions:\n",
        "\n",
        "|  | Discrete | Continuous | Examples |\n",
        "|---|---|---|---|\n",
        "| **D-Functions** | Calculates the probability mass function of a value | Calculates the probability density function of a value | `dbinom` or `dnorm` |\n",
        "| **P-Functions** | Calculates the cumulative distribution function of a value  | Calculates the cumulative distribution function of a value | `pbinom` or `pnorm` |\n",
        "| **Q-Functions** | Calculates the quantile for a given cumulative probability (inverse CDF) | Calculates the quantile for a given cumulative probability (inverse CDF) | `qbinom` or `qnorm` |\n",
        "| **R-Functions** | Generates random numbers from a probability distribution | Generates random numbers from a probability distribution | `rbinom` or `rnorm` |"
      ],
      "metadata": {
        "id": "HuKWJJp8bGPv"
      }
    },
    {
      "cell_type": "markdown",
      "source": [
        "#### Probability Mass / Density Functions [D-Functions]"
      ],
      "metadata": {
        "id": "jhjxra7GfTpM"
      }
    },
    {
      "cell_type": "code",
      "source": [
        "#These are continuous distributions; in order they are: normal, uniform, exponential, student's T\n",
        "#Remember, the PDF of a continuous distribution does NOT give a probability, it gives a relative likelihood!\n",
        "dnorm(3,mean=0,sd=1)\n",
        "dunif(0.5,min=0,max=1)\n",
        "dexp(0.3,rate=pi)\n",
        "dt(1.5,df=30)"
      ],
      "metadata": {
        "colab": {
          "base_uri": "https://localhost:8080/",
          "height": 86
        },
        "id": "iO0592pSfYre",
        "outputId": "7a516be2-ea9e-4a26-9728-52787a2f3f71"
      },
      "execution_count": null,
      "outputs": [
        {
          "output_type": "display_data",
          "data": {
            "text/html": [
              "0.00443184841193801"
            ],
            "text/markdown": "0.00443184841193801",
            "text/latex": "0.00443184841193801",
            "text/plain": [
              "[1] 0.004431848"
            ]
          },
          "metadata": {}
        },
        {
          "output_type": "display_data",
          "data": {
            "text/html": [
              "1"
            ],
            "text/markdown": "1",
            "text/latex": "1",
            "text/plain": [
              "[1] 1"
            ]
          },
          "metadata": {}
        },
        {
          "output_type": "display_data",
          "data": {
            "text/html": [
              "1.22415656656783"
            ],
            "text/markdown": "1.22415656656783",
            "text/latex": "1.22415656656783",
            "text/plain": [
              "[1] 1.224157"
            ]
          },
          "metadata": {}
        },
        {
          "output_type": "display_data",
          "data": {
            "text/html": [
              "0.128961601739672"
            ],
            "text/markdown": "0.128961601739672",
            "text/latex": "0.128961601739672",
            "text/plain": [
              "[1] 0.1289616"
            ]
          },
          "metadata": {}
        }
      ]
    },
    {
      "cell_type": "code",
      "source": [
        "#These are discrete distributions; in order they are: binomial, poisson, geometric, hypergeometric\n",
        "#The PMF of a discrete distribution DOES give a probability unlike for continuous distributions\n",
        "dbinom(10,size=40,prob=0.2)\n",
        "dpois(13,lambda=10)\n",
        "dgeom(4,prob=0.4) #first argument is the number of FAILURES before first success, not trials!\n",
        "dhyper(3,m=8,n=10,k=7) #m is the number of success states, n is the number of failure states, and k is the number of draws"
      ],
      "metadata": {
        "colab": {
          "base_uri": "https://localhost:8080/",
          "height": 86
        },
        "id": "6SPZ0x-ZfEHK",
        "outputId": "f91bad13-7311-463e-956c-606499e9ffa1"
      },
      "execution_count": null,
      "outputs": [
        {
          "output_type": "display_data",
          "data": {
            "text/html": [
              "0.107453737710898"
            ],
            "text/markdown": "0.107453737710898",
            "text/latex": "0.107453737710898",
            "text/plain": [
              "[1] 0.1074537"
            ]
          },
          "metadata": {}
        },
        {
          "output_type": "display_data",
          "data": {
            "text/html": [
              "0.0729079462244367"
            ],
            "text/markdown": "0.0729079462244367",
            "text/latex": "0.0729079462244367",
            "text/plain": [
              "[1] 0.07290795"
            ]
          },
          "metadata": {}
        },
        {
          "output_type": "display_data",
          "data": {
            "text/html": [
              "0.05184"
            ],
            "text/markdown": "0.05184",
            "text/latex": "0.05184",
            "text/plain": [
              "[1] 0.05184"
            ]
          },
          "metadata": {}
        },
        {
          "output_type": "display_data",
          "data": {
            "text/html": [
              "0.369532428355958"
            ],
            "text/markdown": "0.369532428355958",
            "text/latex": "0.369532428355958",
            "text/plain": [
              "[1] 0.3695324"
            ]
          },
          "metadata": {}
        }
      ]
    },
    {
      "cell_type": "markdown",
      "source": [
        "#### Cumulative Distribution Functions [P-Functions]"
      ],
      "metadata": {
        "id": "tciYF47Rs7A6"
      }
    },
    {
      "cell_type": "code",
      "source": [
        "#For the continuous distributions\n",
        "pnorm(3,mean=0,sd=1)\n",
        "punif(0.5,min=0,max=1)\n",
        "pexp(0.3,rate=pi)\n",
        "pt(1.5,df=30)"
      ],
      "metadata": {
        "colab": {
          "base_uri": "https://localhost:8080/",
          "height": 86
        },
        "id": "WsbjKcsFtCMh",
        "outputId": "5d13683e-055b-4b4c-d87f-f13f8e23a8b1"
      },
      "execution_count": null,
      "outputs": [
        {
          "output_type": "display_data",
          "data": {
            "text/html": [
              "0.99865010196837"
            ],
            "text/markdown": "0.99865010196837",
            "text/latex": "0.99865010196837",
            "text/plain": [
              "[1] 0.9986501"
            ]
          },
          "metadata": {}
        },
        {
          "output_type": "display_data",
          "data": {
            "text/html": [
              "0.5"
            ],
            "text/markdown": "0.5",
            "text/latex": "0.5",
            "text/plain": [
              "[1] 0.5"
            ]
          },
          "metadata": {}
        },
        {
          "output_type": "display_data",
          "data": {
            "text/html": [
              "0.610338862624653"
            ],
            "text/markdown": "0.610338862624653",
            "text/latex": "0.610338862624653",
            "text/plain": [
              "[1] 0.6103389"
            ]
          },
          "metadata": {}
        },
        {
          "output_type": "display_data",
          "data": {
            "text/html": [
              "0.927967035435677"
            ],
            "text/markdown": "0.927967035435677",
            "text/latex": "0.927967035435677",
            "text/plain": [
              "[1] 0.927967"
            ]
          },
          "metadata": {}
        }
      ]
    },
    {
      "cell_type": "code",
      "source": [
        "#For the discrete distributions\n",
        "pbinom(10,size=40,prob=0.2)\n",
        "ppois(13,lambda=10)\n",
        "pgeom(4,prob=0.4)\n",
        "phyper(3,m=8,n=10,k=7)"
      ],
      "metadata": {
        "colab": {
          "base_uri": "https://localhost:8080/",
          "height": 86
        },
        "id": "vAep6MeKtP3C",
        "outputId": "ca33365c-e49b-4761-e857-d50ecdf41457"
      },
      "execution_count": null,
      "outputs": [
        {
          "output_type": "display_data",
          "data": {
            "text/html": [
              "0.839230852002381"
            ],
            "text/markdown": "0.839230852002381",
            "text/latex": "0.839230852002381",
            "text/plain": [
              "[1] 0.8392309"
            ]
          },
          "metadata": {}
        },
        {
          "output_type": "display_data",
          "data": {
            "text/html": [
              "0.864464422619311"
            ],
            "text/markdown": "0.864464422619311",
            "text/latex": "0.864464422619311",
            "text/plain": [
              "[1] 0.8644644"
            ]
          },
          "metadata": {}
        },
        {
          "output_type": "display_data",
          "data": {
            "text/html": [
              "0.92224"
            ],
            "text/markdown": "0.92224",
            "text/latex": "0.92224",
            "text/plain": [
              "[1] 0.92224"
            ]
          },
          "metadata": {}
        },
        {
          "output_type": "display_data",
          "data": {
            "text/html": [
              "0.647812971342383"
            ],
            "text/markdown": "0.647812971342383",
            "text/latex": "0.647812971342383",
            "text/plain": [
              "[1] 0.647813"
            ]
          },
          "metadata": {}
        }
      ]
    },
    {
      "cell_type": "markdown",
      "source": [
        "#### Quantile Functions / Inverse CDF [Q-Functions]"
      ],
      "metadata": {
        "id": "I5bTjF_DtZ-U"
      }
    },
    {
      "cell_type": "code",
      "source": [
        "#For the continuous distributions\n",
        "qnorm(0.99865010196837,mean=0,sd=1)\n",
        "qunif(0.5,min=0,max=1)\n",
        "qexp(0.610338862624653,rate=pi)\n",
        "qt(0.927967035435677,df=30)\n",
        "\n",
        "#You can see these return the opposite of the P-function's output (that's how inverse functions work >_<)"
      ],
      "metadata": {
        "colab": {
          "base_uri": "https://localhost:8080/",
          "height": 86
        },
        "id": "4K3oqvl0tfsy",
        "outputId": "f16ba3e0-d708-4509-bc8d-615f301144fb"
      },
      "execution_count": null,
      "outputs": [
        {
          "output_type": "display_data",
          "data": {
            "text/html": [
              "3.00000000000002"
            ],
            "text/markdown": "3.00000000000002",
            "text/latex": "3.00000000000002",
            "text/plain": [
              "[1] 3"
            ]
          },
          "metadata": {}
        },
        {
          "output_type": "display_data",
          "data": {
            "text/html": [
              "0.5"
            ],
            "text/markdown": "0.5",
            "text/latex": "0.5",
            "text/plain": [
              "[1] 0.5"
            ]
          },
          "metadata": {}
        },
        {
          "output_type": "display_data",
          "data": {
            "text/html": [
              "0.3"
            ],
            "text/markdown": "0.3",
            "text/latex": "0.3",
            "text/plain": [
              "[1] 0.3"
            ]
          },
          "metadata": {}
        },
        {
          "output_type": "display_data",
          "data": {
            "text/html": [
              "1.5"
            ],
            "text/markdown": "1.5",
            "text/latex": "1.5",
            "text/plain": [
              "[1] 1.5"
            ]
          },
          "metadata": {}
        }
      ]
    },
    {
      "cell_type": "code",
      "source": [
        "#For the discrete distributions\n",
        "qbinom(0.839230852002381,size=40,prob=0.2)\n",
        "qpois(0.864464422619311,lambda=10)\n",
        "qgeom(0.92224,prob=0.4)\n",
        "qhyper(0.647812971342383,m=8,n=10,k=7)"
      ],
      "metadata": {
        "colab": {
          "base_uri": "https://localhost:8080/",
          "height": 86
        },
        "id": "r3kyKXgnuLQt",
        "outputId": "6592162e-b574-4f75-a18f-49f64f2f3e63"
      },
      "execution_count": null,
      "outputs": [
        {
          "output_type": "display_data",
          "data": {
            "text/html": [
              "10"
            ],
            "text/markdown": "10",
            "text/latex": "10",
            "text/plain": [
              "[1] 10"
            ]
          },
          "metadata": {}
        },
        {
          "output_type": "display_data",
          "data": {
            "text/html": [
              "13"
            ],
            "text/markdown": "13",
            "text/latex": "13",
            "text/plain": [
              "[1] 13"
            ]
          },
          "metadata": {}
        },
        {
          "output_type": "display_data",
          "data": {
            "text/html": [
              "4"
            ],
            "text/markdown": "4",
            "text/latex": "4",
            "text/plain": [
              "[1] 4"
            ]
          },
          "metadata": {}
        },
        {
          "output_type": "display_data",
          "data": {
            "text/html": [
              "3"
            ],
            "text/markdown": "3",
            "text/latex": "3",
            "text/plain": [
              "[1] 3"
            ]
          },
          "metadata": {}
        }
      ]
    },
    {
      "cell_type": "markdown",
      "source": [
        "#### Random Number Generation [R-Functions] and Seeding"
      ],
      "metadata": {
        "id": "K8BMAJoJu9BQ"
      }
    },
    {
      "cell_type": "code",
      "source": [
        "#For the continuous distributions\n",
        "#The first value passed in is the number of random numbers you want to be generated (returned as a vector)\n",
        "print(\"6 Random Numbers from Normal Distribution: \")\n",
        "rnorm(6,mean=0,sd=1)\n",
        "print(\"4 Random Numbers from Uniform Distribution: \")\n",
        "runif(4,min=0,max=1)\n",
        "print(\"5 Random Numbers from Exponential Distribution: \")\n",
        "rexp(5,rate=pi)\n",
        "print(\"3 Random Numbers from T Distribution: \")\n",
        "rt(3,df=30)\n",
        "\n",
        "#Run this code multiple times, you'll notice the numbers are different each time\n",
        "#That's expected, these are random samples after all!"
      ],
      "metadata": {
        "colab": {
          "base_uri": "https://localhost:8080/",
          "height": 156
        },
        "id": "44E3yL_PvDFm",
        "outputId": "2ed40ba1-86ec-4f8a-8e38-6df3636ff132"
      },
      "execution_count": null,
      "outputs": [
        {
          "output_type": "stream",
          "name": "stdout",
          "text": [
            "[1] \"6 Random Numbers from Normal Distribution: \"\n"
          ]
        },
        {
          "output_type": "display_data",
          "data": {
            "text/html": [
              "<style>\n",
              ".list-inline {list-style: none; margin:0; padding: 0}\n",
              ".list-inline>li {display: inline-block}\n",
              ".list-inline>li:not(:last-child)::after {content: \"\\00b7\"; padding: 0 .5ex}\n",
              "</style>\n",
              "<ol class=list-inline><li>1.77842928747545</li><li>0.134447660933676</li><li>0.765598999157864</li><li>0.955136676908982</li><li>-0.0505657014422701</li><li>-0.305815419766971</li></ol>\n"
            ],
            "text/markdown": "1. 1.77842928747545\n2. 0.134447660933676\n3. 0.765598999157864\n4. 0.955136676908982\n5. -0.0505657014422701\n6. -0.305815419766971\n\n\n",
            "text/latex": "\\begin{enumerate*}\n\\item 1.77842928747545\n\\item 0.134447660933676\n\\item 0.765598999157864\n\\item 0.955136676908982\n\\item -0.0505657014422701\n\\item -0.305815419766971\n\\end{enumerate*}\n",
            "text/plain": [
              "[1]  1.7784293  0.1344477  0.7655990  0.9551367 -0.0505657 -0.3058154"
            ]
          },
          "metadata": {}
        },
        {
          "output_type": "stream",
          "name": "stdout",
          "text": [
            "[1] \"4 Random Numbers from Uniform Distribution: \"\n"
          ]
        },
        {
          "output_type": "display_data",
          "data": {
            "text/html": [
              "<style>\n",
              ".list-inline {list-style: none; margin:0; padding: 0}\n",
              ".list-inline>li {display: inline-block}\n",
              ".list-inline>li:not(:last-child)::after {content: \"\\00b7\"; padding: 0 .5ex}\n",
              "</style>\n",
              "<ol class=list-inline><li>0.814251750474796</li><li>0.928777225781232</li><li>0.147481045220047</li><li>0.749821664998308</li></ol>\n"
            ],
            "text/markdown": "1. 0.814251750474796\n2. 0.928777225781232\n3. 0.147481045220047\n4. 0.749821664998308\n\n\n",
            "text/latex": "\\begin{enumerate*}\n\\item 0.814251750474796\n\\item 0.928777225781232\n\\item 0.147481045220047\n\\item 0.749821664998308\n\\end{enumerate*}\n",
            "text/plain": [
              "[1] 0.8142518 0.9287772 0.1474810 0.7498217"
            ]
          },
          "metadata": {}
        },
        {
          "output_type": "stream",
          "name": "stdout",
          "text": [
            "[1] \"5 Random Numbers from Exponential Distribution: \"\n"
          ]
        },
        {
          "output_type": "display_data",
          "data": {
            "text/html": [
              "<style>\n",
              ".list-inline {list-style: none; margin:0; padding: 0}\n",
              ".list-inline>li {display: inline-block}\n",
              ".list-inline>li:not(:last-child)::after {content: \"\\00b7\"; padding: 0 .5ex}\n",
              "</style>\n",
              "<ol class=list-inline><li>0.077360483102219</li><li>0.0235304160076483</li><li>0.343072988395207</li><li>0.0210470353836501</li><li>0.0246972180243978</li></ol>\n"
            ],
            "text/markdown": "1. 0.077360483102219\n2. 0.0235304160076483\n3. 0.343072988395207\n4. 0.0210470353836501\n5. 0.0246972180243978\n\n\n",
            "text/latex": "\\begin{enumerate*}\n\\item 0.077360483102219\n\\item 0.0235304160076483\n\\item 0.343072988395207\n\\item 0.0210470353836501\n\\item 0.0246972180243978\n\\end{enumerate*}\n",
            "text/plain": [
              "[1] 0.07736048 0.02353042 0.34307299 0.02104704 0.02469722"
            ]
          },
          "metadata": {}
        },
        {
          "output_type": "stream",
          "name": "stdout",
          "text": [
            "[1] \"3 Random Numbers from T Distribution: \"\n"
          ]
        },
        {
          "output_type": "display_data",
          "data": {
            "text/html": [
              "<style>\n",
              ".list-inline {list-style: none; margin:0; padding: 0}\n",
              ".list-inline>li {display: inline-block}\n",
              ".list-inline>li:not(:last-child)::after {content: \"\\00b7\"; padding: 0 .5ex}\n",
              "</style>\n",
              "<ol class=list-inline><li>0.666594534819784</li><li>-1.79175534800646</li><li>-0.505421521956749</li></ol>\n"
            ],
            "text/markdown": "1. 0.666594534819784\n2. -1.79175534800646\n3. -0.505421521956749\n\n\n",
            "text/latex": "\\begin{enumerate*}\n\\item 0.666594534819784\n\\item -1.79175534800646\n\\item -0.505421521956749\n\\end{enumerate*}\n",
            "text/plain": [
              "[1]  0.6665945 -1.7917553 -0.5054215"
            ]
          },
          "metadata": {}
        }
      ]
    },
    {
      "cell_type": "code",
      "source": [
        "#For the discrete distributions\n",
        "#The first value passed in is the number of random numbers you want to be generated (returned as a vector)\n",
        "print(\"6 Random Numbers from Binomial Distribution: \")\n",
        "rbinom(6,size=40,prob=0.2)\n",
        "print(\"4 Random Numbers from Poisson Distribution: \")\n",
        "rpois(4,lambda=10)\n",
        "print(\"5 Random Numbers from Geometric Distribution: \")\n",
        "rgeom(5,prob=0.4)\n",
        "print(\"3 Random Numbers from Hypergeometric Distribution: \")\n",
        "rhyper(3,m=8,n=10,k=7)"
      ],
      "metadata": {
        "colab": {
          "base_uri": "https://localhost:8080/",
          "height": 156
        },
        "id": "JfdHS4ljwXvW",
        "outputId": "7e3d3bc3-c93e-453b-9b0a-fc243b0f22eb"
      },
      "execution_count": null,
      "outputs": [
        {
          "output_type": "stream",
          "name": "stdout",
          "text": [
            "[1] \"6 Random Numbers from Binomial Distribution: \"\n"
          ]
        },
        {
          "output_type": "display_data",
          "data": {
            "text/html": [
              "<style>\n",
              ".list-inline {list-style: none; margin:0; padding: 0}\n",
              ".list-inline>li {display: inline-block}\n",
              ".list-inline>li:not(:last-child)::after {content: \"\\00b7\"; padding: 0 .5ex}\n",
              "</style>\n",
              "<ol class=list-inline><li>4</li><li>9</li><li>9</li><li>11</li><li>7</li><li>12</li></ol>\n"
            ],
            "text/markdown": "1. 4\n2. 9\n3. 9\n4. 11\n5. 7\n6. 12\n\n\n",
            "text/latex": "\\begin{enumerate*}\n\\item 4\n\\item 9\n\\item 9\n\\item 11\n\\item 7\n\\item 12\n\\end{enumerate*}\n",
            "text/plain": [
              "[1]  4  9  9 11  7 12"
            ]
          },
          "metadata": {}
        },
        {
          "output_type": "stream",
          "name": "stdout",
          "text": [
            "[1] \"4 Random Numbers from Poisson Distribution: \"\n"
          ]
        },
        {
          "output_type": "display_data",
          "data": {
            "text/html": [
              "<style>\n",
              ".list-inline {list-style: none; margin:0; padding: 0}\n",
              ".list-inline>li {display: inline-block}\n",
              ".list-inline>li:not(:last-child)::after {content: \"\\00b7\"; padding: 0 .5ex}\n",
              "</style>\n",
              "<ol class=list-inline><li>7</li><li>4</li><li>14</li><li>13</li></ol>\n"
            ],
            "text/markdown": "1. 7\n2. 4\n3. 14\n4. 13\n\n\n",
            "text/latex": "\\begin{enumerate*}\n\\item 7\n\\item 4\n\\item 14\n\\item 13\n\\end{enumerate*}\n",
            "text/plain": [
              "[1]  7  4 14 13"
            ]
          },
          "metadata": {}
        },
        {
          "output_type": "stream",
          "name": "stdout",
          "text": [
            "[1] \"5 Random Numbers from Geometric Distribution: \"\n"
          ]
        },
        {
          "output_type": "display_data",
          "data": {
            "text/html": [
              "<style>\n",
              ".list-inline {list-style: none; margin:0; padding: 0}\n",
              ".list-inline>li {display: inline-block}\n",
              ".list-inline>li:not(:last-child)::after {content: \"\\00b7\"; padding: 0 .5ex}\n",
              "</style>\n",
              "<ol class=list-inline><li>2</li><li>2</li><li>0</li><li>0</li><li>0</li></ol>\n"
            ],
            "text/markdown": "1. 2\n2. 2\n3. 0\n4. 0\n5. 0\n\n\n",
            "text/latex": "\\begin{enumerate*}\n\\item 2\n\\item 2\n\\item 0\n\\item 0\n\\item 0\n\\end{enumerate*}\n",
            "text/plain": [
              "[1] 2 2 0 0 0"
            ]
          },
          "metadata": {}
        },
        {
          "output_type": "stream",
          "name": "stdout",
          "text": [
            "[1] \"3 Random Numbers from Hypergeometric Distribution: \"\n"
          ]
        },
        {
          "output_type": "display_data",
          "data": {
            "text/html": [
              "<style>\n",
              ".list-inline {list-style: none; margin:0; padding: 0}\n",
              ".list-inline>li {display: inline-block}\n",
              ".list-inline>li:not(:last-child)::after {content: \"\\00b7\"; padding: 0 .5ex}\n",
              "</style>\n",
              "<ol class=list-inline><li>3</li><li>5</li><li>2</li></ol>\n"
            ],
            "text/markdown": "1. 3\n2. 5\n3. 2\n\n\n",
            "text/latex": "\\begin{enumerate*}\n\\item 3\n\\item 5\n\\item 2\n\\end{enumerate*}\n",
            "text/plain": [
              "[1] 3 5 2"
            ]
          },
          "metadata": {}
        }
      ]
    },
    {
      "cell_type": "code",
      "source": [
        "#Let's say you want the random numbers generated (and any other random processes in your code) to be the same each time\n",
        "#To do this, you can set a seed like so\n",
        "set.seed(1)\n",
        "\n",
        "#Now you can run this code multiple times and see these random processes return the same thing each time!\n",
        "rnorm(1,mean=0,sd=1)\n",
        "rbinom(1,size=40,prob=0.2)\n",
        "\n",
        "#This can be very useful when debugging and testing code without having to worry about constantly changing outputs"
      ],
      "metadata": {
        "colab": {
          "base_uri": "https://localhost:8080/",
          "height": 52
        },
        "id": "6dtH0CTAxAx-",
        "outputId": "438e800f-72bb-4c64-aecc-b9636a572b34"
      },
      "execution_count": null,
      "outputs": [
        {
          "output_type": "display_data",
          "data": {
            "text/html": [
              "-0.626453810742332"
            ],
            "text/markdown": "-0.626453810742332",
            "text/latex": "-0.626453810742332",
            "text/plain": [
              "[1] -0.6264538"
            ]
          },
          "metadata": {}
        },
        {
          "output_type": "display_data",
          "data": {
            "text/html": [
              "8"
            ],
            "text/markdown": "8",
            "text/latex": "8",
            "text/plain": [
              "[1] 8"
            ]
          },
          "metadata": {}
        }
      ]
    },
    {
      "cell_type": "markdown",
      "source": [
        "### Hypothesis Testing and Confidence Intervals"
      ],
      "metadata": {
        "id": "XFNjklYb7IKh"
      }
    },
    {
      "cell_type": "markdown",
      "source": [
        "There are *so many* hypothesis test functions avaliable in R, but today we are only going to go over the most common and basic ones you encounter most often:\n",
        "\n",
        "*   Proportion Tests\n",
        "*   T-Tests"
      ],
      "metadata": {
        "id": "UB0S0-97Voa0"
      }
    },
    {
      "cell_type": "markdown",
      "source": [
        "### Proportion Tests"
      ],
      "metadata": {
        "id": "3b4gQxpuYFB2"
      }
    },
    {
      "cell_type": "markdown",
      "source": [
        "Use the `prop.test()` function with the following parameters:\n",
        "\n",
        "* `x` = number of observed successes in sample\n",
        "* `n` = sample size\n",
        "* `p` = value of the hypothesized parameter\n",
        "* `alternative` = one of three strings specifying the tailedness of the test: `\"two.sided\"`, `\"greater\"`, or `\"less\"`\n",
        "* `conf.level` = specify the confidence level of the outputted confidence interval\n",
        "* `correct` = `TRUE` or `FALSE`, indictating whether the Yates correction for continuity should be used or not\n",
        "\n",
        "\n",
        "These are the default parameters for `prop.test()`:\n",
        "\n",
        "* `x` has no default and is required\n",
        "* `n` has no default but is only required when `x` is a vector; it is ignored when `x` is a matrix or data table\n",
        "* `p = NULL`\n",
        "* `alternative = \"two.sided\"`\n",
        "* `conf.level = 0.95`\n",
        "* `correct = TRUE`\n",
        "\n",
        "\n",
        "Please note from the code below that `prop.test()` actually runs a test using the Chi-Square distribution (specifically Pearson's Chi-Square along with potentially Yate's correction for continuity against a Chi-Square distribution with 1 degrees of freedom) NOT the Z distribution like we may be familiar with from Stats 1."
      ],
      "metadata": {
        "id": "JIc-WCyMZHch"
      }
    },
    {
      "cell_type": "code",
      "source": [
        "#prop.test() will return a named list containing the outputs you see in the console\n",
        "\n",
        "#A two-sided test on one proportion against the null p = 0.45\n",
        "prop.test(x=30,n=50,p=0.45)\n",
        "\n",
        "#A one-sided test on two proportions (to see if the first proportion is less than the second); if p is not specified it will test for equality\n",
        "prop.test(x=c(30,15),n=c(80,36),alternative = \"less\",correct=FALSE)"
      ],
      "metadata": {
        "colab": {
          "base_uri": "https://localhost:8080/",
          "height": 399
        },
        "id": "gXrgHGIDYHhp",
        "outputId": "db4d3209-cbcf-46e4-add8-e24890e5c82c"
      },
      "execution_count": null,
      "outputs": [
        {
          "output_type": "display_data",
          "data": {
            "text/plain": [
              "\n",
              "\t1-sample proportions test with continuity correction\n",
              "\n",
              "data:  30 out of 50, null probability 0.45\n",
              "X-squared = 3.9596, df = 1, p-value = 0.0466\n",
              "alternative hypothesis: true p is not equal to 0.45\n",
              "95 percent confidence interval:\n",
              " 0.4520484 0.7326707\n",
              "sample estimates:\n",
              "  p \n",
              "0.6 \n"
            ]
          },
          "metadata": {}
        },
        {
          "output_type": "display_data",
          "data": {
            "text/plain": [
              "\n",
              "\t2-sample test for equality of proportions without continuity correction\n",
              "\n",
              "data:  c(30, 15) out of c(80, 36)\n",
              "X-squared = 0.18153, df = 1, p-value = 0.335\n",
              "alternative hypothesis: less\n",
              "95 percent confidence interval:\n",
              " -1.0000000  0.1201758\n",
              "sample estimates:\n",
              "   prop 1    prop 2 \n",
              "0.3750000 0.4166667 \n"
            ]
          },
          "metadata": {}
        }
      ]
    },
    {
      "cell_type": "markdown",
      "source": [
        "### T-Tests"
      ],
      "metadata": {
        "id": "LpV4v--KjNPP"
      }
    },
    {
      "cell_type": "markdown",
      "source": [
        "Use the `t.test()` function with the following parameters (there are more parameters but these are the important ones):\n",
        "\n",
        "* `x` = a numeric vector of observations\n",
        "* `y` = another optional numeric vector of observations\n",
        "* `alternative` = one of three strings specifying the tailedness of the test: `\"two.sided\"`, `\"greater\"`, or `\"less\"`\n",
        "* `mu` = value of the hypothesized mean\n",
        "* `paired` = `TRUE` or `FALSE`, indicating whether to use a paired t-test or not\n",
        "* `var.equal` = `TRUE` or `FALSE`, indicating whether to treat the two variances as equal and use the pooled variance or not\n",
        "* `conf.level` = specify the confidence level of the outputted confidence interval\n",
        "\n",
        "These are the default parameters for `t.test()`:\n",
        "\n",
        "* `x` has no default and is required\n",
        "* `y = NULL`\n",
        "* `alternative = \"two.sided\"`\n",
        "* `mu = 0`\n",
        "* `paired = FALSE`\n",
        "* `var.equal = FALSE`\n",
        "* `conf.level = 0.95`"
      ],
      "metadata": {
        "id": "R7X8HUDC-dTS"
      }
    },
    {
      "cell_type": "code",
      "source": [
        "#t.test() will return a named list containing the outputs you see in the console\n",
        "\n",
        "#A two-sided t-test on the given data against the default null mu = 0\n",
        "t.test(x=c(-1,2,3,9,-3))\n",
        "\n",
        "#A one-sided two sample t-test on the given data sets against the null mu = 3\n",
        "t.test(x=c(-1,2,3,9,-3),y=c(4,10,2,8,-5,1),mu=3,alternative=\"greater\",var.equal=TRUE)"
      ],
      "metadata": {
        "colab": {
          "base_uri": "https://localhost:8080/",
          "height": 399
        },
        "id": "ulsPZg1qApx0",
        "outputId": "8eadd1a1-eca7-43dd-b479-a575c0d22349"
      },
      "execution_count": null,
      "outputs": [
        {
          "output_type": "display_data",
          "data": {
            "text/plain": [
              "\n",
              "\tOne Sample t-test\n",
              "\n",
              "data:  c(-1, 2, 3, 9, -3)\n",
              "t = 0.9759, df = 4, p-value = 0.3844\n",
              "alternative hypothesis: true mean is not equal to 0\n",
              "95 percent confidence interval:\n",
              " -3.690019  7.690019\n",
              "sample estimates:\n",
              "mean of x \n",
              "        2 \n"
            ]
          },
          "metadata": {}
        },
        {
          "output_type": "display_data",
          "data": {
            "text/plain": [
              "\n",
              "\tTwo Sample t-test\n",
              "\n",
              "data:  c(-1, 2, 3, 9, -3) and c(4, 10, 2, 8, -5, 1)\n",
              "t = -1.4239, df = 9, p-value = 0.9059\n",
              "alternative hypothesis: true difference in means is greater than 3\n",
              "95 percent confidence interval:\n",
              " -6.912062       Inf\n",
              "sample estimates:\n",
              "mean of x mean of y \n",
              " 2.000000  3.333333 \n"
            ]
          },
          "metadata": {}
        }
      ]
    },
    {
      "cell_type": "markdown",
      "source": [
        "# Iteration and Selection (Loops and If-Else Statements)\n",
        "---"
      ],
      "metadata": {
        "id": "ggWAogriy4aD"
      }
    },
    {
      "cell_type": "markdown",
      "source": [
        "These structures look and function quite similar to ones in other languages (particularly those in the C-language family).\n",
        "\n",
        "If I'm being quite honest, you should ideally not need explicit iterative structures like `for` and `while` loops in R. This is because most tasks can be done simpler and more efficiently using R's many functions and packages. That is to say, if you find yourself diverting a ton to loops, you may not be using R to its full potential and might want to consider looking up some functions that probably do exactly what you are writing a loop for but in a simpler way!\n",
        "\n",
        "Using loops should be treated as a *last resort* in R as opposed to the standard for solving problems like it is in other programming languages."
      ],
      "metadata": {
        "id": "blUkV83ozRpe"
      }
    },
    {
      "cell_type": "markdown",
      "source": [
        "## Selection"
      ],
      "metadata": {
        "id": "dX-_21Nk471T"
      }
    },
    {
      "cell_type": "markdown",
      "source": [
        "R has two kinds of selection types:\n",
        "\n",
        "1. Using the classic if-else statement structure (similar to Python and other languages)\n",
        "\n",
        "2. The `ifelse()` function\n",
        "\n",
        "Let's go over each:"
      ],
      "metadata": {
        "id": "odS2zOUa03sq"
      }
    },
    {
      "cell_type": "markdown",
      "source": [
        "### If-Else Statements"
      ],
      "metadata": {
        "id": "Lu5da8IX1Z5u"
      }
    },
    {
      "cell_type": "code",
      "source": [
        "#We can define a classic if-else statement like so\n",
        "x <- 10\n",
        "if (x>12){\n",
        "  print(\"First condition is true!\")\n",
        "} else if (x<12){\n",
        "  print(\"Second condition is true!\")\n",
        "} else {\n",
        "  print(\"No condition is true :(\")\n",
        "}\n",
        "\n",
        "#NOTE: The 'else if' and 'else' MUST be on the same line as the curly brace from the previous condition! This is a stupid quirk R has"
      ],
      "metadata": {
        "colab": {
          "base_uri": "https://localhost:8080/"
        },
        "id": "p6c8MY2C1olx",
        "outputId": "d8244edd-9b0f-4ac6-8826-517a7e0b7671"
      },
      "execution_count": null,
      "outputs": [
        {
          "output_type": "stream",
          "name": "stdout",
          "text": [
            "[1] \"Second condition is true!\"\n"
          ]
        }
      ]
    },
    {
      "cell_type": "code",
      "source": [
        "#We can also nest if-else statements\n",
        "x <- 10\n",
        "if (x>12){\n",
        "  print(\"First condition is true!\")\n",
        "} else if (x<12){\n",
        "  print(\"Second condition is true!\")\n",
        "  #Nesting starts here\n",
        "  if (typeof(x)==\"character\"){\n",
        "    print(\"This is of type character!\")\n",
        "  } else if (typeof(x)==\"integer\"){\n",
        "    print(\"This is of type integer!\")\n",
        "  } else {\n",
        "    print(\"This is of some other type!\")\n",
        "  }\n",
        "  #Nesting ends here\n",
        "} else {\n",
        "  print(\"No condition is true :(\")\n",
        "}"
      ],
      "metadata": {
        "colab": {
          "base_uri": "https://localhost:8080/"
        },
        "id": "6Z5uLZKG28pz",
        "outputId": "2125ac8c-2ee0-4d03-bf61-f2aa495123c8"
      },
      "execution_count": null,
      "outputs": [
        {
          "output_type": "stream",
          "name": "stdout",
          "text": [
            "[1] \"Second condition is true!\"\n",
            "[1] \"This is of some other type!\"\n"
          ]
        }
      ]
    },
    {
      "cell_type": "markdown",
      "source": [
        "###ifelse() Function"
      ],
      "metadata": {
        "id": "LIDDj1WY1dDf"
      }
    },
    {
      "cell_type": "markdown",
      "source": [
        "When evaluating a condition for each element of a vector, don't use an if-else statement. Use the `ifelse(test,yes,no)` function!\n",
        "\n",
        "This function basically evaluates the logical expression `test` for each element in a vector and returns the argument from `yes` if its TRUE and `no` if its FALSE in a single vector."
      ],
      "metadata": {
        "id": "Pe0VuC-r3cKJ"
      }
    },
    {
      "cell_type": "code",
      "source": [
        "df <- data.frame(\"column_1\"=c(1:10))\n",
        "\n",
        "#Note that %% is the modulo operator\n",
        "#The first expression evaluates to a logical vector and the subsequent arguments are what ifelse() converts the TRUEs and FALSEs to\n",
        "ifelse(df$column_1%%2==0 | df$column_1%%3==0, \"Divisible by 2 or 3\",\"Not divisible by 2 or 3\")\n",
        "ifelse(df$column_1%%2==0 & df$column_1%%3==0, \"Divisible by 2 and 3\",\"Not divisible by 2 and 3\") #Will only return the TRUE statement for one number: 6\n"
      ],
      "metadata": {
        "colab": {
          "base_uri": "https://localhost:8080/",
          "height": 86
        },
        "id": "D57j8Uxe4IRB",
        "outputId": "2355384a-a60a-4e80-dc59-82b68edbabee"
      },
      "execution_count": null,
      "outputs": [
        {
          "output_type": "display_data",
          "data": {
            "text/html": [
              "<style>\n",
              ".list-inline {list-style: none; margin:0; padding: 0}\n",
              ".list-inline>li {display: inline-block}\n",
              ".list-inline>li:not(:last-child)::after {content: \"\\00b7\"; padding: 0 .5ex}\n",
              "</style>\n",
              "<ol class=list-inline><li>'Not divisible by 2 or 3'</li><li>'Divisible by 2 or 3'</li><li>'Divisible by 2 or 3'</li><li>'Divisible by 2 or 3'</li><li>'Not divisible by 2 or 3'</li><li>'Divisible by 2 or 3'</li><li>'Not divisible by 2 or 3'</li><li>'Divisible by 2 or 3'</li><li>'Divisible by 2 or 3'</li><li>'Divisible by 2 or 3'</li></ol>\n"
            ],
            "text/markdown": "1. 'Not divisible by 2 or 3'\n2. 'Divisible by 2 or 3'\n3. 'Divisible by 2 or 3'\n4. 'Divisible by 2 or 3'\n5. 'Not divisible by 2 or 3'\n6. 'Divisible by 2 or 3'\n7. 'Not divisible by 2 or 3'\n8. 'Divisible by 2 or 3'\n9. 'Divisible by 2 or 3'\n10. 'Divisible by 2 or 3'\n\n\n",
            "text/latex": "\\begin{enumerate*}\n\\item 'Not divisible by 2 or 3'\n\\item 'Divisible by 2 or 3'\n\\item 'Divisible by 2 or 3'\n\\item 'Divisible by 2 or 3'\n\\item 'Not divisible by 2 or 3'\n\\item 'Divisible by 2 or 3'\n\\item 'Not divisible by 2 or 3'\n\\item 'Divisible by 2 or 3'\n\\item 'Divisible by 2 or 3'\n\\item 'Divisible by 2 or 3'\n\\end{enumerate*}\n",
            "text/plain": [
              " [1] \"Not divisible by 2 or 3\" \"Divisible by 2 or 3\"    \n",
              " [3] \"Divisible by 2 or 3\"     \"Divisible by 2 or 3\"    \n",
              " [5] \"Not divisible by 2 or 3\" \"Divisible by 2 or 3\"    \n",
              " [7] \"Not divisible by 2 or 3\" \"Divisible by 2 or 3\"    \n",
              " [9] \"Divisible by 2 or 3\"     \"Divisible by 2 or 3\"    "
            ]
          },
          "metadata": {}
        },
        {
          "output_type": "display_data",
          "data": {
            "text/html": [
              "<style>\n",
              ".list-inline {list-style: none; margin:0; padding: 0}\n",
              ".list-inline>li {display: inline-block}\n",
              ".list-inline>li:not(:last-child)::after {content: \"\\00b7\"; padding: 0 .5ex}\n",
              "</style>\n",
              "<ol class=list-inline><li>'Not divisible by 2 and 3'</li><li>'Not divisible by 2 and 3'</li><li>'Not divisible by 2 and 3'</li><li>'Not divisible by 2 and 3'</li><li>'Not divisible by 2 and 3'</li><li>'Divisible by 2 and 3'</li><li>'Not divisible by 2 and 3'</li><li>'Not divisible by 2 and 3'</li><li>'Not divisible by 2 and 3'</li><li>'Not divisible by 2 and 3'</li></ol>\n"
            ],
            "text/markdown": "1. 'Not divisible by 2 and 3'\n2. 'Not divisible by 2 and 3'\n3. 'Not divisible by 2 and 3'\n4. 'Not divisible by 2 and 3'\n5. 'Not divisible by 2 and 3'\n6. 'Divisible by 2 and 3'\n7. 'Not divisible by 2 and 3'\n8. 'Not divisible by 2 and 3'\n9. 'Not divisible by 2 and 3'\n10. 'Not divisible by 2 and 3'\n\n\n",
            "text/latex": "\\begin{enumerate*}\n\\item 'Not divisible by 2 and 3'\n\\item 'Not divisible by 2 and 3'\n\\item 'Not divisible by 2 and 3'\n\\item 'Not divisible by 2 and 3'\n\\item 'Not divisible by 2 and 3'\n\\item 'Divisible by 2 and 3'\n\\item 'Not divisible by 2 and 3'\n\\item 'Not divisible by 2 and 3'\n\\item 'Not divisible by 2 and 3'\n\\item 'Not divisible by 2 and 3'\n\\end{enumerate*}\n",
            "text/plain": [
              " [1] \"Not divisible by 2 and 3\" \"Not divisible by 2 and 3\"\n",
              " [3] \"Not divisible by 2 and 3\" \"Not divisible by 2 and 3\"\n",
              " [5] \"Not divisible by 2 and 3\" \"Divisible by 2 and 3\"    \n",
              " [7] \"Not divisible by 2 and 3\" \"Not divisible by 2 and 3\"\n",
              " [9] \"Not divisible by 2 and 3\" \"Not divisible by 2 and 3\""
            ]
          },
          "metadata": {}
        }
      ]
    },
    {
      "cell_type": "markdown",
      "source": [
        "## For Loops"
      ],
      "metadata": {
        "id": "yFEqF6UD44L_"
      }
    },
    {
      "cell_type": "code",
      "source": [
        "#We define a for-loop like so\n",
        "iterable_object <- c(2,5,7,8) #this can be any iterable object including a list, matrix, array, etc.\n",
        "for (counter_name in iterable_object){\n",
        "  print(counter_name)\n",
        "}\n"
      ],
      "metadata": {
        "colab": {
          "base_uri": "https://localhost:8080/"
        },
        "id": "3X-xmDBa-xxg",
        "outputId": "0cc4baa9-83da-4901-fbe7-72967e1a6eb4"
      },
      "execution_count": null,
      "outputs": [
        {
          "output_type": "stream",
          "name": "stdout",
          "text": [
            "[1] 2\n",
            "[1] 5\n",
            "[1] 7\n",
            "[1] 8\n",
            "[1] 2\n",
            "[1] 5\n",
            "[1] 7\n",
            "[1] 8\n"
          ]
        }
      ]
    },
    {
      "cell_type": "code",
      "source": [
        "#Like other languages, we cannot just redefine the counter inside the loop, it will always follow the order of the iterable_object\n",
        "iterable_object <- c(2,5,7,8)\n",
        "for (counter_name in iterable_object){\n",
        "  print(counter_name)\n",
        "  counter_name <- 3\n",
        "}"
      ],
      "metadata": {
        "colab": {
          "base_uri": "https://localhost:8080/"
        },
        "id": "XYn4PM0AHm4T",
        "outputId": "9358c315-50e8-4336-df89-dada7e96e8ed"
      },
      "execution_count": null,
      "outputs": [
        {
          "output_type": "stream",
          "name": "stdout",
          "text": [
            "[1] 2\n",
            "[1] 5\n",
            "[1] 7\n",
            "[1] 8\n"
          ]
        }
      ]
    },
    {
      "cell_type": "code",
      "source": [
        "iterable_object <- matrix(c(1:10),5,2)\n",
        "\n",
        "#We can also nest loops\n",
        "for(counter_name in c(1:nrow(iterable_object))){\n",
        "  for(nested_counter in c(1:ncol(iterable_object))){\n",
        "    #paste() concatenates character strings using a defined separator (sep =)\n",
        "    print(paste(counter_name,nested_counter,iterable_object[counter_name,nested_counter],sep=\", \"))\n",
        "  }\n",
        "}"
      ],
      "metadata": {
        "colab": {
          "base_uri": "https://localhost:8080/"
        },
        "id": "fWv2BvX5HrAI",
        "outputId": "5672fa4f-447d-4fc5-e9a6-2a88268143c2"
      },
      "execution_count": null,
      "outputs": [
        {
          "output_type": "stream",
          "name": "stdout",
          "text": [
            "[1] \"1, 1, 1\"\n",
            "[1] \"1, 2, 6\"\n",
            "[1] \"2, 1, 2\"\n",
            "[1] \"2, 2, 7\"\n",
            "[1] \"3, 1, 3\"\n",
            "[1] \"3, 2, 8\"\n",
            "[1] \"4, 1, 4\"\n",
            "[1] \"4, 2, 9\"\n",
            "[1] \"5, 1, 5\"\n",
            "[1] \"5, 2, 10\"\n"
          ]
        }
      ]
    },
    {
      "cell_type": "markdown",
      "source": [
        "## While Loops"
      ],
      "metadata": {
        "id": "FptgAw3J46CP"
      }
    },
    {
      "cell_type": "markdown",
      "source": [
        "Just like while loops in other languages, make sure you don't code an infinite loop!!"
      ],
      "metadata": {
        "id": "LcsnphQ4zxXM"
      }
    },
    {
      "cell_type": "code",
      "source": [
        "#We define a while loop like so\n",
        "counter <- 5\n",
        "#The loop condition will coerce whatever is passed in to a single logical value (TRUE or FALSE)\n",
        "#Remembering back our rules of type conversion, R interprets all non-zero numbers as TRUE and 0 as FALSE\n",
        "#This loop will end when counter gets set down to 0, resulting in FALSE and the loop stopping\n",
        "while(counter){\n",
        "  counter = counter - 1\n",
        "  print(counter)\n",
        "}"
      ],
      "metadata": {
        "colab": {
          "base_uri": "https://localhost:8080/"
        },
        "id": "elWD0wcjy1H2",
        "outputId": "443342e2-f5c6-4e5d-8961-8e75497445df"
      },
      "execution_count": null,
      "outputs": [
        {
          "output_type": "stream",
          "name": "stdout",
          "text": [
            "[1] 4\n",
            "[1] 3\n",
            "[1] 2\n",
            "[1] 1\n",
            "[1] 0\n"
          ]
        }
      ]
    },
    {
      "cell_type": "code",
      "source": [
        "#We can use 'next' to skip the current iteration and go to the next one\n",
        "counter <- 5\n",
        "while(counter){\n",
        "  counter = counter - 1\n",
        "  if (counter == 3){\n",
        "    print(\"let's just skip 3\")\n",
        "    next\n",
        "  }\n",
        "  print(counter)\n",
        "}"
      ],
      "metadata": {
        "colab": {
          "base_uri": "https://localhost:8080/"
        },
        "id": "R3y1OCQnz3fy",
        "outputId": "acb40bc3-eaec-4ae3-bd6e-1d653decce5a"
      },
      "execution_count": null,
      "outputs": [
        {
          "output_type": "stream",
          "name": "stdout",
          "text": [
            "[1] 4\n",
            "[1] \"let's just skip 3\"\n",
            "[1] 3\n",
            "[1] 2\n",
            "[1] 1\n",
            "[1] 0\n"
          ]
        }
      ]
    },
    {
      "cell_type": "code",
      "source": [
        "#We can also use 'break' to end the loop early\n",
        "counter <- 5\n",
        "while(counter){\n",
        "  counter = counter - 1\n",
        "  if (counter == 3){\n",
        "    print(\"i'm too impatient for this, get it over with!\")\n",
        "    break\n",
        "  }\n",
        "  print(counter)\n",
        "}"
      ],
      "metadata": {
        "colab": {
          "base_uri": "https://localhost:8080/"
        },
        "id": "h8fwiqkP0juj",
        "outputId": "f4b73cc0-f587-4aa6-e11c-eacd9f2c2b54"
      },
      "execution_count": null,
      "outputs": [
        {
          "output_type": "stream",
          "name": "stdout",
          "text": [
            "[1] 4\n",
            "[1] \"i'm too impatient for this, get it over with!\"\n"
          ]
        }
      ]
    },
    {
      "cell_type": "markdown",
      "source": [
        "# Defining Our Own Functions\n",
        "---"
      ],
      "metadata": {
        "id": "DHEUwDKOENVd"
      }
    },
    {
      "cell_type": "markdown",
      "source": [
        "We have talked a lot about built-in functions in R, but we can also define our own using `function()`:"
      ],
      "metadata": {
        "id": "hcafJu-MdXIx"
      }
    },
    {
      "cell_type": "code",
      "source": [
        "new_function <- function(par1,par2,par3){\n",
        "  if (par1+par2+par3>3){\n",
        "    return(\"Large Sum\")\n",
        "  }\n",
        "  return(\"Small Sum\")\n",
        "}\n",
        "\n",
        "new_function(1,2,3)\n",
        "new_function(1,0,2)"
      ],
      "metadata": {
        "colab": {
          "base_uri": "https://localhost:8080/",
          "height": 52
        },
        "id": "nZFPCi8peaAY",
        "outputId": "0b904b68-518b-4d60-b20c-3a9853771977"
      },
      "execution_count": null,
      "outputs": [
        {
          "output_type": "display_data",
          "data": {
            "text/html": [
              "'Large Sum'"
            ],
            "text/markdown": "'Large Sum'",
            "text/latex": "'Large Sum'",
            "text/plain": [
              "[1] \"Large Sum\""
            ]
          },
          "metadata": {}
        },
        {
          "output_type": "display_data",
          "data": {
            "text/html": [
              "'Small Sum'"
            ],
            "text/markdown": "'Small Sum'",
            "text/latex": "'Small Sum'",
            "text/plain": [
              "[1] \"Small Sum\""
            ]
          },
          "metadata": {}
        }
      ]
    },
    {
      "cell_type": "code",
      "source": [
        "#We can also define default parameters using =\n",
        "newer_function <- function(par1=0,par2=0,par3){\n",
        "  if (par1+par2+par3>3){\n",
        "    return(\"Large Sum\")\n",
        "  }\n",
        "  return(\"Small Sum\")\n",
        "}\n",
        "\n",
        "#When we don't pass in a value for a parameter in a call, it will use the default parameter\n",
        "newer_function(par1=4,par3=1)\n",
        "newer_function(par3=2)"
      ],
      "metadata": {
        "colab": {
          "base_uri": "https://localhost:8080/",
          "height": 52
        },
        "id": "m74Ye3iUgKWg",
        "outputId": "cea18c9c-24cc-4395-e671-9960411461ad"
      },
      "execution_count": null,
      "outputs": [
        {
          "output_type": "display_data",
          "data": {
            "text/html": [
              "'Large Sum'"
            ],
            "text/markdown": "'Large Sum'",
            "text/latex": "'Large Sum'",
            "text/plain": [
              "[1] \"Large Sum\""
            ]
          },
          "metadata": {}
        },
        {
          "output_type": "display_data",
          "data": {
            "text/html": [
              "'Small Sum'"
            ],
            "text/markdown": "'Small Sum'",
            "text/latex": "'Small Sum'",
            "text/plain": [
              "[1] \"Small Sum\""
            ]
          },
          "metadata": {}
        }
      ]
    },
    {
      "cell_type": "markdown",
      "source": [
        "# Activity: Making a Monte Carlo Simulation in R!\n",
        "---"
      ],
      "metadata": {
        "id": "E0Lg8OCWy82A"
      }
    },
    {
      "cell_type": "markdown",
      "source": [
        "Try to solve this integral (and **NO** looking it up!):\n",
        "\n",
        "$$\\int^{2}_{-2}{e^{-x^2}}dx$$\n",
        "\n",
        "**Spoiler Alert**: You probably can't. At least by hand, that is! This is where something in statistics called a *Monte Carlo Simulation* comes in and can help us approximate this value using random sampling.\n",
        "\n",
        "For those of us unfamiliar, this integral is pretty much just the area under the curve $e^{-x^2}$ and above the x-axis from $x=-2$ to $x=2$. We can imagine our function placed inside a box from $x=-2$ to $x=2$ and $y=0$ to $y=2$ like so:"
      ],
      "metadata": {
        "id": "FJtBR9EQzSEp"
      }
    },
    {
      "cell_type": "markdown",
      "source": [
        "![monte.png](data:image/png;base64,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)"
      ],
      "metadata": {
        "id": "20Hy5_MMPTWP"
      }
    },
    {
      "cell_type": "markdown",
      "source": [
        "If we were to place points uniformly at random within this defined box, we would expect exactly $\\frac{A_1}{A_2}$, where $A_1$ is the area under the curve (a.k.a the value of interest) and $A_2$ is the area of the entire box, of the points to fall under the curve. This means if we take an estimate for this proportion of points ($\\frac{A_1}{A_2}$) and multiply it by $A_2$, we should get an approximation for $A_1$, which is what we want!\n",
        "\n",
        "\n"
      ],
      "metadata": {
        "id": "O4JdrzQaPVrv"
      }
    },
    {
      "cell_type": "markdown",
      "source": [
        "A Monte Carlo algorithm does exactly this:\n",
        "\n",
        "\n",
        "1. Samples a random point within the defined box\n",
        "\n",
        "2. Decides if that point lies under the curve of interest (in our case, $e^{-x^2}$)\n",
        "\n",
        "3. If the point does lie under the curve, it increments a counter of random points sampled that lie under the curve; it also increments another counter regardless of if the point lies under the curve to keep track of the total number of points sampled\n",
        "\n",
        "4. Repeats Steps 1-4 many times (until a certain number of points are sampled, typically)\n",
        "\n",
        "5. Calculates the proportion of sampled points that fell under the curve by taking the ratio of the two counters\n",
        "\n",
        "6. Finally, it calculates the area of interest by taking the proportion calculated in Step 5 and multiplying it by the area of the entire box (in our case, $4\\cdot2=8$)"
      ],
      "metadata": {
        "id": "uUlFVuOySL6t"
      }
    },
    {
      "cell_type": "markdown",
      "source": [
        "It follows from the *Law of Large Numbers* that the more random points we sample using the Monte Carlo method, the more accurate our approximation gets!"
      ],
      "metadata": {
        "id": "MmLgqFEVSrUP"
      }
    },
    {
      "cell_type": "code",
      "source": [
        "#Let's code a Monte Carlo Algorithm Using what we just learned!\n",
        "\n",
        "#Put code here to define a function called monte_algo with one parameter: n_sample (which will define how many points our simulation draws to make its approximation)\n",
        "#Make the default value of n_sample 10^6\n",
        "#The code after this point should go INSIDE the function\n",
        "monte_algo <- function(n_sample=10^6){\n",
        "  #Put code here to define 2 counter variables (one for the total # of points sampled and another for the # of points sampled that lie under the curve)\n",
        "  #Set them both to 0 to start\n",
        "  counter_total <- 0\n",
        "  counter_under <- 0\n",
        "\n",
        "  #Put code here to loop the following code as long as the # of points sampled is less than n_sample\n",
        "  while(counter_total<n_sample){\n",
        "    #Inside the loop, put code to sample and save a random point in the box from x=-2 to x=2 and y=0 to y=2\n",
        "    #Hint: Use runif()\n",
        "    sample_point <- c(runif(1,-2,2),runif(1,0,2))\n",
        "    #Inside the loop, put code to check if the sampled point is under the curve, and if it is, increment the appropriate counter made at the start by 1\n",
        "    if (sample_point[2]<exp(-(sample_point[1]^2))){\n",
        "      counter_under <- counter_under + 1\n",
        "    }\n",
        "    #Inside the loop, put code to increment the counter for the # of points sampled by 1; do this regardless of if the point sampled lies under the curve or not!\n",
        "    counter_total <- counter_total + 1\n",
        "  }\n",
        "  #Outside the loop, put code to calculate the proportion of points sampled that fell under the curve (take the appropriate ratio of your two counters)\n",
        "  proportion_points <- counter_under/counter_total\n",
        "  #Also outside the loop, put code to return our final approximation (which is defined as the area of the box, or 8, times the proportion we just calculated)\n",
        "  return(proportion_points*8)\n",
        "}\n",
        "\n",
        "#The code after this point should go OUTSIDE the function\n",
        "#Call monte_algo with different values for n_sample; you should notice the higher you make it, the more accurate your approximation gets\n",
        "#For reference, the true value of this integral is about 1.764162781524843 (the exact value cannot be written in terms of elementary functions)\n",
        "\n",
        "monte_algo()\n"
      ],
      "metadata": {
        "colab": {
          "base_uri": "https://localhost:8080/",
          "height": 34
        },
        "id": "8BwODFkRTNtH",
        "outputId": "ec098430-80f1-40ae-a45f-8bd23272f918"
      },
      "execution_count": 1,
      "outputs": [
        {
          "output_type": "display_data",
          "data": {
            "text/html": [
              "1.769008"
            ],
            "text/markdown": "1.769008",
            "text/latex": "1.769008",
            "text/plain": [
              "[1] 1.769008"
            ]
          },
          "metadata": {}
        }
      ]
    },
    {
      "cell_type": "markdown",
      "source": [
        "If you notice your approximation changes across different calls to the algorithm (even with the same value for `n_sample`) that's normal! Remember, this is an approximation based on random sampling, so it is subject to slight changes based on the exact random points sampled that run of the simulation."
      ],
      "metadata": {
        "id": "a7i0hfjlbs-4"
      }
    },
    {
      "cell_type": "markdown",
      "source": [
        "# Final Note: Packages and the Tidyverse\n",
        "---"
      ],
      "metadata": {
        "id": "dpTDzqnQ9CZ0"
      }
    },
    {
      "cell_type": "markdown",
      "source": [
        "So far, everything we have talked about is using the base R suite of functions and syntax. But as I mentioned at the start, the heart of R is in its multitude of packages.\n",
        "\n",
        "Among these, the collection of packages known as the `tidyverse` is a stand-out example of how the functionality we see in base R can be enhanced and greatly added to with the help of packages.\n",
        "\n",
        "`tidyverse` packages are very versatile and redefine a lot of base R functionality but do it better and simpler.\n",
        "\n",
        "In the code below, we are installing and loading the `tidyverse`. You'll notice that when we load `tidyverse`, it prints which packages in the `tidyverse` have been 'attached' (or loaded) as well. This includes what is known as the 7 'core' `tidyverse` packages:\n",
        "\n",
        "1. `forcats` - for categorical data and factors\n",
        "2. `ggplot2` - for producing data visualizations\n",
        "3. `lubridate` - for working with dates and times\n",
        "4. `purrr` - for functional programming (functions and vectors)\n",
        "5. `stringr` - for working with strings / characters\n",
        "6. `tibble` - a new and improved data frame\n",
        "7. `tidyr` - for 'tidying' / cleaning messy data\n",
        "\n",
        "Right below it, you will see a list of 'conflicts'. This is just R notifying you that the names of some base R functions are being \"masked\" by the packages loaded in by `tidyverse`."
      ],
      "metadata": {
        "id": "ZjmTBwA29JCe"
      }
    },
    {
      "cell_type": "code",
      "source": [
        "#Tidyverse is a collection of packages but it can actually be installed and loaded as a 'meta' package:\n",
        "install.packages(\"tidyverse\")\n",
        "#Only loads the 7 core tidyverse packages\n",
        "library(tidyverse)\n",
        "\n",
        "#However, there are more packages included in the tidyverse install; they must be loaded individually however\n",
        "#The following packages are included as part of the tidyverse install (look at what the console prints)\n",
        "tidyverse_packages()"
      ],
      "metadata": {
        "colab": {
          "base_uri": "https://localhost:8080/",
          "height": 260
        },
        "id": "BiQ4C6MK-nwt",
        "outputId": "7e433603-8dd5-4786-c371-3c30c6f2b6b9"
      },
      "execution_count": null,
      "outputs": [
        {
          "output_type": "stream",
          "name": "stderr",
          "text": [
            "Installing package into ‘/usr/local/lib/R/site-library’\n",
            "(as ‘lib’ is unspecified)\n",
            "\n",
            "── \u001b[1mAttaching core tidyverse packages\u001b[22m ──────────────────────── tidyverse 2.0.0 ──\n",
            "\u001b[32m✔\u001b[39m \u001b[34mdplyr    \u001b[39m 1.1.4     \u001b[32m✔\u001b[39m \u001b[34mreadr    \u001b[39m 2.1.5\n",
            "\u001b[32m✔\u001b[39m \u001b[34mforcats  \u001b[39m 1.0.1     \u001b[32m✔\u001b[39m \u001b[34mstringr  \u001b[39m 1.5.2\n",
            "\u001b[32m✔\u001b[39m \u001b[34mlubridate\u001b[39m 1.9.4     \u001b[32m✔\u001b[39m \u001b[34mtibble   \u001b[39m 3.3.0\n",
            "\u001b[32m✔\u001b[39m \u001b[34mpurrr    \u001b[39m 1.1.0     \u001b[32m✔\u001b[39m \u001b[34mtidyr    \u001b[39m 1.3.1\n",
            "── \u001b[1mConflicts\u001b[22m ────────────────────────────────────────── tidyverse_conflicts() ──\n",
            "\u001b[31m✖\u001b[39m \u001b[34mdplyr\u001b[39m::\u001b[32mfilter()\u001b[39m masks \u001b[34mstats\u001b[39m::filter()\n",
            "\u001b[31m✖\u001b[39m \u001b[34mdplyr\u001b[39m::\u001b[32mlag()\u001b[39m    masks \u001b[34mstats\u001b[39m::lag()\n",
            "\u001b[36mℹ\u001b[39m Use the conflicted package (\u001b[3m\u001b[34m<http://conflicted.r-lib.org/>\u001b[39m\u001b[23m) to force all conflicts to become errors\n"
          ]
        },
        {
          "output_type": "display_data",
          "data": {
            "text/html": [
              "<style>\n",
              ".list-inline {list-style: none; margin:0; padding: 0}\n",
              ".list-inline>li {display: inline-block}\n",
              ".list-inline>li:not(:last-child)::after {content: \"\\00b7\"; padding: 0 .5ex}\n",
              "</style>\n",
              "<ol class=list-inline><li>'broom'</li><li>'conflicted'</li><li>'cli'</li><li>'dbplyr'</li><li>'dplyr'</li><li>'dtplyr'</li><li>'forcats'</li><li>'ggplot2'</li><li>'googledrive'</li><li>'googlesheets4'</li><li>'haven'</li><li>'hms'</li><li>'httr'</li><li>'jsonlite'</li><li>'lubridate'</li><li>'magrittr'</li><li>'modelr'</li><li>'pillar'</li><li>'purrr'</li><li>'ragg'</li><li>'readr'</li><li>'readxl'</li><li>'reprex'</li><li>'rlang'</li><li>'rstudioapi'</li><li>'rvest'</li><li>'stringr'</li><li>'tibble'</li><li>'tidyr'</li><li>'xml2'</li><li>'tidyverse'</li></ol>\n"
            ],
            "text/markdown": "1. 'broom'\n2. 'conflicted'\n3. 'cli'\n4. 'dbplyr'\n5. 'dplyr'\n6. 'dtplyr'\n7. 'forcats'\n8. 'ggplot2'\n9. 'googledrive'\n10. 'googlesheets4'\n11. 'haven'\n12. 'hms'\n13. 'httr'\n14. 'jsonlite'\n15. 'lubridate'\n16. 'magrittr'\n17. 'modelr'\n18. 'pillar'\n19. 'purrr'\n20. 'ragg'\n21. 'readr'\n22. 'readxl'\n23. 'reprex'\n24. 'rlang'\n25. 'rstudioapi'\n26. 'rvest'\n27. 'stringr'\n28. 'tibble'\n29. 'tidyr'\n30. 'xml2'\n31. 'tidyverse'\n\n\n",
            "text/latex": "\\begin{enumerate*}\n\\item 'broom'\n\\item 'conflicted'\n\\item 'cli'\n\\item 'dbplyr'\n\\item 'dplyr'\n\\item 'dtplyr'\n\\item 'forcats'\n\\item 'ggplot2'\n\\item 'googledrive'\n\\item 'googlesheets4'\n\\item 'haven'\n\\item 'hms'\n\\item 'httr'\n\\item 'jsonlite'\n\\item 'lubridate'\n\\item 'magrittr'\n\\item 'modelr'\n\\item 'pillar'\n\\item 'purrr'\n\\item 'ragg'\n\\item 'readr'\n\\item 'readxl'\n\\item 'reprex'\n\\item 'rlang'\n\\item 'rstudioapi'\n\\item 'rvest'\n\\item 'stringr'\n\\item 'tibble'\n\\item 'tidyr'\n\\item 'xml2'\n\\item 'tidyverse'\n\\end{enumerate*}\n",
            "text/plain": [
              " [1] \"broom\"         \"conflicted\"    \"cli\"           \"dbplyr\"       \n",
              " [5] \"dplyr\"         \"dtplyr\"        \"forcats\"       \"ggplot2\"      \n",
              " [9] \"googledrive\"   \"googlesheets4\" \"haven\"         \"hms\"          \n",
              "[13] \"httr\"          \"jsonlite\"      \"lubridate\"     \"magrittr\"     \n",
              "[17] \"modelr\"        \"pillar\"        \"purrr\"         \"ragg\"         \n",
              "[21] \"readr\"         \"readxl\"        \"reprex\"        \"rlang\"        \n",
              "[25] \"rstudioapi\"    \"rvest\"         \"stringr\"       \"tibble\"       \n",
              "[29] \"tidyr\"         \"xml2\"          \"tidyverse\"    "
            ]
          },
          "metadata": {}
        }
      ]
    },
    {
      "cell_type": "markdown",
      "source": [
        "Unfortunately, we just don't have enough time to get into the `tidyverse` today but I highly recommend looking into its documentation and suite of functions if you ever find yourself looking for a solution to some data problem.\n",
        "\n",
        "You can find more information on `tidyverse` and its packages either by reading the documentation or going to [this webpage ](https://www.tidyverse.org/packages/) which gives a cute little intro tidbit about each `tidyverse` package and links to where you can read more about each one.  "
      ],
      "metadata": {
        "id": "RNSjUz-aC9kH"
      }
    }
  ]
}